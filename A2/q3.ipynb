{
 "cells": [
  {
   "cell_type": "markdown",
   "metadata": {
    "id": "FL6KyPn3TrC8"
   },
   "source": [
    "\n",
    "1. You are provided the titanic dataset. Load the dataset and perform splitting into training and test sets with 70:30 ratio randomly using test train split.\n",
    "2. Use the Logistic regression created from scratch (from the prev question) in this question as well.\n",
    "3. Data cleaning plays a major role in this question. Report all the methods used by you in the ipynb.\n",
    "\n",
    "--> \n",
    "\n",
    "i. Check for missing values\n",
    "\n",
    "ii. Drop Columns & Handle missing values\n",
    "\n",
    "iii. Create dummies for categorical features\n",
    "\n",
    "you are free to perform other data cleaning to improve your results.\n",
    "\n",
    "\n",
    "\n",
    "4. Report accuracy score, Confusion matrix, heat map, classifiaction report and any other metrics you feel useful."
   ]
  },
  {
   "cell_type": "markdown",
   "metadata": {
    "id": "Gyr9VuC1TrC-"
   },
   "source": [
    "dataset link : \n",
    "https://iiitaphyd-my.sharepoint.com/:f:/g/personal/apurva_jadhav_students_iiit_ac_in/Eictt5_qmoxNqezgQQiMWeIBph4sxlfA6jWAJNPnV2SF9Q?e=mQmYN0 \n",
    "\n",
    "(titanic.csv)\n"
   ]
  },
  {
   "cell_type": "code",
   "execution_count": null,
   "metadata": {
    "id": "ULHE1xm0Uo5_"
   },
   "outputs": [],
   "source": [
    "import pandas as pd\n",
    "import numpy as np\n",
    "import matplotlib.pyplot as plt\n",
    "from sklearn.model_selection import train_test_split\n",
    "from time import time"
   ]
  },
  {
   "cell_type": "code",
   "execution_count": null,
   "metadata": {
    "id": "vTy7OeKJTrC_"
   },
   "outputs": [],
   "source": [
    "data_source = \"https://raw.githubusercontent.com/Shivsharma779/SMAI_a3_data_source/main/titanic.csv\"\n",
    "df1 = pd.read_csv(data_source)"
   ]
  },
  {
   "cell_type": "markdown",
   "metadata": {
    "id": "fL1hmSbC-z1K"
   },
   "source": [
    "The missing values can be seen below"
   ]
  },
  {
   "cell_type": "code",
   "execution_count": null,
   "metadata": {
    "colab": {
     "base_uri": "https://localhost:8080/"
    },
    "id": "U-TINSXhYLeA",
    "outputId": "4065f739-9faf-42d1-ead6-5b4629da811a"
   },
   "outputs": [
    {
     "data": {
      "text/plain": [
       "PassengerId      0\n",
       "Survived         0\n",
       "Pclass           0\n",
       "Name             0\n",
       "Sex              0\n",
       "Age            177\n",
       "SibSp            0\n",
       "Parch            0\n",
       "Ticket           0\n",
       "Fare             0\n",
       "Cabin          687\n",
       "Embarked         2\n",
       "dtype: int64"
      ]
     },
     "execution_count": 27,
     "metadata": {
      "tags": []
     },
     "output_type": "execute_result"
    }
   ],
   "source": [
    "df1.isnull().sum()"
   ]
  },
  {
   "cell_type": "code",
   "execution_count": null,
   "metadata": {
    "id": "-f0x4ZAhlSA9"
   },
   "outputs": [],
   "source": [
    "def normalise(X):\n",
    "    return np.subtract(X,X.min())/np.subtract(X.max(),X.min())"
   ]
  },
  {
   "cell_type": "markdown",
   "metadata": {
    "id": "Y4mn78O8FHRd"
   },
   "source": [
    "In the following cell these operation were performed:\n",
    "1. There were three columns with missing values namely Age, Cabin and Embarked. The missing values were handled in the following manner\n",
    "  - As Cabin had a large no missing values it was dropped from the dataset\n",
    "  - The Embarked column was filled with mode of the column that turned out to be 'S'\n",
    "  - Age's missing values were filled with the mean\n",
    "2. The column's Name, Ticket and PassengerId does not contribute to the survival of the passenger hence they were dropped.\n",
    "3. The PClass and Embarked are of string type and pandas function of get dummies was used to convert it into one hot encoding, later one column was dropped as the information about that column can be gained through the remaining column\n",
    "\n"
   ]
  },
  {
   "cell_type": "code",
   "execution_count": null,
   "metadata": {
    "id": "tY20LZE_3V92"
   },
   "outputs": [],
   "source": [
    "df1  =  df1.drop(['Cabin'],axis = 1)\n",
    "df1[\"Embarked\"].fillna(df1[\"Embarked\"].mode(),inplace = True)\n",
    "df1[\"Age\"].fillna(df1[\"Age\"].mean(),inplace = True)\n",
    "\n",
    "df1  =  df1.drop(['PassengerId'],axis = 1)\n",
    "df1  =  df1.drop(['Name'],axis = 1)\n",
    "df1  =  df1.drop(['Ticket'],axis = 1)\n",
    "\n",
    "\n",
    "df1 = pd.get_dummies(df1,columns = [\"Embarked\"])\n",
    "df1 = pd.get_dummies(df1,columns = [\"Pclass\"])\n",
    "df1 = pd.get_dummies(df1,columns = [\"Sex\"])\n",
    "\n",
    "df1  =  df1.drop(['Pclass_1'],axis = 1)\n",
    "df1  =  df1.drop(['Embarked_Q'],axis = 1)\n",
    "df1  =  df1.drop(['Sex_female'],axis = 1)\n",
    "\n"
   ]
  },
  {
   "cell_type": "code",
   "execution_count": null,
   "metadata": {
    "id": "zje3Rk5G_9ky"
   },
   "outputs": [],
   "source": [
    "from sklearn.model_selection import train_test_split\n",
    "X = df1.iloc[:,df1.columns!='Survived']\n",
    "y = df1.iloc[:,df1.columns=='Survived']\n",
    "X = normalise(X)\n",
    "X_train, X_test, Y_train, Y_test = train_test_split(X, y, test_size=0.3)"
   ]
  },
  {
   "cell_type": "markdown",
   "metadata": {
    "id": "Xt_EGVoOHW-W"
   },
   "source": [
    "# Logistic Regression Model"
   ]
  },
  {
   "cell_type": "markdown",
   "metadata": {
    "id": "HuQE4zAVISD3"
   },
   "source": [
    "Logistic regression from scratch using gradient descent with learning rate=0.5 and epoch = 50000"
   ]
  },
  {
   "cell_type": "code",
   "execution_count": null,
   "metadata": {
    "colab": {
     "base_uri": "https://localhost:8080/"
    },
    "id": "eK1Vk-MRU3l-",
    "outputId": "3d9fc613-2d7f-4b13-8fe9-19f3322a3d40"
   },
   "outputs": [
    {
     "name": "stdout",
     "output_type": "stream",
     "text": [
      "Training time:  2.2428219318389893\n"
     ]
    }
   ],
   "source": [
    "W = np.zeros(((X_train.shape[1]),1))\n",
    "W_ = np.random.rand(1)\n",
    "\n",
    "def pred_y(W,W_,X):\n",
    "  return sigmoid(np.dot(X,W)+W_)\n",
    "def sigmoid(X):\n",
    "  return 1/(1+np.exp(-X.astype(float)))\n",
    "\n",
    "def cost_func(W,W_,X,Y):\n",
    "    h = pred_y(W,W_,X)    \n",
    "    return (-1/len(X))*np.sum(Y*np.log(h) + (1-Y)*np.log(1-h))\n",
    "\n",
    "def pred_label(W,W_,X):\n",
    "  return np.where(pred_y(W,W_,X)>=0.5,1,0)\n",
    "\n",
    "def train(W,W_,X,Y,l,epoch):\n",
    "    m = len(X[:,0])\n",
    "    for i in range(epoch):\n",
    "            \n",
    "            error_y = pred_y(W,W_,X)-Y\n",
    "            \n",
    "            delta = (l/m) * np.dot(error_y.T, X)\n",
    "            tempW = W - delta.T  \n",
    "            tempW_ = W_ - l/m * np.sum(error_y)\n",
    "            W,W_ = tempW,tempW_\n",
    "#             print(cost_func(W,W_,X,Y))\n",
    "    return W,W_\n",
    "\n",
    "start = time()\n",
    "z,z_= train(W,W_,X_train.to_numpy(),Y_train.to_numpy(),0.5,50000)\n",
    "end = time()\n",
    "print(\"Training time: \",end-start)"
   ]
  },
  {
   "cell_type": "markdown",
   "metadata": {
    "id": "IhGE1MTFHld2"
   },
   "source": [
    "**MODEL METRICS:**"
   ]
  },
  {
   "cell_type": "code",
   "execution_count": null,
   "metadata": {
    "colab": {
     "base_uri": "https://localhost:8080/"
    },
    "id": "C_H4v2AI99aK",
    "outputId": "3850f622-ecab-4c75-98c2-604cb145b1b0"
   },
   "outputs": [
    {
     "name": "stdout",
     "output_type": "stream",
     "text": [
      "-----------------------------\n",
      "Accuracy Score:  0.8097014925373134\n",
      "-----------------------------\n",
      "Confusion Matrix:\n",
      " [[142  40]\n",
      " [ 11  75]]\n",
      "-----------------------------\n",
      "Classification Report:\n",
      "               precision    recall  f1-score   support\n",
      "\n",
      "           0       0.93      0.78      0.85       182\n",
      "           1       0.65      0.87      0.75        86\n",
      "\n",
      "    accuracy                           0.81       268\n",
      "   macro avg       0.79      0.83      0.80       268\n",
      "weighted avg       0.84      0.81      0.82       268\n",
      "\n"
     ]
    }
   ],
   "source": [
    "from sklearn.metrics import confusion_matrix,classification_report,accuracy_score\n",
    "my_model_prediction = pred_label(z,z_,X_test)\n",
    "print(\"-----------------------------\\nAccuracy Score: \", accuracy_score(my_model_prediction,Y_test))\n",
    "print(\"-----------------------------\\nConfusion Matrix:\\n\", confusion_matrix(my_model_prediction,Y_test))\n",
    "print(\"-----------------------------\\nClassification Report:\\n\",classification_report(my_model_prediction,Y_test))"
   ]
  },
  {
   "cell_type": "markdown",
   "metadata": {
    "id": "yYO_hXpEH80G"
   },
   "source": [
    "# SKlearn Model Metrics:"
   ]
  },
  {
   "cell_type": "code",
   "execution_count": null,
   "metadata": {
    "colab": {
     "base_uri": "https://localhost:8080/"
    },
    "id": "C4aME8y9o58x",
    "outputId": "aa9e3692-96ba-4659-b141-f69a509cf082"
   },
   "outputs": [
    {
     "name": "stdout",
     "output_type": "stream",
     "text": [
      "-----------------------------\n",
      "Accuracy Score:  0.8097014925373134\n",
      "-----------------------------\n",
      "Confusion Matrix:\n",
      " [[141  39]\n",
      " [ 12  76]]\n",
      "-----------------------------\n",
      "Classification Report:\n",
      "               precision    recall  f1-score   support\n",
      "\n",
      "           0       0.92      0.78      0.85       180\n",
      "           1       0.66      0.86      0.75        88\n",
      "\n",
      "    accuracy                           0.81       268\n",
      "   macro avg       0.79      0.82      0.80       268\n",
      "weighted avg       0.84      0.81      0.81       268\n",
      "\n"
     ]
    }
   ],
   "source": [
    "from sklearn.linear_model import LogisticRegression\n",
    "# Y_test = Y_test.to_numpy()\n",
    "model = LogisticRegression()\n",
    "model.fit(X_train, Y_train.to_numpy().flatten())\n",
    "sklearn_model_prediction = model.predict(X_test)\n",
    "print(\"-----------------------------\\nAccuracy Score: \", accuracy_score(sklearn_model_prediction,Y_test))\n",
    "print(\"-----------------------------\\nConfusion Matrix:\\n\", confusion_matrix(sklearn_model_prediction,Y_test))\n",
    "print(\"-----------------------------\\nClassification Report:\\n\",classification_report(sklearn_model_prediction,Y_test))"
   ]
  },
  {
   "cell_type": "markdown",
   "metadata": {
    "id": "VDaikfWYH5Xl"
   },
   "source": [
    "# Heatmap"
   ]
  },
  {
   "cell_type": "code",
   "execution_count": null,
   "metadata": {
    "colab": {
     "base_uri": "https://localhost:8080/",
     "height": 348
    },
    "id": "BIN-Kg1F4sVZ",
    "outputId": "05b056bb-1898-47ea-e848-7aad2a581892"
   },
   "outputs": [
    {
     "data": {
      "text/plain": [
       "<matplotlib.axes._subplots.AxesSubplot at 0x7fdf0ce75810>"
      ]
     },
     "execution_count": 41,
     "metadata": {
      "tags": []
     },
     "output_type": "execute_result"
    },
    {
     "data": {
      "image/png": "[encoded data removed]",
      "text/plain": [
       "<Figure size 432x288 with 2 Axes>"
      ]
     },
     "metadata": {
      "tags": []
     },
     "output_type": "display_data"
    }
   ],
   "source": [
    "import seaborn \n",
    "seaborn.set_theme()\n",
    "seaborn.heatmap(df1.corr())"
   ]
  }
 ],
 "metadata": {
  "colab": {
   "collapsed_sections": [],
   "name": "question3_shiv.ipynb",
   "provenance": []
  },
  "kernelspec": {
   "display_name": "Python 3",
   "language": "python",
   "name": "python3"
  },
  "language_info": {
   "codemirror_mode": {
    "name": "ipython",
    "version": 3
   },
   "file_extension": ".py",
   "mimetype": "text/x-python",
   "name": "python",
   "nbconvert_exporter": "python",
   "pygments_lexer": "ipython3",
   "version": "3.6.11"
  }
 },
 "nbformat": 4,
 "nbformat_minor": 4
}
