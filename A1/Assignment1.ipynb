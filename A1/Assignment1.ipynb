{
 "cells": [
  {
   "cell_type": "markdown",
   "metadata": {
    "id": "V5RPXC993g5f"
   },
   "source": [
    "**INSTRUCTIONS**"
   ]
  },
  {
   "cell_type": "markdown",
   "metadata": {
    "id": "wc6StAvu3oRv"
   },
   "source": [
    "\n",
    "\n",
    "1.  The assignment contains four questions. A few bonus questions are mentioned. \n",
    "2.   This assignment is due on **6th Feb, 23:59 **(**No Further extensions**).\n",
    "3.   Assignment must be implemented in Python 3 only.\n",
    "4.   You are allowed to use libraries for data preprocessing (numpy, pandas etc) and for evaluation metrics, data visualization (matplotlib etc.).\n",
    "5.   You will be evaluated not just on the overall performance of the model and also on the experimentation with hyper parameters, data prepossessing techniques etc.\n",
    "6.   The report file must be a well documented jupyter notebook, explaining the experiments you have performed, evaluation metrics and corresponding code. The code must run and be able to reproduce the accuracies, figures/graphs etc.\n",
    "7.   For all the questions, you must create a train-validation data split and test the hyperparameter tuning on the validation set. Your jupyter notebook must reflect the same.\n",
    "8.   Any attempts at **plagiarism will be penalized heavily**.\n",
    "9.   Make sure you run and save your notebooks before submission.\n",
    "10.  For question 3 of the Decision Trees section, output your model's depth first traversal into ```outputimp.txt``` and submit it along with the ipynb file.\n",
    "10. Naming convention for the ipynb file is ```<roll_number>_assign1.ipynb```\n",
    "11. Compress your submission files into a zip file with the naming convention: ```<roll_number>_assign1.zip``` and submit in the portal."
   ]
  },
  {
   "cell_type": "markdown",
   "metadata": {
    "id": "nncP5eQd0IXL"
   },
   "source": [
    "#**1) REGRESSION**\n",
    "\n",
    "Please find the Diamond Price Prediction Data set https://drive.google.com/drive/folders/1qE1tm3Ke3uotTyv6SUqruI09t-AkcwRK?usp=sharing. \"description.txt\" contains the feature description of data, \"diamonds.csv\" has the data."
   ]
  },
  {
   "cell_type": "code",
   "execution_count": 1,
   "metadata": {
    "id": "EhFbx6v-4SP8"
   },
   "outputs": [],
   "source": [
    "# To read data from diamonds.csv\n",
    "import pandas as pd\n",
    "import math \n",
    "import numpy as np\n",
    "import time\n",
    "import matplotlib.pyplot as plt\n",
    "headers = [\"carat\",\t\"cut\",\"color\",\"clarity\",\"depth\",\"table\",\"price\",\"x\",\"y\",\"z\"]\n",
    "data = pd.read_csv('diamonds.csv', na_values='?',    \n",
    "         header=None,  names = headers) \n",
    "data = data.reset_index(drop=True)\n",
    "data = data.iloc[1:]\n",
    "data.describe()\n",
    "data_one_hot = data"
   ]
  },
  {
   "cell_type": "markdown",
   "metadata": {
    "id": "p64BQ-W3zpkM"
   },
   "source": [
    "\n",
    "\n",
    "```\n",
    "# This is formatted as code\n",
    "```\n",
    "\n",
    "**KNN Regression [Diamond Price Prediction Dataset]**"
   ]
  },
  {
   "cell_type": "markdown",
   "metadata": {
    "id": "pi5z3DDg04cc"
   },
   "source": [
    "1. a) Build a knn regression algorithm [using only python from scratch] to predict the price of diamonds."
   ]
  },
  {
   "cell_type": "code",
   "execution_count": 2,
   "metadata": {
    "id": "8kcAcD2T3Hsh"
   },
   "outputs": [],
   "source": [
    "\"\"\"\n",
    "CONVERSION FROM CATEGORICAL TO ORDINAL\n",
    "\"\"\"\n",
    "from sklearn.preprocessing import OrdinalEncoder\n",
    "cut = [\"Fair\", \"Good\", \"Very Good\", \"Premium\", \"Ideal\"]\n",
    "color = [(chr(ord(\"J\")-i)) for i in range(7)]\n",
    "clarity = [\"I1\" , \"SI2\", \"SI1\", \"VS2\", \"VS1\", \"VVS2\", \"VVS1\", \"IF\" ]\n",
    "ordi = OrdinalEncoder(categories=[cut,color,clarity])\n",
    "ordi.fit(data[['cut','color','clarity']])\n",
    "data[['cut','color','clarity']] =  ordi.transform(data[['cut','color','clarity']])\n",
    "for col in data.columns:\n",
    "    data[col] = pd.to_numeric(data[col])"
   ]
  },
  {
   "cell_type": "code",
   "execution_count": 3,
   "metadata": {},
   "outputs": [],
   "source": [
    "\n",
    "\"\"\"\n",
    "HELPER FUNCTIONS:\n",
    "\"\"\"\n",
    "def min_max_scaler(X):\n",
    "    return (X-X.min())/(X.max()-X.min())\n",
    "def euclid_distane(point1, point2):\n",
    "    return (np.sqrt(np.sum((point1-point2)**2,axis=1)))\n",
    "def manhattan_distance(point1,point2):\n",
    "    return (np.sum(np.absolute(point1-point2),axis=1))\n",
    "def hamming_distance(point1,point2):\n",
    "    return np.sum(point1 == point2,axis=1)\n",
    "\n",
    "def mse(actual,predicted):\n",
    "    return (np.mean(np.power(actual-predicted,2)))\n",
    "def mae(actual,predicted):\n",
    "    return np.mean(np.absolute(predicted - actual))\n",
    "def r2(actual,predicted):\n",
    "    return 1-np.divide(np.sum(np.subtract(actual,predicted)**2),np.sum(np.subtract(actual,np.mean(actual))**2))"
   ]
  },
  {
   "cell_type": "code",
   "execution_count": 4,
   "metadata": {},
   "outputs": [],
   "source": [
    "\"\"\"\n",
    "MAIN KNN ALGORITHM\n",
    "PARAMTERES: \n",
    "- LIST OF K'S TO RUN\n",
    "- TRAINING X AND Y\n",
    "- TESTING X\n",
    "- LIST OF INDICES OF CATEGORICAL VARIABLES\n",
    "\"\"\"\n",
    "def knn_regressor(k_list,train_x,train_y,input_x,cat_variables_list):\n",
    "    txnp = train_x.to_numpy()\n",
    "    tynp = train_y.to_numpy()\n",
    "    ixnp = input_x.to_numpy()\n",
    "    predicted_y_euclid = np.zeros((len(input_x),len(k_list))) \n",
    "    predicted_y_mannhatan = np.zeros((len(input_x),len(k_list)))\n",
    "    i = 0\n",
    "    \n",
    "    cat_data_tx = txnp[:,cat_variables_list]\n",
    "    cat_data_ix = ixnp[:,cat_variables_list] \n",
    "\n",
    "    for point in ixnp:\n",
    "            distance_vector = euclid_distane(np.delete(txnp,cat_variables_list,1),np.delete(point,cat_variables_list).reshape(1,-1))\n",
    "            cat_point = point[cat_variables_list].reshape(1,-1)\n",
    "            \n",
    "            manhattan_d = manhattan_distance(cat_data_tx,cat_point)\n",
    "            euclid_d = euclid_distane(cat_data_tx,cat_point)\n",
    "            \n",
    "\n",
    "            j=0\n",
    "            for k in k_list:      \n",
    "                k_indexes_e = np.argpartition(np.add(distance_vector,euclid_d),k)[0:k]\n",
    "                k_indexes_m = np.argpartition(np.add(distance_vector,manhattan_d),k)[0:k]\n",
    "                \n",
    "                predicted_y_euclid[i][j] =np.mean(tynp[k_indexes_e])\n",
    "                predicted_y_mannhatan[i][j] =np.mean(tynp[k_indexes_m])\n",
    "                j+=1\n",
    "                      \n",
    "            i+=1\n",
    "    return predicted_y_euclid,predicted_y_mannhatan\n",
    "\n",
    "\n",
    "\n"
   ]
  },
  {
   "cell_type": "code",
   "execution_count": 8,
   "metadata": {
    "id": "0i3Q6iXF3IMj"
   },
   "outputs": [
    {
     "name": "stdout",
     "output_type": "stream",
     "text": [
      "RAN for 53.10304832458496s\n"
     ]
    }
   ],
   "source": [
    "# UN-NORMALISED DATA\n",
    "from sklearn.model_selection import train_test_split\n",
    "\n",
    "X = data.iloc[:,data.columns != \"price\"]\n",
    "Y = data.iloc[:,data.columns == \"price\"]\n",
    "x_train, x_test, y_train, y_test = train_test_split(X,Y,test_size=0.1)\n",
    "x_train, x_val, y_train, y_val_U = train_test_split(x_train,y_train,test_size=0.1)\n",
    "start = time.time()\n",
    "predicted_y_e_U , predicted_y_mannhatan_U = knn_regressor([2,3,5,7,11,16],x_train,y_train,x_val,np.array([1,2,3]))\n",
    "end = time.time()\n",
    "print(\"RAN for \"+str(end-start)+\"s\")"
   ]
  },
  {
   "cell_type": "code",
   "execution_count": 9,
   "metadata": {},
   "outputs": [
    {
     "name": "stdout",
     "output_type": "stream",
     "text": [
      "RAN for 56.325448751449585s\n"
     ]
    }
   ],
   "source": [
    "# NORMALISED DATA\n",
    "from sklearn.model_selection import train_test_split\n",
    "\n",
    "X = data.iloc[:,data.columns != \"price\"]\n",
    "Y = data.iloc[:,data.columns == \"price\"]\n",
    "x_train, x_test, y_train, y_test = train_test_split(X,Y,test_size=0.1)\n",
    "x_train, x_val, y_train, y_val = train_test_split(x_train,y_train,test_size=0.1)\n",
    "X = min_max_scaler(X)\n",
    "start = time.time()\n",
    "predicted_y_e ,  predicted_y_mannhatan = knn_regressor([2,3,5,7,11,16],x_train,y_train,x_val,np.array([1,2,3]))\n",
    "end = time.time()\n",
    "print(\"RAN for \"+str(end-start)+\"s\")"
   ]
  },
  {
   "cell_type": "markdown",
   "metadata": {
    "id": "rdhlOuB_0xGr"
   },
   "source": [
    "1. b) Do we need to normalise data? [If so Does it make any difference?].\n"
   ]
  },
  {
   "cell_type": "code",
   "execution_count": 10,
   "metadata": {},
   "outputs": [
    {
     "name": "stdout",
     "output_type": "stream",
     "text": [
      "\tUNORMALISED\tNormalised\n",
      "r2 0.9342192364240739 \t 0.9460905668087041\n",
      "mae 534.3345005149331 \t 491.98311019567456\n",
      "mse 1111238.213800206 \t 852394.4762100927\n"
     ]
    }
   ],
   "source": [
    "print(\"\\tUNORMALISED\\tNormalised\")\n",
    "print(\"r2\",r2(y_val_U,predicted_y_e_U[:,0].reshape(-1,1))[0],\"\\t\", r2(y_val,predicted_y_e[:,0].reshape(-1,1))[0])\n",
    "print(\"mae\",mae(y_val_U,predicted_y_e_U[:,0].reshape(-1,1))[0],\"\\t\", mae(y_val,predicted_y_e[:,0].reshape(-1,1))[0])\n",
    "print(\"mse\",mse(y_val_U,predicted_y_e_U[:,0].reshape(-1,1))[0],\"\\t\", mse(y_val,predicted_y_e[:,0].reshape(-1,1))[0])\n"
   ]
  },
  {
   "cell_type": "markdown",
   "metadata": {},
   "source": [
    "**Ans**: \n",
    "As seen in the above figures the prediction on an unnormalised data is way off this is because the ranges of different features are different and thus weights of each feature has aneffect if not normalised."
   ]
  },
  {
   "cell_type": "markdown",
   "metadata": {
    "id": "E5bPcmCj0xCn"
   },
   "source": [
    "2. Experiment with different distance measures[Euclidean distance, Manhattan distance, Hamming Distance] to handle categorical attributes."
   ]
  },
  {
   "cell_type": "code",
   "execution_count": 11,
   "metadata": {
    "id": "JVFgXFJM3I0m"
   },
   "outputs": [
    {
     "name": "stdout",
     "output_type": "stream",
     "text": [
      "K=2\t  EUCLID\t\tMANHATTAN\n",
      "r2\t 0.9460905668087041 \t 0.9422249005279154\n",
      "mae\t 491.98311019567456 \t 499.31101956745624\n",
      "mse\t 852394.4762100927 \t 913516.8510813594\n",
      "\n",
      "K=5\t  EUCLID\t\tMANHATTAN\n",
      "r2\t 0.952309969687852 \t 0.9501774110042306\n",
      "mae\t 476.5273738414006 \t 483.9161688980433\n",
      "mse\t 754055.7561441812 \t 787774.924284243\n"
     ]
    }
   ],
   "source": [
    "print(\"K=2\\t  EUCLID\\t\\tMANHATTAN\")\n",
    "print(\"r2\\t\",r2(y_val,predicted_y_e[:,0].reshape(-1,1))[0],\"\\t\", r2(y_val,predicted_y_mannhatan[:,0].reshape(-1,1))[0])\n",
    "print(\"mae\\t\",mae(y_val,predicted_y_e[:,0].reshape(-1,1))[0],\"\\t\", mae(y_val,predicted_y_mannhatan[:,0].reshape(-1,1))[0])\n",
    "print(\"mse\\t\",mse(y_val,predicted_y_e[:,0].reshape(-1,1))[0],\"\\t\", mse(y_val,predicted_y_mannhatan[:,0].reshape(-1,1))[0])\n",
    "\n",
    "print(\"\\nK=5\\t  EUCLID\\t\\tMANHATTAN\")\n",
    "print(\"r2\\t\",r2(y_val,predicted_y_e[:,2].reshape(-1,1))[0],\"\\t\", r2(y_val,predicted_y_mannhatan[:,2].reshape(-1,1))[0])\n",
    "print(\"mae\\t\",mae(y_val,predicted_y_e[:,2].reshape(-1,1))[0],\"\\t\", mae(y_val,predicted_y_mannhatan[:,2].reshape(-1,1))[0])\n",
    "print(\"mse\\t\",mse(y_val,predicted_y_e[:,2].reshape(-1,1))[0],\"\\t\", mse(y_val,predicted_y_mannhatan[:,2].reshape(-1,1))[0])\n"
   ]
  },
  {
   "cell_type": "markdown",
   "metadata": {},
   "source": [
    "**Ans: For the given data**\n",
    "- The `r2 score`, `mae` and `mse` all were less while taking the euclid distance as compared to manhattan\n",
    "- All the errors were decresed for `K=5` as compared to `K=2` in both the distance computation methods"
   ]
  },
  {
   "cell_type": "markdown",
   "metadata": {
    "id": "O64G_tqG0w_l"
   },
   "source": [
    "3. Report Mean Squared Error(MSE), Mean-Absolute-Error(MAE), R-squared (R2) score in a tabular form."
   ]
  },
  {
   "cell_type": "code",
   "execution_count": 12,
   "metadata": {
    "id": "1WGPbWa-3JY7"
   },
   "outputs": [
    {
     "name": "stdout",
     "output_type": "stream",
     "text": [
      "K\t\tMSE\t\t\tMAE\t\t\tR2\n",
      "2\t 852394.4762100927 \t 491.98311019567456 \t 0.9460905668087041\n",
      "3\t 788584.4871495594 \t 482.10738070717474 \t 0.9501262104434339\n",
      "5\t 754055.7561441812 \t 476.5273738414006 \t 0.952309969687852\n",
      "7\t 730670.0156455579 \t 472.9084596145358 \t 0.953788993837146\n",
      "11\t 752266.5571030973 \t 477.41831289205135 \t 0.952423127044995\n",
      "16\t 791806.3818687242 \t 487.0385298661174 \t 0.9499224426774995\n"
     ]
    }
   ],
   "source": [
    "print(\"K\\t\\tMSE\\t\\t\\tMAE\\t\\t\\tR2\")\n",
    "print(\"2\\t\",mse(y_val,predicted_y_e[:,0].reshape(-1,1))[0],\"\\t\", mae(y_val,predicted_y_e[:,0].reshape(-1,1))[0],\"\\t\",r2(y_val,predicted_y_e[:,0].reshape(-1,1))[0])\n",
    "print(\"3\\t\",mse(y_val,predicted_y_e[:,1].reshape(-1,1))[0],\"\\t\", mae(y_val,predicted_y_e[:,1].reshape(-1,1))[0],\"\\t\",r2(y_val,predicted_y_e[:,1].reshape(-1,1))[0])\n",
    "print(\"5\\t\",mse(y_val,predicted_y_e[:,2].reshape(-1,1))[0],\"\\t\", mae(y_val,predicted_y_e[:,2].reshape(-1,1))[0],\"\\t\",r2(y_val,predicted_y_e[:,2].reshape(-1,1))[0])\n",
    "print(\"7\\t\",mse(y_val,predicted_y_e[:,3].reshape(-1,1))[0],\"\\t\", mae(y_val,predicted_y_e[:,3].reshape(-1,1))[0],\"\\t\",r2(y_val,predicted_y_e[:,3].reshape(-1,1))[0])\n",
    "print(\"11\\t\",mse(y_val,predicted_y_e[:,4].reshape(-1,1))[0],\"\\t\", mae(y_val,predicted_y_e[:,4].reshape(-1,1))[0],\"\\t\",r2(y_val,predicted_y_e[:,4].reshape(-1,1))[0])\n",
    "print(\"16\\t\",mse(y_val,predicted_y_e[:,5].reshape(-1,1))[0],\"\\t\", mae(y_val,predicted_y_e[:,5].reshape(-1,1))[0],\"\\t\",r2(y_val,predicted_y_e[:,5].reshape(-1,1))[0])\n"
   ]
  },
  {
   "cell_type": "markdown",
   "metadata": {
    "id": "MA2kN7dL0wjE"
   },
   "source": [
    "4.  a) Choose different K values (k=2,3,5,7,11,16) and experiment. Plot a graph showing R2 score vs k."
   ]
  },
  {
   "cell_type": "code",
   "execution_count": 13,
   "metadata": {
    "id": "Z3VSKWrU3KBT"
   },
   "outputs": [
    {
     "data": {
      "image/png": "[encoded data removed]",
      "text/plain": [
       "<Figure size 432x288 with 1 Axes>"
      ]
     },
     "metadata": {
      "needs_background": "light"
     },
     "output_type": "display_data"
    }
   ],
   "source": [
    "\n",
    "k = [2,3,5,7,11,16]\n",
    "\n",
    "\n",
    "k_score = []\n",
    "for i in range(6):\n",
    "    k_score.append(r2(y_val,predicted_y_e[:,i].reshape(-1,1))[0])\n",
    "plt.plot(k,k_score)\n",
    "plt.show()\n",
    "   "
   ]
  },
  {
   "cell_type": "markdown",
   "metadata": {
    "id": "xgkHg7QL1mzy"
   },
   "source": [
    "4. b) Are the R-squared scores the same? Why / Why not? How do we identify the best K? Suggest a computational procedure, with a logical explanation."
   ]
  },
  {
   "cell_type": "markdown",
   "metadata": {
    "id": "XmFoYY0q3Kyk"
   },
   "source": [
    "ANS: **As seen in the above plot the R2 value changes it reaches a maxima because for small k values the model is overfitted and for large k values even the points which are distanct impacts the value for the prediction.\n",
    "The k- values can be computed using a n fold cross validation leave one out method method. In which we compute errors for different k values by spliting the training data into validation and training.**"
   ]
  },
  {
   "cell_type": "markdown",
   "metadata": {
    "id": "Psho4dHI1wXb"
   },
   "source": [
    "5. a) Also, report the performance of scikit-learn’s kNN regression algorithm.  "
   ]
  },
  {
   "cell_type": "code",
   "execution_count": 14,
   "metadata": {
    "id": "XmBOqvrm3Lkf"
   },
   "outputs": [
    {
     "name": "stdout",
     "output_type": "stream",
     "text": [
      "MAE: 471.58813496477563\n",
      "MSE: 750076.7264961067\n",
      "R2: 0.9498975397976617\n"
     ]
    }
   ],
   "source": [
    "from sklearn.neighbors import KNeighborsRegressor\n",
    "regressor = KNeighborsRegressor(n_neighbors=5)\n",
    "regressor.fit(x_train, y_train)\n",
    "y_pred_sklearn = regressor.predict(x_test.to_numpy())\n",
    "print(\"MAE:\",mae(y_pred_sklearn,y_test)[0])\n",
    "print(\"MSE:\",mse(y_pred_sklearn,y_test)[0])\n",
    "print(\"R2:\",r2(y_pred_sklearn,y_test)[0])"
   ]
  },
  {
   "cell_type": "markdown",
   "metadata": {
    "id": "R7ZzdSUu2Iez"
   },
   "source": [
    "5. b) Compare it with the algorithm you built. [ you can use complexities, R2 score etc..]"
   ]
  },
  {
   "cell_type": "code",
   "execution_count": 15,
   "metadata": {
    "id": "hmi9rZDF3MNB"
   },
   "outputs": [
    {
     "name": "stdout",
     "output_type": "stream",
     "text": [
      "\t\tSklearn\t\tOur KNN model\n",
      "MAE:\t 471.58813496477563 \t 476.5273738414006\n",
      "MSE:\t 750076.7264961067 \t 754055.7561441812\n",
      "R2:\t 0.9498975397976617 \t 0.952309969687852\n"
     ]
    }
   ],
   "source": [
    "print(\"\\t\\tSklearn\\t\\tOur KNN model\")\n",
    "print(\"MAE:\\t\",mae(y_pred_sklearn,y_test)[0],\"\\t\",mae(y_val,predicted_y_e[:,2].reshape(-1,1))[0])\n",
    "print(\"MSE:\\t\",mse(y_pred_sklearn,y_test)[0],\"\\t\",mse(y_val,predicted_y_e[:,2].reshape(-1,1))[0])\n",
    "print(\"R2:\\t\",r2(y_pred_sklearn,y_test)[0],\"\\t\",r2(y_val,predicted_y_e[:,2].reshape(-1,1))[0])"
   ]
  },
  {
   "cell_type": "markdown",
   "metadata": {
    "id": "Xa-vbZfY2OFO"
   },
   "source": [
    "6. From the above experiments, what do you think are advantages and disadvantages of the knn regression algorithm?\n"
   ]
  },
  {
   "cell_type": "markdown",
   "metadata": {
    "id": "hDCRj4H93Mu8"
   },
   "source": [
    "ANS:\n",
    "- **Advantage**\n",
    "No training time is required in KNN, it also gives good prediction in non linear data\n",
    "- **Disadvantage**\n",
    "For each prediction the distance has to computed for the whole data set"
   ]
  },
  {
   "cell_type": "markdown",
   "metadata": {
    "id": "NlPGwmq2elOR"
   },
   "source": [
    "# **2)** **Linear Regression**\n",
    "\n",
    "Dataset - same as above (Diamond Price Detection)\n"
   ]
  },
  {
   "cell_type": "markdown",
   "metadata": {
    "id": "DB9Co3225uTa"
   },
   "source": [
    "2a) Implement a Linear Regression model (from the scratch) taking suitable independent variables from the dataset. \n",
    "\n",
    "Report and Calculate the error obtained.\n"
   ]
  },
  {
   "cell_type": "code",
   "execution_count": 16,
   "metadata": {
    "id": "wsckTq4zzxnx"
   },
   "outputs": [
    {
     "name": "stdout",
     "output_type": "stream",
     "text": [
      "Training ran for: 51.36510753631592\n"
     ]
    }
   ],
   "source": [
    "\"\"\"\n",
    "LINEAR REGRESSION:\n",
    "- ALGORITHM\n",
    "- TRAINING\n",
    "\"\"\"\n",
    "\n",
    "from sklearn.model_selection import train_test_split\n",
    "\n",
    "X = data.iloc[:,data.columns != \"price\"]\n",
    "Y = data.iloc[:,data.columns == \"price\"]\n",
    "X = min_max_scaler(X)\n",
    "x_train, x_test, y_train, y_test = train_test_split(X,Y,test_size=0.1)\n",
    "\n",
    "X_train = x_train.to_numpy()\n",
    "Y_train = y_train.to_numpy()\n",
    "X_test = x_test.to_numpy()\n",
    "Y_test = y_test.to_numpy()\n",
    "W = np.zeros((len(X_train[0]),1))\n",
    "w_ = np.random.rand()\n",
    "\n",
    "def pred_y(W,w_,x_train):\n",
    "    return np.add(np.matmul(x_train,W),w_)\n",
    "\n",
    "def cost_func(W,w_,X,Y):\n",
    "    m = len(X[:,0])\n",
    "    return 0.5/m*np.sum(np.subtract(pred_y(W,w_,X),Y)**2)\n",
    "\n",
    "def train(W,w_,X,Y,l,epoch):\n",
    "    m = len(X[:,0])\n",
    "    for i in range(epoch):\n",
    "\n",
    "        tempW = W - l/m * np.matmul(X.transpose(), (pred_y(W,w_,X) - Y))\n",
    "        tempw_ = w_ - l/m * np.sum((pred_y(W,w_,X) - Y))\n",
    "\n",
    "        W,w_ = tempW,tempw_\n",
    "\n",
    "    return W,w_\n",
    "\n",
    "start = time.time()\n",
    "z,z_= train(W,w_,X_train,Y_train,0.7,25000)\n",
    "end = time.time()\n",
    "print(\"Training ran for:\",end-start)\n",
    "\n"
   ]
  },
  {
   "cell_type": "code",
   "execution_count": 17,
   "metadata": {},
   "outputs": [
    {
     "name": "stdout",
     "output_type": "stream",
     "text": [
      "MAE: 790.331673385602\n",
      "MSE: 1340142.08466914\n",
      "R2: 0.9093801450450212\n"
     ]
    }
   ],
   "source": [
    "val_without_feature = pred_y(z,z_,X_test)\n",
    "print(\"MAE:\",mae(val_without_feature,Y_test))\n",
    "print(\"MSE:\",mse(val_without_feature,Y_test))\n",
    "print(\"R2:\",r2(val_without_feature,Y_test))"
   ]
  },
  {
   "cell_type": "markdown",
   "metadata": {
    "id": "6PUfKXGU6DQ2"
   },
   "source": [
    "2b) What are the best suitable features you used to predict the price of the dataset and Why?\n",
    "\n",
    "Idea: Use Correlation to get the suitable features and Report the values accordingly."
   ]
  },
  {
   "cell_type": "code",
   "execution_count": 18,
   "metadata": {},
   "outputs": [
    {
     "data": {
      "text/html": [
       "<div>\n",
       "<style scoped>\n",
       "    .dataframe tbody tr th:only-of-type {\n",
       "        vertical-align: middle;\n",
       "    }\n",
       "\n",
       "    .dataframe tbody tr th {\n",
       "        vertical-align: top;\n",
       "    }\n",
       "\n",
       "    .dataframe thead th {\n",
       "        text-align: right;\n",
       "    }\n",
       "</style>\n",
       "<table border=\"1\" class=\"dataframe\">\n",
       "  <thead>\n",
       "    <tr style=\"text-align: right;\">\n",
       "      <th></th>\n",
       "      <th>carat</th>\n",
       "      <th>cut</th>\n",
       "      <th>color</th>\n",
       "      <th>clarity</th>\n",
       "      <th>depth</th>\n",
       "      <th>table</th>\n",
       "      <th>price</th>\n",
       "      <th>x</th>\n",
       "      <th>y</th>\n",
       "      <th>z</th>\n",
       "    </tr>\n",
       "  </thead>\n",
       "  <tbody>\n",
       "    <tr>\n",
       "      <th>carat</th>\n",
       "      <td>1.000000</td>\n",
       "      <td>-0.134967</td>\n",
       "      <td>-0.291437</td>\n",
       "      <td>-0.352841</td>\n",
       "      <td>0.028224</td>\n",
       "      <td>0.181618</td>\n",
       "      <td>0.921591</td>\n",
       "      <td>0.975094</td>\n",
       "      <td>0.951722</td>\n",
       "      <td>0.953387</td>\n",
       "    </tr>\n",
       "    <tr>\n",
       "      <th>cut</th>\n",
       "      <td>-0.134967</td>\n",
       "      <td>1.000000</td>\n",
       "      <td>0.020519</td>\n",
       "      <td>0.189175</td>\n",
       "      <td>-0.218055</td>\n",
       "      <td>-0.433405</td>\n",
       "      <td>-0.053491</td>\n",
       "      <td>-0.125565</td>\n",
       "      <td>-0.121462</td>\n",
       "      <td>-0.149323</td>\n",
       "    </tr>\n",
       "    <tr>\n",
       "      <th>color</th>\n",
       "      <td>-0.291437</td>\n",
       "      <td>0.020519</td>\n",
       "      <td>1.000000</td>\n",
       "      <td>-0.025631</td>\n",
       "      <td>-0.047279</td>\n",
       "      <td>-0.026465</td>\n",
       "      <td>-0.172511</td>\n",
       "      <td>-0.270287</td>\n",
       "      <td>-0.263584</td>\n",
       "      <td>-0.268227</td>\n",
       "    </tr>\n",
       "    <tr>\n",
       "      <th>clarity</th>\n",
       "      <td>-0.352841</td>\n",
       "      <td>0.189175</td>\n",
       "      <td>-0.025631</td>\n",
       "      <td>1.000000</td>\n",
       "      <td>-0.067384</td>\n",
       "      <td>-0.160327</td>\n",
       "      <td>-0.146800</td>\n",
       "      <td>-0.371999</td>\n",
       "      <td>-0.358420</td>\n",
       "      <td>-0.366952</td>\n",
       "    </tr>\n",
       "    <tr>\n",
       "      <th>depth</th>\n",
       "      <td>0.028224</td>\n",
       "      <td>-0.218055</td>\n",
       "      <td>-0.047279</td>\n",
       "      <td>-0.067384</td>\n",
       "      <td>1.000000</td>\n",
       "      <td>-0.295779</td>\n",
       "      <td>-0.010647</td>\n",
       "      <td>-0.025289</td>\n",
       "      <td>-0.029341</td>\n",
       "      <td>0.094924</td>\n",
       "    </tr>\n",
       "    <tr>\n",
       "      <th>table</th>\n",
       "      <td>0.181618</td>\n",
       "      <td>-0.433405</td>\n",
       "      <td>-0.026465</td>\n",
       "      <td>-0.160327</td>\n",
       "      <td>-0.295779</td>\n",
       "      <td>1.000000</td>\n",
       "      <td>0.127134</td>\n",
       "      <td>0.195344</td>\n",
       "      <td>0.183760</td>\n",
       "      <td>0.150929</td>\n",
       "    </tr>\n",
       "    <tr>\n",
       "      <th>price</th>\n",
       "      <td>0.921591</td>\n",
       "      <td>-0.053491</td>\n",
       "      <td>-0.172511</td>\n",
       "      <td>-0.146800</td>\n",
       "      <td>-0.010647</td>\n",
       "      <td>0.127134</td>\n",
       "      <td>1.000000</td>\n",
       "      <td>0.884435</td>\n",
       "      <td>0.865421</td>\n",
       "      <td>0.861249</td>\n",
       "    </tr>\n",
       "    <tr>\n",
       "      <th>x</th>\n",
       "      <td>0.975094</td>\n",
       "      <td>-0.125565</td>\n",
       "      <td>-0.270287</td>\n",
       "      <td>-0.371999</td>\n",
       "      <td>-0.025289</td>\n",
       "      <td>0.195344</td>\n",
       "      <td>0.884435</td>\n",
       "      <td>1.000000</td>\n",
       "      <td>0.974701</td>\n",
       "      <td>0.970772</td>\n",
       "    </tr>\n",
       "    <tr>\n",
       "      <th>y</th>\n",
       "      <td>0.951722</td>\n",
       "      <td>-0.121462</td>\n",
       "      <td>-0.263584</td>\n",
       "      <td>-0.358420</td>\n",
       "      <td>-0.029341</td>\n",
       "      <td>0.183760</td>\n",
       "      <td>0.865421</td>\n",
       "      <td>0.974701</td>\n",
       "      <td>1.000000</td>\n",
       "      <td>0.952006</td>\n",
       "    </tr>\n",
       "    <tr>\n",
       "      <th>z</th>\n",
       "      <td>0.953387</td>\n",
       "      <td>-0.149323</td>\n",
       "      <td>-0.268227</td>\n",
       "      <td>-0.366952</td>\n",
       "      <td>0.094924</td>\n",
       "      <td>0.150929</td>\n",
       "      <td>0.861249</td>\n",
       "      <td>0.970772</td>\n",
       "      <td>0.952006</td>\n",
       "      <td>1.000000</td>\n",
       "    </tr>\n",
       "  </tbody>\n",
       "</table>\n",
       "</div>"
      ],
      "text/plain": [
       "            carat       cut     color   clarity     depth     table     price  \\\n",
       "carat    1.000000 -0.134967 -0.291437 -0.352841  0.028224  0.181618  0.921591   \n",
       "cut     -0.134967  1.000000  0.020519  0.189175 -0.218055 -0.433405 -0.053491   \n",
       "color   -0.291437  0.020519  1.000000 -0.025631 -0.047279 -0.026465 -0.172511   \n",
       "clarity -0.352841  0.189175 -0.025631  1.000000 -0.067384 -0.160327 -0.146800   \n",
       "depth    0.028224 -0.218055 -0.047279 -0.067384  1.000000 -0.295779 -0.010647   \n",
       "table    0.181618 -0.433405 -0.026465 -0.160327 -0.295779  1.000000  0.127134   \n",
       "price    0.921591 -0.053491 -0.172511 -0.146800 -0.010647  0.127134  1.000000   \n",
       "x        0.975094 -0.125565 -0.270287 -0.371999 -0.025289  0.195344  0.884435   \n",
       "y        0.951722 -0.121462 -0.263584 -0.358420 -0.029341  0.183760  0.865421   \n",
       "z        0.953387 -0.149323 -0.268227 -0.366952  0.094924  0.150929  0.861249   \n",
       "\n",
       "                x         y         z  \n",
       "carat    0.975094  0.951722  0.953387  \n",
       "cut     -0.125565 -0.121462 -0.149323  \n",
       "color   -0.270287 -0.263584 -0.268227  \n",
       "clarity -0.371999 -0.358420 -0.366952  \n",
       "depth   -0.025289 -0.029341  0.094924  \n",
       "table    0.195344  0.183760  0.150929  \n",
       "price    0.884435  0.865421  0.861249  \n",
       "x        1.000000  0.974701  0.970772  \n",
       "y        0.974701  1.000000  0.952006  \n",
       "z        0.970772  0.952006  1.000000  "
      ]
     },
     "execution_count": 18,
     "metadata": {},
     "output_type": "execute_result"
    }
   ],
   "source": [
    "data.corr()"
   ]
  },
  {
   "cell_type": "markdown",
   "metadata": {},
   "source": [
    "As in the above figure we can see that the price is correlated with `x,y,z` but as these values are also highly corelated with each other, I took only one of them. Also `clarity` and `depth` are not correlated with `price` so I also removed them"
   ]
  },
  {
   "cell_type": "code",
   "execution_count": 19,
   "metadata": {
    "id": "nUVKOe6d6g2u"
   },
   "outputs": [
    {
     "name": "stdout",
     "output_type": "stream",
     "text": [
      "Training ran for: 33.22360301017761\n"
     ]
    }
   ],
   "source": [
    "X_features_train = X_train[:,[0,1,2,4,6]]\n",
    "X_features_test = X_test[:,[0,1,2,4,6]]\n",
    "W = np.zeros((len(X_features_train[0]),1))\n",
    "w_ = np.random.rand()\n",
    "start = time.time()\n",
    "z,z_= train(W,w_,X_features_train,Y_train,0.7,25000)\n",
    "end = time.time()\n",
    "print(\"Training ran for:\",end-start)"
   ]
  },
  {
   "cell_type": "code",
   "execution_count": 20,
   "metadata": {},
   "outputs": [
    {
     "name": "stdout",
     "output_type": "stream",
     "text": [
      "MAE: 866.2354104022168\n",
      "MSE: 1838757.3065374494\n",
      "R2: 0.8703267148017573\n"
     ]
    }
   ],
   "source": [
    "val_with_feature = pred_y(z,z_,X_features_test)\n",
    "print(\"MAE:\",mae(val_with_feature,Y_test))\n",
    "print(\"MSE:\",mse(val_with_feature,Y_test))\n",
    "print(\"R2:\",r2(val_with_feature,Y_test))"
   ]
  },
  {
   "cell_type": "markdown",
   "metadata": {
    "id": "3QB-vCqz6u5z"
   },
   "source": [
    "Explanation for 2b) - "
   ]
  },
  {
   "cell_type": "markdown",
   "metadata": {
    "id": "NNDl68N26yY3"
   },
   "source": [
    "2c) Use the module Linear Regression from sklearn to predict the price of diamonds(considering the same attributes as before) and compare the result obtained with the above. \n"
   ]
  },
  {
   "cell_type": "code",
   "execution_count": 21,
   "metadata": {
    "id": "50xYhwND64tM"
   },
   "outputs": [],
   "source": [
    "from sklearn.linear_model import LinearRegression\n",
    "reg = LinearRegression().fit(X_features_train,Y_train)\n",
    "val_sk = reg.predict(X_features_test)"
   ]
  },
  {
   "cell_type": "code",
   "execution_count": 22,
   "metadata": {},
   "outputs": [
    {
     "name": "stdout",
     "output_type": "stream",
     "text": [
      "\t\tWITH FEATURE SELECTION\n",
      "\n",
      "\t\tOur model\t\tSklearn\n",
      "MAE:\t 866.2354104022168 \t 863.0550474840093\n",
      "MSE:\t 1838757.3065374494 \t 1836402.7779856683\n",
      "R2:\t 0.8703267148017573 \t 0.8707187083943482\n"
     ]
    }
   ],
   "source": [
    "print(\"\\t\\tWITH FEATURE SELECTION\\n\")\n",
    "print(\"\\t\\tOur model\\t\\tSklearn\")\n",
    "print(\"MAE:\\t\",mae(val_with_feature,Y_test),\"\\t\",mae(val_sk,Y_test))\n",
    "print(\"MSE:\\t\",mse(val_with_feature,Y_test),\"\\t\",mse(val_sk,Y_test))\n",
    "print(\"R2:\\t\",r2(val_with_feature,Y_test),\"\\t\",r2(val_sk,Y_test))"
   ]
  },
  {
   "cell_type": "markdown",
   "metadata": {
    "id": "121Z4wwx7CLk"
   },
   "source": [
    "2d) Now, using the whole dataset, predict the price of the Diamonds using the module of Linear Regression from sklearn. Report the changes you have observed compared to before? Adding extra features did it make the prediction better or worse.Comment? \n"
   ]
  },
  {
   "cell_type": "code",
   "execution_count": 23,
   "metadata": {
    "id": "Eo1pB2QB7Jqz"
   },
   "outputs": [],
   "source": [
    "from sklearn.linear_model import LinearRegression\n",
    "reg = LinearRegression().fit(X_train,Y_train)\n",
    "val_sk = reg.predict(X_test)"
   ]
  },
  {
   "cell_type": "code",
   "execution_count": 24,
   "metadata": {},
   "outputs": [
    {
     "name": "stdout",
     "output_type": "stream",
     "text": [
      "\t\tWITHOUT FEATURE SELECTION\n",
      "\n",
      "\t\tOur model\t\tSklearn\n",
      "MAE:\t 790.331673385602 \t 787.7682324918503\n",
      "MSE:\t 1340142.08466914 \t 1338082.4655266814\n",
      "R2:\t 0.9093801450450212 \t 0.9096376478125443\n"
     ]
    }
   ],
   "source": [
    "print(\"\\t\\tWITHOUT FEATURE SELECTION\\n\")\n",
    "print(\"\\t\\tOur model\\t\\tSklearn\")\n",
    "print(\"MAE:\\t\",mae(val_without_feature,Y_test),\"\\t\",mae(val_sk,Y_test))\n",
    "print(\"MSE:\\t\",mse(val_without_feature,Y_test),\"\\t\",mse(val_sk,Y_test))\n",
    "print(\"R2:\\t\",r2(val_without_feature,Y_test),\"\\t\",r2(val_sk,Y_test))"
   ]
  },
  {
   "cell_type": "markdown",
   "metadata": {},
   "source": [
    "ANS: **Adding features resulted in lesser error, and our model was able to predict quite similar to sklearn linear regression model**"
   ]
  },
  {
   "cell_type": "markdown",
   "metadata": {
    "id": "cAqKLuCh7qP5"
   },
   "source": [
    "2e) Now, compare the algorithms KNN regression and Linear Regression. What are the differences you have observed? Which is better and why. Your statements should be backed up with statistics. \n"
   ]
  },
  {
   "cell_type": "code",
   "execution_count": 25,
   "metadata": {},
   "outputs": [],
   "source": [
    "predicted_y_e ,  _ = knn_regressor([5],x_train,y_train,x_test,np.array([1,2,3]))"
   ]
  },
  {
   "cell_type": "code",
   "execution_count": 26,
   "metadata": {},
   "outputs": [
    {
     "name": "stdout",
     "output_type": "stream",
     "text": [
      "\t\tLinear Regression\t\tKNN\n",
      "MAE:\t\t 790.331673385602 \t 356.4255098257323\n",
      "MSE:\t\t 1340142.08466914 \t 490594.31117537996\n",
      "R2:\t\t 0.9093801450450212 \t 0.9679460203446004\n"
     ]
    }
   ],
   "source": [
    "print(\"\\t\\tLinear Regression\\t\\tKNN\")\n",
    "print(\"MAE:\\t\\t\",mae(val_without_feature,Y_test),\"\\t\",mae(predicted_y_e,Y_test))\n",
    "print(\"MSE:\\t\\t\",mse(val_without_feature,Y_test),\"\\t\",mse(predicted_y_e,Y_test))\n",
    "print(\"R2:\\t\\t\",r2(val_without_feature,Y_test),\"\\t\",r2(predicted_y_e,Y_test))"
   ]
  },
  {
   "cell_type": "markdown",
   "metadata": {
    "id": "4Qb2nIZ171vI"
   },
   "source": [
    "Explanation - **For the following data set KNN gives better result as compared to linear regression as seen in the above table but this is not always correct. Also KNN takes a lot of time for prediction which isn't the case in Linear regression**"
   ]
  },
  {
   "cell_type": "markdown",
   "metadata": {
    "id": "vdAATTFJ8Lvn"
   },
   "source": [
    "2f) Plot the predicted values from KNN regression, Linear Regression and Actual Diamond Price.\n"
   ]
  },
  {
   "cell_type": "code",
   "execution_count": 27,
   "metadata": {
    "id": "Wts-tBCC8NiA"
   },
   "outputs": [
    {
     "data": {
      "text/plain": [
       "<matplotlib.legend.Legend at 0x7f31fb0aea90>"
      ]
     },
     "execution_count": 27,
     "metadata": {},
     "output_type": "execute_result"
    },
    {
     "data": {
      "image/png": "[encoded data removed]",
      "text/plain": [
       "<Figure size 432x288 with 1 Axes>"
      ]
     },
     "metadata": {
      "needs_background": "light"
     },
     "output_type": "display_data"
    }
   ],
   "source": [
    "sorted_indices = np.argsort(Y_test.ravel())\n",
    "Y_test_sort = Y_test[sorted_indices]\n",
    "predicted_y_e_sorted = predicted_y_e[sorted_indices]\n",
    "val_without_feature_sorted = val_without_feature[sorted_indices]\n",
    "i=np.linspace(0,5394,5394)\n",
    "plt.plot(i,predicted_y_e_sorted,label=\"KNN Regresion\")\n",
    "plt.plot(i,val_without_feature_sorted,label=\"Linear regression\")\n",
    "plt.plot(i,Y_test_sort,label=\"actual\")\n",
    "plt.legend()"
   ]
  },
  {
   "cell_type": "markdown",
   "metadata": {
    "id": "-PkRYsKTzzLM"
   },
   "source": [
    "#**KNN Classifier**"
   ]
  },
  {
   "cell_type": "markdown",
   "metadata": {
    "id": "Ve2icBQ8Zuqq"
   },
   "source": [
    "In this problem you are required to train, test and validate a K-Nearest Neighbor Classifier on the famous CIFAR-10 dataset. The next few cells will guide you through the process. Follow along..."
   ]
  },
  {
   "cell_type": "code",
   "execution_count": 28,
   "metadata": {
    "colab": {
     "base_uri": "https://localhost:8080/"
    },
    "id": "1BZZyZZ3bq-3",
    "outputId": "655938a7-a592-4ef1-d81d-88bdae0612d2"
   },
   "outputs": [],
   "source": [
    "# Run some setup code for this notebook.\n",
    "\n",
    "import random\n",
    "import numpy as np\n",
    "import matplotlib.pyplot as plt\n",
    "import os\n",
    "\n",
    "\n",
    "from __future__ import print_function\n",
    "\n",
    "from builtins import range\n",
    "from six.moves import cPickle as pickle\n",
    "from imageio import imread\n",
    "import platform\n",
    "\n",
    "# This is a bit of magic to make matplotlib figures appear inline in the notebook\n",
    "# rather than in a new window.\n",
    "%matplotlib inline\n",
    "plt.rcParams['figure.figsize'] = (10.0, 8.0) # set default size of plots\n",
    "plt.rcParams['image.interpolation'] = 'nearest'\n",
    "plt.rcParams['image.cmap'] = 'gray'\n",
    "\n",
    "# Some more magic so that the notebook will reload external python modules;\n",
    "# see http://stackoverflow.com/questions/1907993/autoreload-of-modules-in-ipython\n",
    "%load_ext autoreload\n",
    "%autoreload 2"
   ]
  },
  {
   "cell_type": "code",
   "execution_count": 3,
   "metadata": {
    "colab": {
     "base_uri": "https://localhost:8080/"
    },
    "id": "v9TLyifNd5eE",
    "outputId": "494f4c0b-e42f-4b31-8dac-b4ca23476088"
   },
   "outputs": [
    {
     "name": "stdout",
     "output_type": "stream",
     "text": [
      "--2021-02-02 12:35:48--  http://www.cs.toronto.edu/~kriz/cifar-10-python.tar.gz\n",
      "Resolving www.cs.toronto.edu (www.cs.toronto.edu)... 128.100.3.30\n",
      "Connecting to www.cs.toronto.edu (www.cs.toronto.edu)|128.100.3.30|:80... connected.\n",
      "HTTP request sent, awaiting response... 200 OK\n",
      "Length: 170498071 (163M) [application/x-gzip]\n",
      "Saving to: ‘cifar-10-python.tar.gz’\n",
      "\n",
      "cifar-10-python.tar 100%[===================>] 162.60M  7.38MB/s    in 30s     \n",
      "\n",
      "2021-02-02 12:36:19 (5.37 MB/s) - ‘cifar-10-python.tar.gz’ saved [170498071/170498071]\n",
      "\n",
      "cifar-10-batches-py/\n",
      "cifar-10-batches-py/data_batch_4\n",
      "cifar-10-batches-py/readme.html\n",
      "cifar-10-batches-py/test_batch\n",
      "cifar-10-batches-py/data_batch_3\n",
      "cifar-10-batches-py/batches.meta\n",
      "cifar-10-batches-py/data_batch_2\n",
      "cifar-10-batches-py/data_batch_5\n",
      "cifar-10-batches-py/data_batch_1\n"
     ]
    }
   ],
   "source": [
    "# Download the dataset\n",
    "!wget http://www.cs.toronto.edu/~kriz/cifar-10-python.tar.gz -O cifar-10-python.tar.gz\n",
    "!tar -xzvf cifar-10-python.tar.gz\n",
    "!rm cifar-10-python.tar.gz"
   ]
  },
  {
   "cell_type": "code",
   "execution_count": 29,
   "metadata": {
    "colab": {
     "base_uri": "https://localhost:8080/"
    },
    "id": "LUWUH9G8dsAi",
    "outputId": "cf91cc6e-f85b-4dd4-f2ef-1b2af45e023f"
   },
   "outputs": [
    {
     "name": "stdout",
     "output_type": "stream",
     "text": [
      "Clear previously loaded data.\n",
      "Training data shape:  (50000, 32, 32, 3)\n",
      "Training labels shape:  (50000,)\n",
      "Test data shape:  (10000, 32, 32, 3)\n",
      "Test labels shape:  (10000,)\n"
     ]
    }
   ],
   "source": [
    "# This cell loads the training and testing dataset. Please note the variables at\n",
    "# the end of the cell as you would require them to access the train/test data \n",
    "# and labels throughout the assignment\n",
    "def load_pickle(f):\n",
    "    version = platform.python_version_tuple()\n",
    "    if version[0] == '2':\n",
    "        return  pickle.load(f)\n",
    "    elif version[0] == '3':\n",
    "        return  pickle.load(f, encoding='latin1')\n",
    "    raise ValueError(\"invalid python version: {}\".format(version))\n",
    "  \n",
    "def load_CIFAR_batch(filename):\n",
    "    \"\"\" load single batch of cifar \"\"\"\n",
    "    with open(filename, 'rb') as f:\n",
    "        datadict = load_pickle(f)\n",
    "        X = datadict['data']\n",
    "        Y = datadict['labels']\n",
    "        X = X.reshape(10000, 3, 32, 32).transpose(0,2,3,1).astype(\"float\")\n",
    "        Y = np.array(Y)\n",
    "        return X, Y\n",
    "\n",
    "def load_CIFAR10(ROOT):\n",
    "    \"\"\" load all of cifar \"\"\"\n",
    "    xs = []\n",
    "    ys = []\n",
    "    for b in range(1,6):\n",
    "        f = os.path.join(ROOT, 'data_batch_%d' % (b, ))\n",
    "        X, Y = load_CIFAR_batch(f)\n",
    "        xs.append(X)\n",
    "        ys.append(Y)\n",
    "    Xtr = np.concatenate(xs)\n",
    "    Ytr = np.concatenate(ys)\n",
    "    del X, Y\n",
    "    Xte, Yte = load_CIFAR_batch(os.path.join(ROOT, 'test_batch'))\n",
    "    return Xtr, Ytr, Xte, Yte\n",
    "\n",
    "\n",
    "cifar10_dir = 'cifar-10-batches-py'\n",
    "\n",
    "# Cleaning up variables to prevent loading data multiple times\n",
    "try:\n",
    "   del X_train, y_train\n",
    "   del X_test, y_test\n",
    "   print('Clear previously loaded data.')\n",
    "except:\n",
    "   pass\n",
    "\n",
    "X_train, y_train, X_test, y_test = load_CIFAR10(cifar10_dir)\n",
    "\n",
    "# As a sanity check, we print out the size of the training and test data.\n",
    "print('Training data shape: ', X_train.shape)\n",
    "print('Training labels shape: ', y_train.shape)\n",
    "print('Test data shape: ', X_test.shape)\n",
    "print('Test labels shape: ', y_test.shape)"
   ]
  },
  {
   "cell_type": "markdown",
   "metadata": {
    "id": "ImbVaneln_Vo"
   },
   "source": [
    "Next we visualize the CIFAR-10 dataset. Although these functions are being written for you, we highly recommend you go through the code and make yourself familiar as these are things you will be required to do very often when working on AI/ML projects"
   ]
  },
  {
   "cell_type": "code",
   "execution_count": 30,
   "metadata": {
    "colab": {
     "base_uri": "https://localhost:8080/",
     "height": 476
    },
    "id": "JBiR9dSyn1mV",
    "outputId": "718a41fd-c239-416b-9b2d-0f1cc14fa84d"
   },
   "outputs": [
    {
     "data": {
      "image/png": "[encoded data removed]",
      "text/plain": [
       "<Figure size 720x576 with 70 Axes>"
      ]
     },
     "metadata": {
      "needs_background": "light"
     },
     "output_type": "display_data"
    }
   ],
   "source": [
    "# Visualize some examples from the dataset.\n",
    "# We show a few examples of training images from each class.\n",
    "classes = ['plane', 'car', 'bird', 'cat', 'deer', 'dog', 'frog', 'horse', 'ship', 'truck']\n",
    "num_classes = len(classes)\n",
    "samples_per_class = 7\n",
    "for y, cls in enumerate(classes):\n",
    "    idxs = np.flatnonzero(y_train == y)\n",
    "    idxs = np.random.choice(idxs, samples_per_class, replace=False)\n",
    "    for i, idx in enumerate(idxs):\n",
    "        plt_idx = i * num_classes + y + 1\n",
    "        plt.subplot(samples_per_class, num_classes, plt_idx)\n",
    "        plt.imshow(X_train[idx].astype('uint8'))\n",
    "        plt.axis('off')\n",
    "        if i == 0:\n",
    "            plt.title(cls)\n",
    "plt.show()"
   ]
  },
  {
   "cell_type": "markdown",
   "metadata": {
    "id": "3J80qrXPoaIx"
   },
   "source": [
    "In the next cell we flatten each image into a single dimensional vector so that it is easy to process. You should be able to reason about the dimensions comfortable."
   ]
  },
  {
   "cell_type": "code",
   "execution_count": 31,
   "metadata": {
    "colab": {
     "base_uri": "https://localhost:8080/"
    },
    "id": "-FoCgA3Xn9K6",
    "outputId": "c77de095-88d5-4ad3-ae63-17814637ceae"
   },
   "outputs": [
    {
     "name": "stdout",
     "output_type": "stream",
     "text": [
      "(5000, 3072) (500, 3072)\n"
     ]
    }
   ],
   "source": [
    "# Subsample the data for more efficient code execution in this exercise\n",
    "num_training = 5000\n",
    "mask = list(range(num_training))\n",
    "X_train = X_train[mask]\n",
    "y_train = y_train[mask]\n",
    "\n",
    "num_test = 500\n",
    "mask = list(range(num_test))\n",
    "X_test = X_test[mask]\n",
    "y_test = y_test[mask]\n",
    "\n",
    "# Reshape the image data into rows\n",
    "X_train = np.reshape(X_train, (X_train.shape[0], -1))\n",
    "X_test = np.reshape(X_test, (X_test.shape[0], -1))\n",
    "print(X_train.shape, X_test.shape)"
   ]
  },
  {
   "cell_type": "markdown",
   "metadata": {
    "id": "Atyl_HGcgmb5"
   },
   "source": [
    "In the next cell you are going to implement the main KNearestNeighbor class and keep adding functions to it as and when required in the subsequent steps."
   ]
  },
  {
   "cell_type": "code",
   "execution_count": 32,
   "metadata": {
    "id": "kGM_wB3Wmenb"
   },
   "outputs": [],
   "source": [
    "class KNearestNeighbor():    \n",
    "    def distance_with_one_loop(self,X_test):\n",
    "#         print(X_test.shape,self.X_train.shape)\n",
    "        n,_ = X_test.shape\n",
    "        m,_ = self.X_train.shape\n",
    "        dist = np.zeros((n,m))\n",
    "#         print(dist.shape)\n",
    "        x= 0\n",
    "        for i in X_test:\n",
    "            dist[x] = np.sqrt(np.sum((self.X_train-i)**2,axis=1))\n",
    "            x+=1\n",
    "        return(dist)\n",
    "    \n",
    "    def distance_with_two_loops(self,X_test):\n",
    "#         print(X_test.shape,self.X_train.shape)\n",
    "        n,_ = X_test.shape\n",
    "        m,_ = self.X_train.shape\n",
    "        dist = np.zeros((n,m))\n",
    "#         print(dist.shape)\n",
    "        x= 0\n",
    "       \n",
    "        for i in X_test:\n",
    "            y=0\n",
    "            for j in self.X_train:\n",
    "#                print(np.sqrt(np.sum((j-i)**2)))\n",
    "                dist[x][y] = np.sqrt(np.sum((j-i)**2))\n",
    "                y+=1\n",
    "            x+=1\n",
    "        return(dist)\n",
    "    \n",
    "    \n",
    "    def distance_with_no_loop(self,X_test):\n",
    "        X_dash = np.sum(X_test**2,axis=1).reshape(-1,1)\n",
    "        X_ = np.sum(self.X_train**2,axis=1)\n",
    "        X_X_dash = np.multiply(-2,(np.matmul(X_test,self.X_train.transpose() )))\n",
    "        val = np.sqrt(X_X_dash+X_dash+X_)\n",
    "        return val\n",
    "    \n",
    "    def train(self,X_train,y_train):\n",
    "        self.X_train = X_train\n",
    "        self.y_train = y_train   \n",
    "        \n",
    "    def predict_labels(self,dists, k):\n",
    "        n,_ = dists.shape\n",
    "        predy =np.zeros(n)\n",
    "        \n",
    "        y=0\n",
    "        for i in range(n):\n",
    "#             nd = np.argpartition(dists[i],k)[0:k]\n",
    "#             pred[j] = np.bincount(y_train[ind].transpose()[0]).argmax()\n",
    "            \n",
    "            index = np.argpartition(dists[i],k)[0:k].reshape(-1,1)\n",
    "            \n",
    "            predy[y] = float(np.bincount(self.y_train[index].transpose()[0]).argmax())\n",
    "            y+=1  \n",
    "        return predy\n",
    "        \n",
    "    def __init__(self):\n",
    "        pass"
   ]
  },
  {
   "cell_type": "markdown",
   "metadata": {
    "id": "K0Rk36rKmwwK"
   },
   "source": [
    "Go back to KNearestNeighbor class and add a method to train the classifier. Your function will be called as below. In KNN classifier, this step is a simple memorization of the training data."
   ]
  },
  {
   "cell_type": "code",
   "execution_count": 33,
   "metadata": {
    "id": "MQy2OIH8nrPd"
   },
   "outputs": [],
   "source": [
    "# Make sure to add train() in the classifier class before executing this cell\n",
    "classifier = KNearestNeighbor()\n",
    "classifier.train(X_train,y_train)"
   ]
  },
  {
   "cell_type": "markdown",
   "metadata": {
    "id": "R3MZBeobnzN2"
   },
   "source": [
    "Go back to KNearestNeighbor class and add a method to compute distances between each pair of test image and train image. You can use two loops to do this. Remember we are using standard L-2 distance metric. Precisely your method should return a distance matrix($D$) where $D(i,j)$ = **L-2** distance between the $i^{th}$ test image and the $j^{th}$ train image. Your function will be called as below"
   ]
  },
  {
   "cell_type": "markdown",
   "metadata": {
    "id": "-PbMeV5Qq2NZ"
   },
   "source": [
    "Next implement the function to predict labels. Again go back to the KNearestNeighbor class cell. Your function will be called as below"
   ]
  },
  {
   "cell_type": "code",
   "execution_count": 34,
   "metadata": {},
   "outputs": [
    {
     "name": "stdout",
     "output_type": "stream",
     "text": [
      "Two loop ran for: 48.313669204711914\n",
      "One loop ran for: 35.675132751464844\n",
      "No loop ran for: 0.5302917957305908\n"
     ]
    }
   ],
   "source": [
    "import time\n",
    "time_loops = []\n",
    "start = time.time()\n",
    "dists = classifier.distance_with_two_loops(X_test)\n",
    "end = time.time()\n",
    "time_loops += [start-end]\n",
    "print(\"Two loop ran for:\", end-start)\n",
    "start = time.time()\n",
    "dists = classifier.distance_with_one_loop(X_test)\n",
    "end = time.time()\n",
    "time_loops += [start-end]\n",
    "\n",
    "print(\"One loop ran for:\",end-start)\n",
    "start = time.time()\n",
    "dists = classifier.distance_with_no_loop(X_test)\n",
    "end = time.time()\n",
    "time_loops += [start-end]\n",
    "\n",
    "print(\"No loop ran for:\",end-start)"
   ]
  },
  {
   "cell_type": "code",
   "execution_count": null,
   "metadata": {
    "id": "3EfaDb59rcdq"
   },
   "outputs": [],
   "source": []
  },
  {
   "cell_type": "markdown",
   "metadata": {
    "id": "tcR0kTEWsDDj"
   },
   "source": [
    "Now we have a basic classifier ready but it is extremely inefficient. In Machine Learning writing vectorised code is one of the most important skills. \n",
    "\n",
    "Now you have to again go back to the KNearestNeighbor class cell and add functions to compute the distance matrix using:\n",
    "1.   single loop\n",
    "2.   no loops\n",
    "\n",
    "From here onwards we won't do as much hand holding as done before. You are expected to write all the code from scratch\n",
    "\n"
   ]
  },
  {
   "cell_type": "markdown",
   "metadata": {
    "id": "1J8F3PB3tgPf"
   },
   "source": [
    "Next, you are required to tabulate the time taken to compute the distance matrix using each of the three above methods implemented for k = 1, 3, 5, 7."
   ]
  },
  {
   "cell_type": "code",
   "execution_count": 35,
   "metadata": {
    "id": "N2_Fyhk6t36f"
   },
   "outputs": [
    {
     "name": "stdout",
     "output_type": "stream",
     "text": [
      "Two loop ran for:  48.313669204711914\n",
      "One loop ran for:  35.675132751464844\n",
      "No loop ran for:  0.5302917957305908\n"
     ]
    }
   ],
   "source": [
    "print(\"Two loop ran for: \",-time_loops[0])\n",
    "print(\"One loop ran for: \",-time_loops[1])\n",
    "print(\"No loop ran for: \",-time_loops[2])\n"
   ]
  },
  {
   "cell_type": "code",
   "execution_count": 36,
   "metadata": {},
   "outputs": [
    {
     "name": "stdout",
     "output_type": "stream",
     "text": [
      "for k 1 Got 137 / 500 correct => accuracy: 0.274000\n",
      "for k 3 Got 136 / 500 correct => accuracy: 0.272000\n",
      "for k 5 Got 139 / 500 correct => accuracy: 0.278000\n",
      "for k 7 Got 137 / 500 correct => accuracy: 0.274000\n"
     ]
    }
   ],
   "source": [
    "dists = classifier.distance_with_no_loop(X_test)\n",
    "ks = [1,3,5,7]\n",
    "# print(dists.shape)\n",
    "for ki in ks:\n",
    "    y_test_pred = classifier.predict_labels(dists, k=ki)\n",
    "    num_correct = np.sum(y_test_pred == y_test)\n",
    "    accuracy = float(num_correct) / num_test\n",
    "    print('for k %d Got %d / %d correct => accuracy: %f' % (ki,num_correct, num_test, accuracy))"
   ]
  },
  {
   "cell_type": "markdown",
   "metadata": {},
   "source": [
    "ANS: **The computation of distance matrix wont depend on k as we are not using k's value while finding the distance matrix. The k value is only used while predicting. Hence it will impact the prediction time not the distance computation time**"
   ]
  },
  {
   "cell_type": "markdown",
   "metadata": {
    "id": "Tw0j1o8JuBZu"
   },
   "source": [
    "As you can see that in KNN algorithm it is important to tune the hyperparameter K. We will do this using Cross Validation Leave One Out approach. The idea is to split the train set into few folds(here we recommend you to set the fold number to 5). Then, for each value of K, we leave one of these folds out to evaluate performance but use the others to train. Repeat this by leaving each fold out once. You will get 5 accuracies in this case, one for leaving out each fold. Depending on the average accuracy decide on the optimal value of K. Report the same. We also expect you to present plots showing the average accuracy and standard deviation for each value of K."
   ]
  },
  {
   "cell_type": "code",
   "execution_count": 37,
   "metadata": {
    "id": "JwKY3D05vw4h"
   },
   "outputs": [],
   "source": [
    "# Use this cell to implement Cross Validation\n",
    "\n",
    "\n",
    "from sklearn.model_selection import KFold\n",
    "kf = KFold(n_splits = 5, shuffle= True )\n",
    "col = np.column_stack((X_train,y_train))\n",
    "ks = [1,2,3,4,5,6,7,8,9]\n",
    "avg_acc = []\n",
    "std_acc = []\n",
    "for ki in ks:\n",
    "    accuracies = []\n",
    "    for train,test in kf.split(col):\n",
    "        fold_x_train = col[train]\n",
    "        fold_y_train = col[train]\n",
    "        fold_x_train = fold_x_train[:,:-1]\n",
    "        fold_y_train = fold_y_train[:,-1].astype('int')\n",
    "#         print(fold_x_train.shape,fold_y_train.shape)\n",
    "        kc = KNearestNeighbor()\n",
    "        kc.train(fold_x_train,fold_y_train)\n",
    "        fold_y_test = col[test][:,-1]\n",
    "        fold_x_test = col[test][:,:-1]\n",
    "        distance_vector = kc.distance_with_no_loop(fold_x_test)\n",
    "        fold_y_pred = kc.predict_labels(distance_vector, k=ki)\n",
    "        num_correct = np.sum(fold_y_pred == fold_y_test)\n",
    "        accuracies += [float(num_correct) / len(fold_y_test)]\n",
    "    avg_acc += [np.mean(accuracies)]\n",
    "    std_acc += [np.std(accuracies)]\n"
   ]
  },
  {
   "cell_type": "code",
   "execution_count": 38,
   "metadata": {},
   "outputs": [
    {
     "data": {
      "image/png": "[encoded data removed]",
      "text/plain": [
       "<Figure size 720x576 with 1 Axes>"
      ]
     },
     "metadata": {
      "needs_background": "light"
     },
     "output_type": "display_data"
    }
   ],
   "source": [
    "plt.plot(ks,avg_acc)\n",
    "plt.xlabel(\"K\")\n",
    "plt.ylabel(\"Average accuracy\")\n",
    "plt.show()"
   ]
  },
  {
   "cell_type": "code",
   "execution_count": 39,
   "metadata": {},
   "outputs": [
    {
     "data": {
      "image/png": "[encoded data removed]",
      "text/plain": [
       "<Figure size 720x576 with 1 Axes>"
      ]
     },
     "metadata": {
      "needs_background": "light"
     },
     "output_type": "display_data"
    }
   ],
   "source": [
    "plt.plot(ks,std_acc)\n",
    "plt.xlabel(\"K\")\n",
    "plt.ylabel(\"STD accuracy\")\n",
    "\n",
    "plt.show()"
   ]
  },
  {
   "cell_type": "markdown",
   "metadata": {
    "id": "JvpBcX8av5P1"
   },
   "source": [
    "In this last part of the notebook you are expected to do the following and present appropriate reports/results:\n",
    "\n",
    "1. Try subtracting the mean from each pixel in each image. This mean is computed across all pixels in all images. Report accuracies on the test set for k = 1,3,5,7. Is there any change in the accuracy? Why?\n",
    "2. Try subtracting the mean from each pixel in each image. This mean is computed across all pixels at that position from all images. Report accuracies on the test set for k = 1,3,5,7. Is there any change in the accuracy? Why?\n",
    "3. What is the time complexity of training using KNN classifier? What is the time complexity while testing? Is KNN a linear classifier or can it learn any boundary?\n",
    "4. Bonus: Explore what image features you can use to better the performance of KNN classifier.\n",
    "\n",
    "\n"
   ]
  },
  {
   "cell_type": "markdown",
   "metadata": {
    "id": "6poNZp96z1gN"
   },
   "source": [
    "# **Decision Trees**\n",
    "\n",
    "The Wisconsin Breast Cancer Dataset(WBCD) can be found here(https://archive.ics.uci.edu/ml/machine-learning-databases/breast-cancer-wisconsin/breast-cancer-wisconsin.data)\n",
    "\n",
    "This dataset describes the characteristics of the cell nuclei of various patients with and without breast cancer. The task is to classify a decision tree to predict if a patient has a benign or a malignant tumour based on these features.\n",
    "\n",
    "Attribute Information:\n",
    "```\n",
    "#  Attribute                     Domain\n",
    "   -- -----------------------------------------\n",
    "   1. Sample code number            id number\n",
    "   2. Clump Thickness               1 - 10\n",
    "   3. Uniformity of Cell Size       1 - 10\n",
    "   4. Uniformity of Cell Shape      1 - 10\n",
    "   5. Marginal Adhesion             1 - 10\n",
    "   6. Single Epithelial Cell Size   1 - 10\n",
    "   7. Bare Nuclei                   1 - 10\n",
    "   8. Bland Chromatin               1 - 10\n",
    "   9. Normal Nucleoli               1 - 10\n",
    "  10. Mitoses                       1 - 10\n",
    "  11. Class:                        (2 for benign, 4 for malignant)\n",
    "```\n"
   ]
  },
  {
   "cell_type": "code",
   "execution_count": 40,
   "metadata": {
    "id": "q14LTptiDDZ4"
   },
   "outputs": [
    {
     "data": {
      "text/html": [
       "<div>\n",
       "<style scoped>\n",
       "    .dataframe tbody tr th:only-of-type {\n",
       "        vertical-align: middle;\n",
       "    }\n",
       "\n",
       "    .dataframe tbody tr th {\n",
       "        vertical-align: top;\n",
       "    }\n",
       "\n",
       "    .dataframe thead th {\n",
       "        text-align: right;\n",
       "    }\n",
       "</style>\n",
       "<table border=\"1\" class=\"dataframe\">\n",
       "  <thead>\n",
       "    <tr style=\"text-align: right;\">\n",
       "      <th></th>\n",
       "      <th>CT</th>\n",
       "      <th>UCSize</th>\n",
       "      <th>UCShape</th>\n",
       "      <th>MA</th>\n",
       "      <th>SECSize</th>\n",
       "      <th>BN</th>\n",
       "      <th>BC</th>\n",
       "      <th>NN</th>\n",
       "      <th>Mitoses</th>\n",
       "      <th>Diagnosis</th>\n",
       "    </tr>\n",
       "  </thead>\n",
       "  <tbody>\n",
       "    <tr>\n",
       "      <th>count</th>\n",
       "      <td>699.000000</td>\n",
       "      <td>699.000000</td>\n",
       "      <td>699.000000</td>\n",
       "      <td>699.000000</td>\n",
       "      <td>699.000000</td>\n",
       "      <td>699.000000</td>\n",
       "      <td>699.000000</td>\n",
       "      <td>699.000000</td>\n",
       "      <td>699.000000</td>\n",
       "      <td>699.000000</td>\n",
       "    </tr>\n",
       "    <tr>\n",
       "      <th>mean</th>\n",
       "      <td>4.417740</td>\n",
       "      <td>3.134478</td>\n",
       "      <td>3.207439</td>\n",
       "      <td>2.806867</td>\n",
       "      <td>3.216023</td>\n",
       "      <td>3.463519</td>\n",
       "      <td>3.437768</td>\n",
       "      <td>2.866953</td>\n",
       "      <td>1.589413</td>\n",
       "      <td>2.689557</td>\n",
       "    </tr>\n",
       "    <tr>\n",
       "      <th>std</th>\n",
       "      <td>2.815741</td>\n",
       "      <td>3.051459</td>\n",
       "      <td>2.971913</td>\n",
       "      <td>2.855379</td>\n",
       "      <td>2.214300</td>\n",
       "      <td>3.640708</td>\n",
       "      <td>2.438364</td>\n",
       "      <td>3.053634</td>\n",
       "      <td>1.715078</td>\n",
       "      <td>0.951273</td>\n",
       "    </tr>\n",
       "    <tr>\n",
       "      <th>min</th>\n",
       "      <td>1.000000</td>\n",
       "      <td>1.000000</td>\n",
       "      <td>1.000000</td>\n",
       "      <td>1.000000</td>\n",
       "      <td>1.000000</td>\n",
       "      <td>0.000000</td>\n",
       "      <td>1.000000</td>\n",
       "      <td>1.000000</td>\n",
       "      <td>1.000000</td>\n",
       "      <td>2.000000</td>\n",
       "    </tr>\n",
       "    <tr>\n",
       "      <th>25%</th>\n",
       "      <td>2.000000</td>\n",
       "      <td>1.000000</td>\n",
       "      <td>1.000000</td>\n",
       "      <td>1.000000</td>\n",
       "      <td>2.000000</td>\n",
       "      <td>1.000000</td>\n",
       "      <td>2.000000</td>\n",
       "      <td>1.000000</td>\n",
       "      <td>1.000000</td>\n",
       "      <td>2.000000</td>\n",
       "    </tr>\n",
       "    <tr>\n",
       "      <th>50%</th>\n",
       "      <td>4.000000</td>\n",
       "      <td>1.000000</td>\n",
       "      <td>1.000000</td>\n",
       "      <td>1.000000</td>\n",
       "      <td>2.000000</td>\n",
       "      <td>1.000000</td>\n",
       "      <td>3.000000</td>\n",
       "      <td>1.000000</td>\n",
       "      <td>1.000000</td>\n",
       "      <td>2.000000</td>\n",
       "    </tr>\n",
       "    <tr>\n",
       "      <th>75%</th>\n",
       "      <td>6.000000</td>\n",
       "      <td>5.000000</td>\n",
       "      <td>5.000000</td>\n",
       "      <td>4.000000</td>\n",
       "      <td>4.000000</td>\n",
       "      <td>5.000000</td>\n",
       "      <td>5.000000</td>\n",
       "      <td>4.000000</td>\n",
       "      <td>1.000000</td>\n",
       "      <td>4.000000</td>\n",
       "    </tr>\n",
       "    <tr>\n",
       "      <th>max</th>\n",
       "      <td>10.000000</td>\n",
       "      <td>10.000000</td>\n",
       "      <td>10.000000</td>\n",
       "      <td>10.000000</td>\n",
       "      <td>10.000000</td>\n",
       "      <td>10.000000</td>\n",
       "      <td>10.000000</td>\n",
       "      <td>10.000000</td>\n",
       "      <td>10.000000</td>\n",
       "      <td>4.000000</td>\n",
       "    </tr>\n",
       "  </tbody>\n",
       "</table>\n",
       "</div>"
      ],
      "text/plain": [
       "               CT      UCSize     UCShape          MA     SECSize          BN  \\\n",
       "count  699.000000  699.000000  699.000000  699.000000  699.000000  699.000000   \n",
       "mean     4.417740    3.134478    3.207439    2.806867    3.216023    3.463519   \n",
       "std      2.815741    3.051459    2.971913    2.855379    2.214300    3.640708   \n",
       "min      1.000000    1.000000    1.000000    1.000000    1.000000    0.000000   \n",
       "25%      2.000000    1.000000    1.000000    1.000000    2.000000    1.000000   \n",
       "50%      4.000000    1.000000    1.000000    1.000000    2.000000    1.000000   \n",
       "75%      6.000000    5.000000    5.000000    4.000000    4.000000    5.000000   \n",
       "max     10.000000   10.000000   10.000000   10.000000   10.000000   10.000000   \n",
       "\n",
       "               BC          NN     Mitoses   Diagnosis  \n",
       "count  699.000000  699.000000  699.000000  699.000000  \n",
       "mean     3.437768    2.866953    1.589413    2.689557  \n",
       "std      2.438364    3.053634    1.715078    0.951273  \n",
       "min      1.000000    1.000000    1.000000    2.000000  \n",
       "25%      2.000000    1.000000    1.000000    2.000000  \n",
       "50%      3.000000    1.000000    1.000000    2.000000  \n",
       "75%      5.000000    4.000000    1.000000    4.000000  \n",
       "max     10.000000   10.000000   10.000000    4.000000  "
      ]
     },
     "execution_count": 40,
     "metadata": {},
     "output_type": "execute_result"
    }
   ],
   "source": [
    "import pandas as pd\n",
    "import numpy as np\n",
    "\n",
    "headers = [\"ID\",\"CT\",\"UCSize\",\"UCShape\",\"MA\",\"SECSize\",\"BN\",\"BC\",\"NN\",\"Mitoses\",\"Diagnosis\"]\n",
    "data = pd.read_csv('breast-cancer-wisconsin.data', na_values='?',    \n",
    "         header=None, index_col=['ID'], names = headers) \n",
    "data = data.reset_index(drop=True)\n",
    "data = data.fillna(0)\n",
    "data.describe()"
   ]
  },
  {
   "cell_type": "markdown",
   "metadata": {
    "id": "eo1BRpN8-jFd"
   },
   "source": [
    "1. a) Implement a decision tree(from scratch using only python data structures) as a class."
   ]
  },
  {
   "cell_type": "code",
   "execution_count": 41,
   "metadata": {},
   "outputs": [],
   "source": [
    "\"\"\"\n",
    "SPLITTING DATA INTO TEST, TRAIN AND VALIDATION\n",
    "\"\"\"\n",
    "import sklearn.model_selection\n",
    "data_normalised = min_max_scaler(data)\n",
    "data_train, data_test = sklearn.model_selection.train_test_split(data,test_size=0.2)\n",
    "data_train, data_val = sklearn.model_selection.train_test_split(data_train,test_size=0.2)\n",
    "data_train_n, data_test_n = sklearn.model_selection.train_test_split(data_normalised,test_size=0.2)\n",
    "data_train_n, data_val_n = sklearn.model_selection.train_test_split(data_train_n,test_size=0.2)"
   ]
  },
  {
   "cell_type": "code",
   "execution_count": 42,
   "metadata": {
    "id": "SZ2-nGGPz3WK"
   },
   "outputs": [],
   "source": [
    "\"\"\"\n",
    "CLASS:\n",
    "- TREE NODE: for a node of tree\n",
    "- DECISION TREE: implementation of decision tree with different criteria including helper functions\n",
    "\"\"\"\n",
    "class tree_node:\n",
    "    def __init__(self,data,left=\"\",right=\"\"):\n",
    "        self.data = data\n",
    "        self.left = left\n",
    "        self.right = right\n",
    "\n",
    "class decision_tree:\n",
    "    def __init__(self,data,predict_col,max_depth=5,threshold=1):\n",
    "        self.data = data\n",
    "        self.max_depth = max_depth\n",
    "        self.threshold = threshold\n",
    "        self.pred_col = predict_col\n",
    "        self.root = tree_node(\"\")\n",
    "        \n",
    "    def fit_entropy(self):\n",
    "        self.root = self.train_entropy(self.data,0)\n",
    "        return self.root\n",
    "    def fit_gini(self):\n",
    "        self.root = self.train_gini(self.data,0)\n",
    "        return self.root\n",
    "    def fit_miss(self):\n",
    "        self.root = self.train_miss(self.data,0)\n",
    "        return self.root\n",
    "        \n",
    "    def train_entropy(self,data,counter):\n",
    "        if (self.is_pure(data)) or (len(data) < self.threshold) or (counter == self.max_depth):\n",
    "            return tree_node(self.classify(data))\n",
    "        else:\n",
    "            counter+=1\n",
    "            \n",
    "            col ,col_val,e= self.best_split_entropy(data)\n",
    "            data_true, data_false = self.split(data,col,col_val)\n",
    "\n",
    "            left = self.train_entropy(data_true,counter)\n",
    "            right = self.train_entropy(data_false,counter)\n",
    "\n",
    "            \n",
    "            if (left.data == right.data) and (\"==\" not in  str(left.data)) : \n",
    "                return tree_node(left.data)\n",
    "            data = \"{}=={}\".format(col,col_val)\n",
    "            return tree_node(data,left,right)\n",
    "    def train_gini(self,data,counter):\n",
    "        if (self.is_pure(data)) or (len(data) < self.threshold) or (counter == self.max_depth):\n",
    "            return tree_node(self.classify(data))\n",
    "        else:\n",
    "            counter+=1\n",
    "            \n",
    "            col ,col_val,e= self.best_split_gini(data)\n",
    "#             print(col,col_val,e)\n",
    "            data_true, data_false = self.split(data,col,col_val)\n",
    "            left = self.train_gini(data_true,counter)\n",
    "            right = self.train_gini(data_false,counter)\n",
    "            \n",
    "            if (left.data == right.data) and (\"==\" not in  str(left.data)) : \n",
    "#                 print(\"same\",left.data,col,col_val,e)\n",
    "                return tree_node(left.data)\n",
    "            data = \"{}=={}\".format(col,col_val)\n",
    "            return tree_node(data,left,right)\n",
    "    def train_miss(self,data,counter):\n",
    "        if (self.is_pure(data)) or (len(data) < self.threshold) or (counter == self.max_depth):\n",
    "            return tree_node(self.classify(data))\n",
    "        else:\n",
    "            counter+=1\n",
    "            \n",
    "            \n",
    "            col ,col_val,e= self.best_split_miss(data)\n",
    "            data_true, data_false = self.split(data,col,col_val)\n",
    "#             print(col,col_val,e,len(data_true),len(data_false))\n",
    "            \n",
    "            left = self.train_miss(data_true,counter)\n",
    "            right = self.train_miss(data_false,counter)\n",
    "            \n",
    "            if (left.data == right.data) and (\"==\" not in  str(left.data)) : \n",
    "#                 print(\"same\",col,col_val,e,len(data_true),len(data_false))\n",
    "                return tree_node(left.data)\n",
    "            data = \"{}=={}\".format(col,col_val)\n",
    "            return tree_node(data,left,right)\n",
    "         \n",
    "\n",
    "            \n",
    "        \n",
    "    def classify(self, data):\n",
    "        if(len(data) == 0): return 2\n",
    "        unique_y,count = np.unique(data[self.pred_col],return_counts=True)\n",
    "        return unique_y[np.argmax(count)]\n",
    "    \n",
    "    def potential_splits(self,data,col):\n",
    "        return sorted(data[col].unique())\n",
    "    \n",
    "    def get_entropy(self, data):\n",
    "        p = (data[self.pred_col].value_counts()/len(data))\n",
    "        return sum(p*-np.log2(p))\n",
    "    def get_miss(self, data):\n",
    "\n",
    "        p = (data[self.pred_col].value_counts()/len(data)).to_numpy().reshape(-1,1)\n",
    "        x,_ = p.shape\n",
    "\n",
    "        if(x==0): return 0\n",
    "\n",
    "        p = np.insert(p,1,(1-p).flatten(),axis=1)\n",
    "        p = np.max(p)\n",
    "\n",
    "        \n",
    "        return np.sum(1-p)\n",
    "    \n",
    "    def get_gini_index(self,data):\n",
    "        p = (data[self.pred_col].value_counts()/len(data))\n",
    "        return sum(p*(1-(p)))\n",
    "\n",
    "    def calculate_entrory(self, data_true,data_false):\n",
    "        t,f = len(data_true) , len(data_false)\n",
    "        n = t+f\n",
    "        return t/n*(self.get_entropy(data_true))+f/n*(self.get_entropy(data_false))\n",
    "    def calculate_miss(self, data_true,data_false):\n",
    "        t,f = len(data_true) , len(data_false)\n",
    "        n = t+f\n",
    "        return t/n*(self.get_miss(data_true))+f/n*(self.get_miss(data_false))\n",
    "\n",
    "    def calculate_gini_index(self,data_true,data_false):\n",
    "        t,f = len(data_true) , len(data_false)\n",
    "        n = t+f\n",
    "        return t/n*(self.get_gini_index(data_true))+f/n*(self.get_gini_index(data_false))\n",
    "    def best_split_entropy(self, data):\n",
    "#         print(data.describe())\n",
    "        col,col_val = \"\",\"\"\n",
    "        min_entropy = 99 \n",
    "        for column in data.columns:\n",
    "            if(column != self.pred_col):\n",
    "                for col_value in self.potential_splits(data,column):\n",
    "                    data_true, data_false = self.split(data,column,col_value)\n",
    "            \n",
    "                    e = self.calculate_entrory(data_true,data_false)\n",
    "                    if(e < min_entropy):\n",
    "                        col , col_val, min_entropy = column, col_value, e\n",
    "                        \n",
    "                  \n",
    "        return col,col_val,min_entropy\n",
    "    def best_split_miss(self, data):\n",
    "        col,col_val = \"\",\"\"\n",
    "        min_entropy = 99 \n",
    "        for column in data.columns:\n",
    "            if(column != self.pred_col):\n",
    "                for col_value in self.potential_splits(data,column):\n",
    "                    data_true, data_false = self.split(data,column,col_value)\n",
    "            \n",
    "                    e = self.calculate_miss(data_true,data_false)\n",
    "                    if(e < min_entropy):\n",
    "                        col , col_val, min_entropy = column, col_value, e\n",
    "                  \n",
    "        return col,col_val,min_entropy\n",
    "    \n",
    "    def best_split_gini(self, data):\n",
    "        col,col_val = \"\",\"\"\n",
    "        min_entropy = 99 \n",
    "        for column in data.columns:\n",
    "            if(column != self.pred_col):\n",
    "                for col_value in self.potential_splits(data,column):\n",
    "                    data_true, data_false = self.split(data,column,col_value)\n",
    "            \n",
    "                    e = self.calculate_gini_index(data_true,data_false)\n",
    "                    if(e < min_entropy):\n",
    "                        col , col_val, min_entropy = column, col_value, e\n",
    "                  \n",
    "        return col,col_val,min_entropy\n",
    "    \n",
    "    def split(self, data ,col_no, col_value):\n",
    "        t,f =  data[data[col_no] == col_value], data[data[col_no] != col_value]        \n",
    "        return t,f\n",
    "\n",
    "    def is_pure(self, data):        \n",
    "        unique_y = data[self.pred_col].unique()\n",
    "        return len(unique_y) == 1"
   ]
  },
  {
   "cell_type": "code",
   "execution_count": 43,
   "metadata": {},
   "outputs": [],
   "source": [
    "\"\"\"\n",
    "HELPER FUNCTIONS:\n",
    "- prediction\n",
    "- DFS traversal\n",
    "\"\"\"\n",
    "def pred(data_row,tree):\n",
    "    if \"==\" not in str(tree.data): return tree.data\n",
    "    else:\n",
    "        \n",
    "        col,col_value = tree.data.split(\"==\")\n",
    "        if (data_row[col] == float(col_value)): return pred(data_row,tree.left)\n",
    "        else: return pred(data_row,tree.right)\n",
    "\n",
    "def dfs(node,i,filepointer):\n",
    "    s = \"\"\n",
    "    for x in range(i):s+=\"\\t\"\n",
    "    filepointer.write(s+str(node.data)+\"\\n\")\n",
    "    if(node.left !=\"\"): \n",
    "        filepointer.write(s+\"TRUE Branch\\n\")\n",
    "        dfs(node.left,i+1,filepointer)\n",
    "    if(node.right !=\"\"):\n",
    "        filepointer.write(s+\"FALSE Branch\\n\")\n",
    "        dfs(node.right,i+1,filepointer)"
   ]
  },
  {
   "cell_type": "code",
   "execution_count": 44,
   "metadata": {},
   "outputs": [
    {
     "name": "stdout",
     "output_type": "stream",
     "text": [
      "Best hyperparameter:  depth = 5 threshold = 2 0.9375\n"
     ]
    }
   ],
   "source": [
    "\"\"\"\n",
    "getting the hyper parameter \n",
    "\"\"\"\n",
    "depths = [2,4,5,7,10]\n",
    "threasholds = [2,4,5]\n",
    "validation = {}\n",
    "for depth in depths:\n",
    "    for threshold in threasholds:\n",
    "        d = decision_tree(data_train,\"Diagnosis\",max_depth=depth,threshold=threshold)\n",
    "        x1 = time.time()\n",
    "        tree_entropy = d.fit_entropy()\n",
    "        x2 = time.time()\n",
    "        tree_gini = d.fit_gini()\n",
    "        x3 = time.time()\n",
    "        tree_miss = d.fit_miss()\n",
    "        x4 = time.time()\n",
    "        pred_class_ent = data_val.apply(pred,tree=tree_entropy,axis=1)\n",
    "        pred_class_gini = data_val.apply(pred,tree=tree_gini,axis=1)\n",
    "        pred_class_miss = data_val.apply(pred,tree=tree_miss,axis=1)\n",
    "        error = [1-np.sum(pred_class_ent.to_numpy() != data_val.iloc[:,-1].to_numpy())/len(data_val),\n",
    "                 1-np.sum(pred_class_gini.to_numpy() != data_val.iloc[:,-1].to_numpy())/len(data_val),\n",
    "                 1-np.sum(pred_class_miss.to_numpy() != data_val.iloc[:,-1].to_numpy())/len(data_val)]\n",
    "        validation[\"depth = \"+str(depth)+\" threshold = \"+str(threshold)] = error\n",
    "\n",
    "max_acc = 0\n",
    "final_dt = \"\"\n",
    "for dt in validation.keys():\n",
    "    if max_acc < max(validation[dt]):\n",
    "        final_dt = dt\n",
    "        max_acc = max(validation[dt])\n",
    "print(\"Best hyperparameter: \",final_dt,max_acc)"
   ]
  },
  {
   "cell_type": "markdown",
   "metadata": {
    "id": "N8tisI0rABrd"
   },
   "source": [
    "1. b) Train a decision tree object of the above class on the WBC dataset using misclassification rate, entropy and Gini as the splitting metrics."
   ]
  },
  {
   "cell_type": "code",
   "execution_count": 46,
   "metadata": {
    "id": "PM_O8jULEVn2"
   },
   "outputs": [
    {
     "name": "stdout",
     "output_type": "stream",
     "text": [
      "Entropy ran for: 3.001664161682129\n",
      "Gini ran for: 2.842646360397339\n",
      "Missclassification ran for 2.687985420227051\n"
     ]
    }
   ],
   "source": [
    "\"\"\"\n",
    "TRAINING AND CALCULATING ERROR:\n",
    "- depth = 5\n",
    "- purity_measure = 2\n",
    "\"\"\"\n",
    "d = decision_tree(data_train,\"Diagnosis\",max_depth=5,threshold=2)\n",
    "x1 = time.time()\n",
    "tree_entropy = d.fit_entropy()\n",
    "x2 = time.time()\n",
    "print(\"Entropy ran for:\",x2-x1)\n",
    "tree_gini = d.fit_gini()\n",
    "x3 = time.time()\n",
    "print(\"Gini ran for:\",x3-x2)\n",
    "tree_miss = d.fit_miss()\n",
    "x4 = time.time()\n",
    "print(\"Missclassification ran for\",x4-x3)"
   ]
  },
  {
   "cell_type": "markdown",
   "metadata": {
    "id": "KS_5y9sPFrYv"
   },
   "source": [
    "1. c) Report the accuracies in each of the above splitting metrics and give the best result. "
   ]
  },
  {
   "cell_type": "code",
   "execution_count": 47,
   "metadata": {
    "id": "1jDvTBgPHE19"
   },
   "outputs": [
    {
     "name": "stdout",
     "output_type": "stream",
     "text": [
      "entropy \t\t Gini \t\t\t misclassification rate\n",
      "0.9357142857142857 \t\t 0.95 \t\t 0.9571428571428572\n"
     ]
    }
   ],
   "source": [
    "pred_class_ent = data_test.apply(pred,tree=tree_entropy,axis=1)\n",
    "pred_class_gini = data_test.apply(pred,tree=tree_gini,axis=1)\n",
    "pred_class_miss = data_test.apply(pred,tree=tree_miss,axis=1)\n",
    "error = [1-np.sum(pred_class_ent.to_numpy() != data_test.iloc[:,-1].to_numpy())/len(data_test),\n",
    "         1-np.sum(pred_class_gini.to_numpy() != data_test.iloc[:,-1].to_numpy())/len(data_test),\n",
    "         1-np.sum(pred_class_miss.to_numpy() != data_test.iloc[:,-1].to_numpy())/len(data_test)]\n",
    "print( \"entropy \\t\\t Gini \\t\\t\\t misclassification rate\")\n",
    "print(error[0],\"\\t\\t\",error[1],\"\\t\\t\",error[2])"
   ]
  },
  {
   "cell_type": "markdown",
   "metadata": {
    "id": "CotPmJDKHD0c"
   },
   "source": [
    "1. d) Experiment with different approaches to decide when to terminate the tree(number of layers, purity measure, etc). Report and give explanations for all approaches. "
   ]
  },
  {
   "cell_type": "code",
   "execution_count": 48,
   "metadata": {
    "id": "n_PJLrIUHZEm"
   },
   "outputs": [
    {
     "name": "stdout",
     "output_type": "stream",
     "text": [
      "\t\t\t\t entropy \t Gini \t misclassification rate\n",
      "depth = 2 threshold = 2 \t 0.9196 \t 0.9196 \t 0.9196\n",
      "depth = 2 threshold = 4 \t 0.9196 \t 0.9196 \t 0.9196\n",
      "depth = 2 threshold = 5 \t 0.9196 \t 0.9196 \t 0.9196\n",
      "depth = 4 threshold = 2 \t 0.9107 \t 0.9286 \t 0.9286\n",
      "depth = 4 threshold = 4 \t 0.9107 \t 0.9286 \t 0.9286\n",
      "depth = 4 threshold = 5 \t 0.9107 \t 0.9286 \t 0.9286\n",
      "depth = 5 threshold = 2 \t 0.9196 \t 0.9286 \t 0.9375\n",
      "depth = 5 threshold = 4 \t 0.9196 \t 0.9286 \t 0.9375\n",
      "depth = 5 threshold = 5 \t 0.9196 \t 0.9286 \t 0.9375\n",
      "depth = 7 threshold = 2 \t 0.9196 \t 0.9286 \t 0.9375\n",
      "depth = 7 threshold = 4 \t 0.9196 \t 0.9286 \t 0.9375\n",
      "depth = 7 threshold = 5 \t 0.9196 \t 0.9286 \t 0.9375\n",
      "depth = 10 threshold = 2 \t 0.9107 \t 0.9196 \t 0.9286\n",
      "depth = 10 threshold = 4 \t 0.9107 \t 0.9196 \t 0.9286\n",
      "depth = 10 threshold = 5 \t 0.9018 \t 0.9196 \t 0.9286\n"
     ]
    }
   ],
   "source": [
    "print( \"\\t\\t\\t\\t entropy \\t Gini \\t misclassification rate\")\n",
    "for dt in validation:\n",
    "    print(dt,\"\\t\",round(validation[dt][0],4),\"\\t\",round(validation[dt][1],4),\"\\t\",round(validation[dt][2],4))"
   ]
  },
  {
   "cell_type": "markdown",
   "metadata": {
    "id": "E3BO_sxvHZ3m"
   },
   "source": [
    "1. e) Does standardisation and normalisation help in this case? Report"
   ]
  },
  {
   "cell_type": "markdown",
   "metadata": {
    "id": "bsox4fb5H0vO"
   },
   "source": [
    "Answer:\n",
    "`The normalisation wont have a effect as here weights of individual features wont matter because we are splitting according to a citeria(gini,entropy,missclassification rate) which does not involve weight. The normalisation only plays a role where we are determining the weight according to a feature`"
   ]
  },
  {
   "cell_type": "markdown",
   "metadata": {
    "id": "PcCvNmtvH84l"
   },
   "source": [
    "2. Compare your trained model with a model trained by the scikit-learn DecisionTreeClassifier module. Compare accuracies."
   ]
  },
  {
   "cell_type": "code",
   "execution_count": 49,
   "metadata": {
    "id": "OzSDqUoNHaOg"
   },
   "outputs": [
    {
     "name": "stdout",
     "output_type": "stream",
     "text": [
      "accuracy with sklearn= 0.9428571428571428\n",
      "accuracy with our model= 0.9571428571428572\n"
     ]
    }
   ],
   "source": [
    "from sklearn.tree import DecisionTreeClassifier\n",
    "xtrain,ytrain = data_train.iloc[:,data_train.columns != \"Diagnosis\"], data_train.iloc[:,data_train.columns == \"Diagnosis\"]\n",
    "xtest,ytest = data_test.iloc[:,data_test.columns != \"Diagnosis\"], data_test.iloc[:,data_test.columns == \"Diagnosis\"]\n",
    "dt = DecisionTreeClassifier()\n",
    "dt.fit(xtrain, ytrain)\n",
    "predy = dt.predict(xtest)\n",
    "print(\"accuracy with sklearn=\",np.sum(predy.reshape(-1,1)== ytest.to_numpy())/len(xtest))\n",
    "print(\"accuracy with our model=\",error[2])\n"
   ]
  },
  {
   "cell_type": "markdown",
   "metadata": {},
   "source": [
    "**Our model has given better accuracy as compared to scikit-learn DecisionTreeClassifier**"
   ]
  },
  {
   "cell_type": "markdown",
   "metadata": {
    "id": "TXOy8NUqIHlh"
   },
   "source": [
    "3. Output a depth first traversal of your decision tree in a file named ```outputimp.txt``` respectively in the following format and submit it along with the assignment.\n",
    "\n",
    "\n",
    "```\n",
    "<Node classification criteria in words.>\n",
    "<Branch label>\n",
    "  ... And so on, recursively.\n",
    "```\n",
    " \n",
    "For example,\n",
    "a depth first search traversal for the below decision tree would be:\n",
    "\n",
    "![Decision tree (4).png](data:image/png;base64,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)\n",
    "```\n",
    "Is A>5?\n",
    "True Branch\n",
    "  Is B>10?\n",
    "  True Branch\n",
    "    Versicolor\n",
    "  Is B>10?\n",
    "  False Branch\n",
    "    Setosa\n",
    "Is A>5?\n",
    "False Branch\n",
    "\tVirginica\n",
    "\n",
    "```\n",
    "\n",
    "\n"
   ]
  },
  {
   "cell_type": "code",
   "execution_count": 50,
   "metadata": {
    "id": "nvqtvFyFOZXF"
   },
   "outputs": [
    {
     "name": "stdout",
     "output_type": "stream",
     "text": [
      "Decision tree with entropy saved in outputimp.txt\n"
     ]
    }
   ],
   "source": [
    "with open(\"outputimp.txt\",\"w\") as f:\n",
    "    dfs(tree_entropy,0,f)\n",
    "print(\"Decision tree with entropy saved in outputimp.txt\")"
   ]
  },
  {
   "cell_type": "markdown",
   "metadata": {
    "id": "ZS1jGnaKOaG7"
   },
   "source": [
    "4. Experiment with removing features that are redundant, highly correlated with other features and report accuracies of the resulting model. Explain your approach."
   ]
  },
  {
   "cell_type": "markdown",
   "metadata": {
    "id": "2vMLvn1UOZu7"
   },
   "source": [
    "**Removing correlated features wont have a effect on the decision tree accuracy as highly correlated also gets divided as seen in the output tree UCSIZE and UCSHAPE are highly corelated and hence after the splitting with UCSIZE the UCSHAPE rarely occurs**"
   ]
  },
  {
   "cell_type": "markdown",
   "metadata": {
    "id": "IrDwLUnaPdaQ"
   },
   "source": [
    "5. Report the advantages and disadvantages of decision trees based on the above question."
   ]
  },
  {
   "cell_type": "markdown",
   "metadata": {
    "id": "glMTM1WTPfwO"
   },
   "source": [
    "Answer:\n",
    "- **Advantage** In decision tree normalisation isn't required, it is easy to understand and explain\n",
    "- **Disadvantages** Training time is comparatively higher"
   ]
  }
 ],
 "metadata": {
  "colab": {
   "collapsed_sections": [
    "6poNZp96z1gN"
   ],
   "name": "SMAI -Assignment1.ipynb",
   "provenance": []
  },
  "kernelspec": {
   "display_name": "Python 3",
   "language": "python",
   "name": "python3"
  },
  "language_info": {
   "codemirror_mode": {
    "name": "ipython",
    "version": 3
   },
   "file_extension": ".py",
   "mimetype": "text/x-python",
   "name": "python",
   "nbconvert_exporter": "python",
   "pygments_lexer": "ipython3",
   "version": "3.9.1"
  }
 },
 "nbformat": 4,
 "nbformat_minor": 1
}
