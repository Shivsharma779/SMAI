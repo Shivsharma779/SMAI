{
  "nbformat": 4,
  "nbformat_minor": 5,
  "metadata": {
    "kernelspec": {
      "name": "python3",
      "display_name": "Python 3"
    },
    "colab": {
      "name": "shiv_A3_q2.ipynb",
      "provenance": [],
      "collapsed_sections": []
    },
    "language_info": {
      "name": "python"
    },
    "accelerator": "GPU"
  },
  "cells": [
    {
      "cell_type": "markdown",
      "metadata": {
        "id": "DVrJ4P454fEi"
      },
      "source": [
        "# Import "
      ],
      "id": "DVrJ4P454fEi"
    },
    {
      "cell_type": "code",
      "metadata": {
        "id": "C-47ZljQE9Pn"
      },
      "source": [
        "import torch\n",
        "import torchvision\n",
        "import torchvision.transforms as transforms\n",
        "import torch.nn as nn\n",
        "import torch.nn.functional as F\n",
        "import matplotlib.pyplot as plt\n",
        "from torch.utils.data import random_split, ConcatDataset"
      ],
      "id": "C-47ZljQE9Pn",
      "execution_count": 1,
      "outputs": []
    },
    {
      "cell_type": "markdown",
      "metadata": {
        "id": "YrDsJlP94i5d"
      },
      "source": [
        "# Loading data"
      ],
      "id": "YrDsJlP94i5d"
    },
    {
      "cell_type": "code",
      "metadata": {
        "colab": {
          "base_uri": "https://localhost:8080/"
        },
        "id": "SKY5Tdqbn04A",
        "outputId": "d76ada36-2a4c-4025-b69a-556e6790b771"
      },
      "source": [
        "train_size = 49000\n",
        "val_size =  9800\n",
        "test_size = 21000\n",
        "batch_size=512\n",
        "random_seed = 42\n",
        "torch.cuda.is_available()"
      ],
      "id": "SKY5Tdqbn04A",
      "execution_count": 2,
      "outputs": [
        {
          "output_type": "execute_result",
          "data": {
            "text/plain": [
              "True"
            ]
          },
          "metadata": {
            "tags": []
          },
          "execution_count": 2
        }
      ]
    },
    {
      "cell_type": "code",
      "metadata": {
        "colab": {
          "base_uri": "https://localhost:8080/"
        },
        "id": "n4OSLu4bFB46",
        "outputId": "71e3c234-3c24-4687-a5a0-ab7d504bbe94"
      },
      "source": [
        "transform = transforms.Compose([transforms.ToTensor()])\n",
        "dataset = torchvision.datasets.MNIST(root='./data', train=True, download=True, transform=transform)\n",
        "testset = torchvision.datasets.MNIST(root='./data', train=False, download=True, transform=transform)\n",
        "full_DS = ConcatDataset([dataset,testset])\n",
        "\n",
        "torch.manual_seed(random_seed);\n",
        "train_ds, testset = random_split(full_DS, [train_size, test_size])\n",
        "train_ds, val_ds = random_split(train_ds, [train_size-val_size, val_size])\n",
        "\n",
        "train_dl = torch.utils.data.DataLoader(train_ds, batch_size, shuffle=True, num_workers=2, pin_memory=True)\n",
        "val_dl = torch.utils.data.DataLoader(val_ds, batch_size*2, num_workers=2, pin_memory=True)\n",
        "test_dl = torch.utils.data.DataLoader(testset, batch_size=4, shuffle=False, num_workers=2)\n",
        "len(train_ds), len(val_ds), len(testset)"
      ],
      "id": "n4OSLu4bFB46",
      "execution_count": 3,
      "outputs": [
        {
          "output_type": "execute_result",
          "data": {
            "text/plain": [
              "(39200, 9800, 21000)"
            ]
          },
          "metadata": {
            "tags": []
          },
          "execution_count": 3
        }
      ]
    },
    {
      "cell_type": "markdown",
      "metadata": {
        "id": "0xnmc70z4lgi"
      },
      "source": [
        "# Models"
      ],
      "id": "0xnmc70z4lgi"
    },
    {
      "cell_type": "code",
      "metadata": {
        "id": "DARd6ha8ZaDT"
      },
      "source": [
        "class ImageClassificationBase(nn.Module):\n",
        "    def training_step(self, batch):\n",
        "        images, labels = batch \n",
        "        out = self(images) \n",
        "        criteria = nn.MSELoss()\n",
        "        loss = criteria(out, images) # Calculate loss\n",
        "        return loss\n",
        "    \n",
        "    def validation_step(self, batch):\n",
        "        images, labels = batch \n",
        "        out = self(images)                    # Generate predictions\n",
        "        \n",
        "        criteria = nn.MSELoss()\n",
        "        loss = criteria(out, images)  # Calculate loss\n",
        "        # acc = accuracy(out, labels)           # Calculate accuracy\n",
        "        return {'val_loss': loss.detach()}\n",
        "        \n",
        "    def validation_epoch_end(self, outputs):\n",
        "        batch_losses = [x['val_loss'] for x in outputs]\n",
        "        epoch_loss = torch.stack(batch_losses).mean()   # Combine losses\n",
        "        # batch_accs = [x['val_acc'] for x in outputs]\n",
        "        # epoch_acc = torch.stack(batch_accs).mean()      # Combine accuracies\n",
        "        return {'val_loss': epoch_loss.item()}\n",
        "    \n",
        "    def epoch_end(self, epoch, result):\n",
        "        print(\"Epoch [{}], train_loss: {:.4f}, val_loss: {:.4f}\".format(\n",
        "            epoch, result['train_loss'], result['val_loss']))\n",
        "        \n",
        "def accuracy(outputs, labels):\n",
        "    _, preds = torch.max(outputs, dim=1)\n",
        "    return torch.tensor(torch.sum(preds == labels).item() / len(preds))"
      ],
      "id": "DARd6ha8ZaDT",
      "execution_count": 4,
      "outputs": []
    },
    {
      "cell_type": "code",
      "metadata": {
        "id": "hOgCsDcjhUmG"
      },
      "source": [
        "class Autoencoder128(ImageClassificationBase):\n",
        "    def __init__(self):\n",
        "        super().__init__()        \n",
        "        # N, 1, 28, 28\n",
        "        self.encoder = nn.Sequential(\n",
        "            nn.Conv2d(1, 16, 3, stride=2, padding=1), # -> N, 16, 14, 14\n",
        "            nn.ReLU(),\n",
        "            nn.Conv2d(16, 64, 3, stride=2, padding=1), # -> N, 32, 7, 7\n",
        "            nn.ReLU(),\n",
        "            nn.Conv2d(64, 128, 7) # -> N, 64, 1, 1\n",
        "        )\n",
        "        \n",
        "        # N , 64, 1, 1\n",
        "        self.decoder = nn.Sequential(\n",
        "            nn.ConvTranspose2d(128, 64, 7), # -> N, 32, 7, 7\n",
        "            nn.ReLU(),\n",
        "            nn.ConvTranspose2d(64, 16, 3, stride=2, padding=1, output_padding=1), # N, 16, 14, 14 (N,16,13,13 without output_padding)\n",
        "            nn.ReLU(),\n",
        "            nn.ConvTranspose2d(16, 1, 3, stride=2, padding=1, output_padding=1), # N, 1, 28, 28  (N,1,27,27)\n",
        "            nn.Sigmoid()\n",
        "        )\n",
        "\n",
        "    def forward(self, x):\n",
        "        encoded = self.encoder(x)\n",
        "        decoded = self.decoder(encoded)\n",
        "        return decoded\n",
        "class Autoencoder64(ImageClassificationBase):\n",
        "    def __init__(self):\n",
        "        super().__init__()        \n",
        "        # N, 1, 28, 28\n",
        "        self.encoder = nn.Sequential(\n",
        "            nn.Conv2d(1, 16, 3, stride=2, padding=1), # -> N, 16, 14, 14\n",
        "            nn.ReLU(),\n",
        "            nn.Conv2d(16, 32, 3, stride=2, padding=1), # -> N, 32, 7, 7\n",
        "            nn.ReLU(),\n",
        "            nn.Conv2d(32, 64, 7) # -> N, 64, 1, 1\n",
        "        )\n",
        "        \n",
        "        # N , 64, 1, 1\n",
        "        self.decoder = nn.Sequential(\n",
        "            nn.ConvTranspose2d(64, 32, 7), # -> N, 32, 7, 7\n",
        "            nn.ReLU(),\n",
        "            nn.ConvTranspose2d(32, 16, 3, stride=2, padding=1, output_padding=1), # N, 16, 14, 14 (N,16,13,13 without output_padding)\n",
        "            nn.ReLU(),\n",
        "            nn.ConvTranspose2d(16, 1, 3, stride=2, padding=1, output_padding=1), # N, 1, 28, 28  (N,1,27,27)\n",
        "            nn.Sigmoid()\n",
        "        )\n",
        "\n",
        "    def forward(self, x):\n",
        "        encoded = self.encoder(x)\n",
        "        decoded = self.decoder(encoded)\n",
        "        return decoded\n",
        "class Autoencoder32(ImageClassificationBase):\n",
        "    def __init__(self):\n",
        "        super().__init__()        \n",
        "        # N, 1, 28, 28\n",
        "        self.encoder = nn.Sequential(\n",
        "            nn.Conv2d(1, 8, 3, stride=2, padding=1), # -> N, 16, 14, 14\n",
        "            nn.ReLU(),\n",
        "            nn.Conv2d(8, 16, 3, stride=2, padding=1), # -> N, 32, 7, 7\n",
        "            nn.ReLU(),\n",
        "            nn.Conv2d(16, 32, 7) # -> N, 64, 1, 1\n",
        "        )\n",
        "        \n",
        "        # N , 64, 1, 1\n",
        "        self.decoder = nn.Sequential(\n",
        "            nn.ConvTranspose2d(32, 16, 7), # -> N, 32, 7, 7\n",
        "            nn.ReLU(),\n",
        "            nn.ConvTranspose2d(16, 8, 3, stride=2, padding=1, output_padding=1), # N, 16, 14, 14 (N,16,13,13 without output_padding)\n",
        "            nn.ReLU(),\n",
        "            nn.ConvTranspose2d(8, 1, 3, stride=2, padding=1, output_padding=1), # N, 1, 28, 28  (N,1,27,27)\n",
        "            nn.Sigmoid()\n",
        "        )\n",
        "\n",
        "    def forward(self, x):\n",
        "        encoded = self.encoder(x)\n",
        "        decoded = self.decoder(encoded)\n",
        "        return decoded\n",
        "class Autoencoder16(ImageClassificationBase):\n",
        "    def __init__(self):\n",
        "        super().__init__()        \n",
        "        # N, 1, 28, 28\n",
        "        self.encoder = nn.Sequential(\n",
        "            nn.Conv2d(1, 4, 3, stride=2, padding=1), # -> N, 16, 14, 14\n",
        "            nn.ReLU(),\n",
        "            nn.Conv2d(4, 8, 3, stride=2, padding=1), # -> N, 32, 7, 7\n",
        "            nn.ReLU(),\n",
        "            nn.Conv2d(8, 16, 7) # -> N, 64, 1, 1\n",
        "        )\n",
        "        \n",
        "        # N , 64, 1, 1\n",
        "        self.decoder = nn.Sequential(\n",
        "            nn.ConvTranspose2d(16, 8, 7), # -> N, 32, 7, 7\n",
        "            nn.ReLU(),\n",
        "            nn.ConvTranspose2d(8, 4, 3, stride=2, padding=1, output_padding=1), # N, 16, 14, 14 (N,16,13,13 without output_padding)\n",
        "            nn.ReLU(),\n",
        "            nn.ConvTranspose2d(4, 1, 3, stride=2, padding=1, output_padding=1), # N, 1, 28, 28  (N,1,27,27)\n",
        "            nn.Sigmoid()\n",
        "        )\n",
        "\n",
        "    def forward(self, x):\n",
        "        encoded = self.encoder(x)\n",
        "        decoded = self.decoder(encoded)\n",
        "        return decoded"
      ],
      "id": "hOgCsDcjhUmG",
      "execution_count": 5,
      "outputs": []
    },
    {
      "cell_type": "markdown",
      "metadata": {
        "id": "HVSBJjkm4opW"
      },
      "source": [
        "# Helper functions"
      ],
      "id": "HVSBJjkm4opW"
    },
    {
      "cell_type": "code",
      "metadata": {
        "id": "5Cp2HJT4iJiM"
      },
      "source": [
        "def get_default_device():\n",
        "    \"\"\"Pick GPU if available, else CPU\"\"\"\n",
        "    if torch.cuda.is_available():\n",
        "        return torch.device('cuda')\n",
        "    else:\n",
        "        return torch.device('cpu')\n",
        "    \n",
        "def to_device(data, device):\n",
        "    \"\"\"Move tensor(s) to chosen device\"\"\"\n",
        "    if isinstance(data, (list,tuple)):\n",
        "        return [to_device(x, device) for x in data]\n",
        "    return data.to(device, non_blocking=True)\n",
        "\n",
        "class DeviceDataLoader():\n",
        "    \"\"\"Wrap a dataloader to move data to a device\"\"\"\n",
        "    def __init__(self, dl, device):\n",
        "        self.dl = dl\n",
        "        self.device = device\n",
        "        \n",
        "    def __iter__(self):\n",
        "        \"\"\"Yield a batch of data after moving it to device\"\"\"\n",
        "        for b in self.dl: \n",
        "            yield to_device(b, self.device)\n",
        "\n",
        "    def __len__(self):\n",
        "        \"\"\"Number of batches\"\"\"\n",
        "        return len(self.dl)"
      ],
      "id": "5Cp2HJT4iJiM",
      "execution_count": 6,
      "outputs": []
    },
    {
      "cell_type": "code",
      "metadata": {
        "id": "mxuTArjn41Ix"
      },
      "source": [
        "@torch.no_grad()\n",
        "def evaluate(model, val_loader):\n",
        "    model.eval()\n",
        "    outputs = [model.validation_step(batch) for batch in val_loader]\n",
        "    return model.validation_epoch_end(outputs)\n",
        "\n",
        "def fit(question_no,epochs, lr, model, train_loader, val_loader, opt_func,sch_func,sgd_param=False):\n",
        "    history = []\n",
        "    if sgd_param == False:\n",
        "        optimizer = opt_func(model.parameters(), lr)\n",
        "    else:\n",
        "         optimizer = opt_func(model.parameters(), lr, momentum=0.9)\n",
        "    # optimizer = opt_func(model.parameters(), lr)\n",
        "    scheduler = sch_func(optimizer, step_size=1000, gamma=0.8)\n",
        "    val_loss = 99999999999999999\n",
        "    for epoch in range(epochs):\n",
        "        # Training Phase \n",
        "        model.train()\n",
        "        train_losses = []\n",
        "        for batch in train_loader:\n",
        "            loss = model.training_step(batch)\n",
        "            train_losses.append(loss)\n",
        "            loss.backward()\n",
        "            optimizer.step()\n",
        "            scheduler.step()\n",
        "            optimizer.zero_grad()\n",
        "        # Validation phase\n",
        "        result = evaluate(model, val_loader)\n",
        "        result['train_loss'] = torch.stack(train_losses).mean().item()\n",
        "        model.epoch_end(epoch, result)\n",
        "        history.append(result)\n",
        "        if (val_loss > history[-1][\"val_loss\"]):\n",
        "            torch.save(model.state_dict(), question_no)\n",
        "            print(\"saving model for\", question_no)\n",
        "            val_loss = history[-1][\"val_loss\"]\n",
        "    return history\n",
        "def test_accuracy(model, test_loader):\n",
        "    result = evaluate(model, test_loader)    \n",
        "    return result[\"val_loss\"]"
      ],
      "id": "mxuTArjn41Ix",
      "execution_count": 7,
      "outputs": []
    },
    {
      "cell_type": "code",
      "metadata": {
        "id": "YVQyZCGQJIf_"
      },
      "source": [
        "def fitall(question_no,epochs, lr, model, train_loader, val_loader, opt_func,sch_func,sgd_param=False):\n",
        "    history = []\n",
        "    if sgd_param == False:\n",
        "        optimizer = opt_func(model.parameters(), lr)\n",
        "    else:\n",
        "         optimizer = opt_func(model.parameters(), lr, momentum=0.9)\n",
        "    scheduler = sch_func(optimizer, step_size=1000, gamma=0.8)\n",
        "\n",
        "    val_loss = 99999999999999999\n",
        "    for epoch in range(epochs):\n",
        "        # Training Phase \n",
        "        model.train()\n",
        "        train_losses = []\n",
        "        for batch in train_loader:\n",
        "            loss = model.training_step(batch)\n",
        "            train_losses.append(loss)\n",
        "            loss.backward()\n",
        "            optimizer.step()\n",
        "            scheduler.step()\n",
        "            optimizer.zero_grad()\n",
        "        # Validation phase\n",
        "        result = evaluate(model, val_loader)\n",
        "        result['train_loss'] = torch.stack(train_losses).mean().item()\n",
        "        model.epoch_end(epoch, result)\n",
        "        history.append(result)\n",
        "        if (val_loss > history[-1][\"val_loss\"]):\n",
        "            torch.save(model.state_dict(), question_no)\n",
        "            # print(\"saving model for\", question_no)\n",
        "            val_loss = history[-1][\"val_loss\"]\n",
        "    return history"
      ],
      "id": "YVQyZCGQJIf_",
      "execution_count": 8,
      "outputs": []
    },
    {
      "cell_type": "code",
      "metadata": {
        "id": "I2csEMA2iS2D"
      },
      "source": [
        "device = get_default_device()\n",
        "train_dl = DeviceDataLoader(train_dl, device)\n",
        "val_dl = DeviceDataLoader(val_dl, device)\n",
        "test_dl = DeviceDataLoader(test_dl, device)\n"
      ],
      "id": "I2csEMA2iS2D",
      "execution_count": 9,
      "outputs": []
    },
    {
      "cell_type": "markdown",
      "metadata": {
        "id": "bQI-1M4W4tMI"
      },
      "source": [
        "# Optimisers"
      ],
      "id": "bQI-1M4W4tMI"
    },
    {
      "cell_type": "code",
      "metadata": {
        "id": "iFeo2I94ipho"
      },
      "source": [
        "num_epochs = 15\n",
        "scheduler = torch.optim.lr_scheduler.StepLR\n",
        "lr = 0.001"
      ],
      "id": "iFeo2I94ipho",
      "execution_count": 10,
      "outputs": []
    },
    {
      "cell_type": "markdown",
      "metadata": {
        "id": "tBkllXjEUpoa"
      },
      "source": [
        "### Adam Optimizer"
      ],
      "id": "tBkllXjEUpoa"
    },
    {
      "cell_type": "code",
      "metadata": {
        "colab": {
          "base_uri": "https://localhost:8080/"
        },
        "id": "H_Y-rp2tnfDW",
        "outputId": "c026df3d-e79c-4467-b1bb-1f15ac191a04"
      },
      "source": [
        "model_adam128 = to_device(Autoencoder128(), device);\n",
        "history_adam16 = fit(\"adam128\",num_epochs, lr, model_adam128, train_dl, val_dl, torch.optim.Adam,scheduler)\n"
      ],
      "id": "H_Y-rp2tnfDW",
      "execution_count": 11,
      "outputs": [
        {
          "output_type": "stream",
          "text": [
            "Epoch [0], train_loss: 0.0922, val_loss: 0.0676\n",
            "saving model for adam128\n",
            "Epoch [1], train_loss: 0.0544, val_loss: 0.0349\n",
            "saving model for adam128\n",
            "Epoch [2], train_loss: 0.0236, val_loss: 0.0164\n",
            "saving model for adam128\n",
            "Epoch [3], train_loss: 0.0130, val_loss: 0.0106\n",
            "saving model for adam128\n",
            "Epoch [4], train_loss: 0.0092, val_loss: 0.0082\n",
            "saving model for adam128\n",
            "Epoch [5], train_loss: 0.0074, val_loss: 0.0069\n",
            "saving model for adam128\n",
            "Epoch [6], train_loss: 0.0062, val_loss: 0.0059\n",
            "saving model for adam128\n",
            "Epoch [7], train_loss: 0.0055, val_loss: 0.0053\n",
            "saving model for adam128\n",
            "Epoch [8], train_loss: 0.0049, val_loss: 0.0048\n",
            "saving model for adam128\n",
            "Epoch [9], train_loss: 0.0045, val_loss: 0.0044\n",
            "saving model for adam128\n",
            "Epoch [10], train_loss: 0.0041, val_loss: 0.0041\n",
            "saving model for adam128\n",
            "Epoch [11], train_loss: 0.0039, val_loss: 0.0039\n",
            "saving model for adam128\n",
            "Epoch [12], train_loss: 0.0036, val_loss: 0.0037\n",
            "saving model for adam128\n",
            "Epoch [13], train_loss: 0.0034, val_loss: 0.0035\n",
            "saving model for adam128\n",
            "Epoch [14], train_loss: 0.0033, val_loss: 0.0034\n",
            "saving model for adam128\n"
          ],
          "name": "stdout"
        }
      ]
    },
    {
      "cell_type": "code",
      "metadata": {
        "colab": {
          "base_uri": "https://localhost:8080/"
        },
        "id": "RMphea6SzAY_",
        "outputId": "742a175f-32b4-4cf7-c514-a98f1ae44f94"
      },
      "source": [
        "model_adam128.load_state_dict(torch.load(\"adam128\"))\n",
        "print(\"Loss for test \", test_accuracy(model_adam128,test_dl))"
      ],
      "id": "RMphea6SzAY_",
      "execution_count": 12,
      "outputs": [
        {
          "output_type": "stream",
          "text": [
            "Loss for test  0.003345879027619958\n"
          ],
          "name": "stdout"
        }
      ]
    },
    {
      "cell_type": "code",
      "metadata": {
        "colab": {
          "base_uri": "https://localhost:8080/"
        },
        "id": "lStWvG8fHUIT",
        "outputId": "143b71b9-97cb-4feb-a56d-202f48c41570"
      },
      "source": [
        "model_adam16 = to_device(Autoencoder16(), device);\n",
        "model_adam32 = to_device(Autoencoder32(), device);\n",
        "model_adam64 = to_device(Autoencoder64(), device);\n",
        "model_adam128 = to_device(Autoencoder128(), device);\n",
        "hidden = [16,32,64,128]\n",
        "valloss = []\n",
        "trainloss = []\n",
        "history_adam16 = fitall(\"adam16\",5, lr, model_adam16, train_dl, val_dl, torch.optim.Adam,scheduler)\n",
        "loss_val = 0\n",
        "loss_train = 0\n",
        "for i in history_adam16:\n",
        "  loss_val += i[\"val_loss\"]\n",
        "  loss_train += i[\"train_loss\"]\n",
        "valloss.append(loss_val/5)\n",
        "trainloss.append(loss_train/5)\n",
        "print('Hidden Neurons: {} \\tTraining Loss: {:.6f} \\tValidation Loss: {:.6f}'.format(16,loss_train/5,loss_val/5))\n",
        "history_adam16 = fitall(\"adam16\",5, lr, model_adam32, train_dl, val_dl, torch.optim.Adam,scheduler)\n",
        "loss_val = 0\n",
        "loss_train = 0\n",
        "for i in history_adam16:\n",
        "  loss_val += i[\"val_loss\"]\n",
        "  loss_train += i[\"train_loss\"]\n",
        "valloss.append(loss_val/5)\n",
        "trainloss.append(loss_train/5)\n",
        "print('Hidden Neurons: {} \\tTraining Loss: {:.6f} \\tValidation Loss: {:.6f}'.format(32,loss_train/5,loss_val/5))\n",
        "history_adam16 = fitall(\"adam16\",5, lr, model_adam64, train_dl, val_dl, torch.optim.Adam,scheduler)\n",
        "loss_val = 0\n",
        "loss_train = 0\n",
        "for i in history_adam16:\n",
        "  loss_val += i[\"val_loss\"]\n",
        "  loss_train += i[\"train_loss\"]\n",
        "valloss.append(loss_val/5)\n",
        "trainloss.append(loss_train/5)\n",
        "print('Hidden Neurons: {} \\tTraining Loss: {:.6f} \\tValidation Loss: {:.6f}'.format(64,loss_train/5,loss_val/5))\n",
        "history_adam16 = fitall(\"adam16\",5, lr, model_adam128, train_dl, val_dl, torch.optim.Adam,scheduler)\n",
        "loss_val = 0\n",
        "loss_train = 0\n",
        "for i in history_adam16:\n",
        "  loss_val += i[\"val_loss\"]\n",
        "  loss_train += i[\"train_loss\"]\n",
        "valloss.append(loss_val/5)\n",
        "trainloss.append(loss_train/5)\n",
        "print('Hidden Neurons: {} \\tTraining Loss: {:.6f} \\tValidation Loss: {:.6f}'.format(128,loss_train/5,loss_val/5))\n",
        "\n"
      ],
      "id": "lStWvG8fHUIT",
      "execution_count": 13,
      "outputs": [
        {
          "output_type": "stream",
          "text": [
            "Epoch [0], train_loss: 0.1833, val_loss: 0.0993\n",
            "Epoch [1], train_loss: 0.0774, val_loss: 0.0717\n",
            "Epoch [2], train_loss: 0.0706, val_loss: 0.0701\n",
            "Epoch [3], train_loss: 0.0693, val_loss: 0.0689\n",
            "Epoch [4], train_loss: 0.0682, val_loss: 0.0678\n",
            "Hidden Neurons: 16 \tTraining Loss: 0.093766 \tValidation Loss: 0.075554\n",
            "Epoch [0], train_loss: 0.1226, val_loss: 0.0719\n",
            "Epoch [1], train_loss: 0.0700, val_loss: 0.0691\n",
            "Epoch [2], train_loss: 0.0683, val_loss: 0.0679\n",
            "Epoch [3], train_loss: 0.0673, val_loss: 0.0670\n",
            "Epoch [4], train_loss: 0.0651, val_loss: 0.0617\n",
            "Hidden Neurons: 32 \tTraining Loss: 0.078661 \tValidation Loss: 0.067506\n",
            "Epoch [0], train_loss: 0.1167, val_loss: 0.0715\n",
            "Epoch [1], train_loss: 0.0671, val_loss: 0.0602\n",
            "Epoch [2], train_loss: 0.0440, val_loss: 0.0319\n",
            "Epoch [3], train_loss: 0.0250, val_loss: 0.0200\n",
            "Epoch [4], train_loss: 0.0174, val_loss: 0.0154\n",
            "Hidden Neurons: 64 \tTraining Loss: 0.054049 \tValidation Loss: 0.039810\n",
            "Epoch [0], train_loss: 0.0977, val_loss: 0.0685\n",
            "Epoch [1], train_loss: 0.0573, val_loss: 0.0386\n",
            "Epoch [2], train_loss: 0.0260, val_loss: 0.0174\n",
            "Epoch [3], train_loss: 0.0140, val_loss: 0.0115\n",
            "Epoch [4], train_loss: 0.0100, val_loss: 0.0088\n",
            "Hidden Neurons: 128 \tTraining Loss: 0.040991 \tValidation Loss: 0.028963\n"
          ],
          "name": "stdout"
        }
      ]
    },
    {
      "cell_type": "code",
      "metadata": {
        "colab": {
          "base_uri": "https://localhost:8080/",
          "height": 294
        },
        "id": "KklXvfmOUL8E",
        "outputId": "d08bf597-6481-477a-9c0e-83c641e043be"
      },
      "source": [
        "plt.plot(hidden,trainloss, '-rx')\n",
        "plt.plot(hidden,valloss, '-bx')\n",
        "plt.ylabel('loss')\n",
        "plt.xlabel('hidden ')\n",
        "plt.legend(['Training', 'Validation'])\n",
        "plt.title('Loss vs. Hidden Neurons(Adam)');\n",
        "# plt.ylim([-0.002,0.15])"
      ],
      "id": "KklXvfmOUL8E",
      "execution_count": 17,
      "outputs": [
        {
          "output_type": "display_data",
          "data": {
            "image/png": "[encoded data removed]",
            "text/plain": [
              "<Figure size 432x288 with 1 Axes>"
            ]
          },
          "metadata": {
            "tags": [],
            "needs_background": "light"
          }
        }
      ]
    },
    {
      "cell_type": "markdown",
      "metadata": {
        "id": "b1zORyy0UuPt"
      },
      "source": [
        "### RMSProp Optmizer"
      ],
      "id": "b1zORyy0UuPt"
    },
    {
      "cell_type": "code",
      "metadata": {
        "id": "V1QzRFOt4Moe",
        "colab": {
          "base_uri": "https://localhost:8080/"
        },
        "outputId": "6a38e076-2718-4160-dc1a-0950c90d837f"
      },
      "source": [
        "model_rms128 = to_device(Autoencoder128(), device);\n",
        "history_rms128 = fit(\"rms128\",num_epochs, lr, model_rms128, train_dl, val_dl, torch.optim.RMSprop,scheduler)\n"
      ],
      "id": "V1QzRFOt4Moe",
      "execution_count": 18,
      "outputs": [
        {
          "output_type": "stream",
          "text": [
            "Epoch [0], train_loss: 0.0727, val_loss: 0.0527\n",
            "saving model for rms128\n",
            "Epoch [1], train_loss: 0.0387, val_loss: 0.0285\n",
            "saving model for rms128\n",
            "Epoch [2], train_loss: 0.0243, val_loss: 0.0187\n",
            "saving model for rms128\n",
            "Epoch [3], train_loss: 0.0175, val_loss: 0.0145\n",
            "saving model for rms128\n",
            "Epoch [4], train_loss: 0.0137, val_loss: 0.0124\n",
            "saving model for rms128\n",
            "Epoch [5], train_loss: 0.0115, val_loss: 0.0111\n",
            "saving model for rms128\n",
            "Epoch [6], train_loss: 0.0100, val_loss: 0.0099\n",
            "saving model for rms128\n",
            "Epoch [7], train_loss: 0.0089, val_loss: 0.0084\n",
            "saving model for rms128\n",
            "Epoch [8], train_loss: 0.0079, val_loss: 0.0078\n",
            "saving model for rms128\n",
            "Epoch [9], train_loss: 0.0072, val_loss: 0.0066\n",
            "saving model for rms128\n",
            "Epoch [10], train_loss: 0.0067, val_loss: 0.0063\n",
            "saving model for rms128\n",
            "Epoch [11], train_loss: 0.0061, val_loss: 0.0062\n",
            "saving model for rms128\n",
            "Epoch [12], train_loss: 0.0058, val_loss: 0.0052\n",
            "saving model for rms128\n",
            "Epoch [13], train_loss: 0.0047, val_loss: 0.0048\n",
            "saving model for rms128\n",
            "Epoch [14], train_loss: 0.0048, val_loss: 0.0049\n"
          ],
          "name": "stdout"
        }
      ]
    },
    {
      "cell_type": "code",
      "metadata": {
        "colab": {
          "base_uri": "https://localhost:8080/"
        },
        "id": "Ybg8QEID09qc",
        "outputId": "d46ab837-8e26-42c0-8cdb-069ccba3c948"
      },
      "source": [
        "model_rms128.load_state_dict(torch.load(\"rms128\"))\n",
        "print(\"Loss for test \", test_accuracy(model_rms128,test_dl))"
      ],
      "id": "Ybg8QEID09qc",
      "execution_count": 19,
      "outputs": [
        {
          "output_type": "stream",
          "text": [
            "Loss for test  0.004742454271763563\n"
          ],
          "name": "stdout"
        }
      ]
    },
    {
      "cell_type": "code",
      "metadata": {
        "colab": {
          "base_uri": "https://localhost:8080/"
        },
        "id": "0Awt8D4ZWmqF",
        "outputId": "55f37d79-ab88-4fad-b1ef-ac82d7133c70"
      },
      "source": [
        "model_adam16 = to_device(Autoencoder16(), device);\n",
        "model_adam32 = to_device(Autoencoder32(), device);\n",
        "model_adam64 = to_device(Autoencoder64(), device);\n",
        "model_adam128 = to_device(Autoencoder128(), device);\n",
        "hidden = [16,32,64,128]\n",
        "valloss = []\n",
        "trainloss = []\n",
        "history_adam16 = fitall(\"adam16\",5, lr, model_adam16, train_dl, val_dl, torch.optim.RMSprop,scheduler)\n",
        "loss_val = 0\n",
        "loss_train = 0\n",
        "for i in history_adam16:\n",
        "  loss_val += i[\"val_loss\"]\n",
        "  loss_train += i[\"train_loss\"]\n",
        "valloss.append(loss_val/5)\n",
        "trainloss.append(loss_train/5)\n",
        "print('Hidden Neurons: {} \\tTraining Loss: {:.6f} \\tValidation Loss: {:.6f}'.format(16,loss_train/5,loss_val/5))\n",
        "history_adam16 = fitall(\"adam16\",5, lr, model_adam32, train_dl, val_dl, torch.optim.RMSprop,scheduler)\n",
        "loss_val = 0\n",
        "loss_train = 0\n",
        "for i in history_adam16:\n",
        "  loss_val += i[\"val_loss\"]\n",
        "  loss_train += i[\"train_loss\"]\n",
        "valloss.append(loss_val/5)\n",
        "trainloss.append(loss_train/5)\n",
        "print('Hidden Neurons: {} \\tTraining Loss: {:.6f} \\tValidation Loss: {:.6f}'.format(32,loss_train/5,loss_val/5))\n",
        "history_adam16 = fitall(\"adam16\",5, lr, model_adam64, train_dl, val_dl, torch.optim.RMSprop,scheduler)\n",
        "loss_val = 0\n",
        "loss_train = 0\n",
        "for i in history_adam16:\n",
        "  loss_val += i[\"val_loss\"]\n",
        "  loss_train += i[\"train_loss\"]\n",
        "valloss.append(loss_val/5)\n",
        "trainloss.append(loss_train/5)\n",
        "print('Hidden Neurons: {} \\tTraining Loss: {:.6f} \\tValidation Loss: {:.6f}'.format(64,loss_train/5,loss_val/5))\n",
        "history_adam16 = fitall(\"adam16\",5, lr, model_adam128, train_dl, val_dl, torch.optim.RMSprop,scheduler)\n",
        "loss_val = 0\n",
        "loss_train = 0\n",
        "for i in history_adam16:\n",
        "  loss_val += i[\"val_loss\"]\n",
        "  loss_train += i[\"train_loss\"]\n",
        "valloss.append(loss_val/5)\n",
        "trainloss.append(loss_train/5)\n",
        "print('Hidden Neurons: {} \\tTraining Loss: {:.6f} \\tValidation Loss: {:.6f}'.format(128,loss_train/5,loss_val/5))\n",
        "\n"
      ],
      "id": "0Awt8D4ZWmqF",
      "execution_count": 20,
      "outputs": [
        {
          "output_type": "stream",
          "text": [
            "Epoch [0], train_loss: 0.1142, val_loss: 0.0718\n",
            "Epoch [1], train_loss: 0.0696, val_loss: 0.0678\n",
            "Epoch [2], train_loss: 0.0663, val_loss: 0.0655\n",
            "Epoch [3], train_loss: 0.0630, val_loss: 0.0599\n",
            "Epoch [4], train_loss: 0.0556, val_loss: 0.0518\n",
            "Hidden Neurons: 16 \tTraining Loss: 0.073761 \tValidation Loss: 0.063353\n",
            "Epoch [0], train_loss: 0.0761, val_loss: 0.0581\n",
            "Epoch [1], train_loss: 0.0490, val_loss: 0.0411\n",
            "Epoch [2], train_loss: 0.0364, val_loss: 0.0320\n",
            "Epoch [3], train_loss: 0.0290, val_loss: 0.0268\n",
            "Epoch [4], train_loss: 0.0243, val_loss: 0.0236\n",
            "Hidden Neurons: 32 \tTraining Loss: 0.042964 \tValidation Loss: 0.036302\n",
            "Epoch [0], train_loss: 0.0706, val_loss: 0.0487\n",
            "Epoch [1], train_loss: 0.0373, val_loss: 0.0285\n",
            "Epoch [2], train_loss: 0.0255, val_loss: 0.0215\n",
            "Epoch [3], train_loss: 0.0192, val_loss: 0.0170\n",
            "Epoch [4], train_loss: 0.0155, val_loss: 0.0151\n",
            "Hidden Neurons: 64 \tTraining Loss: 0.033632 \tValidation Loss: 0.026152\n",
            "Epoch [0], train_loss: 0.0650, val_loss: 0.0454\n",
            "Epoch [1], train_loss: 0.0325, val_loss: 0.0240\n",
            "Epoch [2], train_loss: 0.0207, val_loss: 0.0169\n",
            "Epoch [3], train_loss: 0.0156, val_loss: 0.0135\n",
            "Epoch [4], train_loss: 0.0126, val_loss: 0.0126\n",
            "Hidden Neurons: 128 \tTraining Loss: 0.029297 \tValidation Loss: 0.022478\n"
          ],
          "name": "stdout"
        }
      ]
    },
    {
      "cell_type": "code",
      "metadata": {
        "colab": {
          "base_uri": "https://localhost:8080/",
          "height": 0
        },
        "id": "wbe87_XTXEL9",
        "outputId": "711323f3-85b6-4293-f301-97045b0de7ff"
      },
      "source": [
        "plt.plot(hidden,trainloss, '-rx')\n",
        "plt.plot(hidden,valloss, '-bx')\n",
        "plt.ylabel('loss')\n",
        "plt.xlabel('hidden ')\n",
        "plt.legend(['Training', 'Validation'])\n",
        "plt.title('Loss vs. Hidden Neurons(RMS)');"
      ],
      "id": "wbe87_XTXEL9",
      "execution_count": 21,
      "outputs": [
        {
          "output_type": "display_data",
          "data": {
            "image/png": "[encoded data removed]",
            "text/plain": [
              "<Figure size 432x288 with 1 Axes>"
            ]
          },
          "metadata": {
            "tags": [],
            "needs_background": "light"
          }
        }
      ]
    },
    {
      "cell_type": "markdown",
      "metadata": {
        "id": "a_2l7DW2XrxU"
      },
      "source": [
        "### SGD Without Momentum"
      ],
      "id": "a_2l7DW2XrxU"
    },
    {
      "cell_type": "code",
      "metadata": {
        "colab": {
          "base_uri": "https://localhost:8080/"
        },
        "id": "nP5bKUiFU3y3",
        "outputId": "54c6cc2e-80ff-4ec3-f2fd-6dcf90b46a99"
      },
      "source": [
        "model_sgd = to_device(Autoencoder128(), device);\n",
        "history_sgd128 = fit(\"sgd128\",num_epochs, lr, model_sgd, train_dl, val_dl, torch.optim.SGD,scheduler)\n"
      ],
      "id": "nP5bKUiFU3y3",
      "execution_count": 22,
      "outputs": [
        {
          "output_type": "stream",
          "text": [
            "Epoch [0], train_loss: 0.1970, val_loss: 0.1960\n",
            "saving model for sgd128\n",
            "Epoch [1], train_loss: 0.1950, val_loss: 0.1940\n",
            "saving model for sgd128\n",
            "Epoch [2], train_loss: 0.1931, val_loss: 0.1921\n",
            "saving model for sgd128\n",
            "Epoch [3], train_loss: 0.1911, val_loss: 0.1901\n",
            "saving model for sgd128\n",
            "Epoch [4], train_loss: 0.1892, val_loss: 0.1883\n",
            "saving model for sgd128\n",
            "Epoch [5], train_loss: 0.1874, val_loss: 0.1865\n",
            "saving model for sgd128\n",
            "Epoch [6], train_loss: 0.1856, val_loss: 0.1847\n",
            "saving model for sgd128\n",
            "Epoch [7], train_loss: 0.1838, val_loss: 0.1829\n",
            "saving model for sgd128\n",
            "Epoch [8], train_loss: 0.1821, val_loss: 0.1812\n",
            "saving model for sgd128\n",
            "Epoch [9], train_loss: 0.1804, val_loss: 0.1796\n",
            "saving model for sgd128\n",
            "Epoch [10], train_loss: 0.1788, val_loss: 0.1780\n",
            "saving model for sgd128\n",
            "Epoch [11], train_loss: 0.1772, val_loss: 0.1764\n",
            "saving model for sgd128\n",
            "Epoch [12], train_loss: 0.1756, val_loss: 0.1748\n",
            "saving model for sgd128\n",
            "Epoch [13], train_loss: 0.1742, val_loss: 0.1736\n",
            "saving model for sgd128\n",
            "Epoch [14], train_loss: 0.1730, val_loss: 0.1724\n",
            "saving model for sgd128\n"
          ],
          "name": "stdout"
        }
      ]
    },
    {
      "cell_type": "code",
      "metadata": {
        "colab": {
          "base_uri": "https://localhost:8080/"
        },
        "id": "E9IPVMQF218N",
        "outputId": "ca66c4ee-41e8-487a-a845-e68c2420c0c7"
      },
      "source": [
        "model_sgd.load_state_dict(torch.load(\"sgd128\"))\n",
        "print(\"Loss for test \", test_accuracy(model_sgd,test_dl))"
      ],
      "id": "E9IPVMQF218N",
      "execution_count": 23,
      "outputs": [
        {
          "output_type": "stream",
          "text": [
            "Loss for test  0.17235520482063293\n"
          ],
          "name": "stdout"
        }
      ]
    },
    {
      "cell_type": "code",
      "metadata": {
        "colab": {
          "base_uri": "https://localhost:8080/"
        },
        "id": "y8cIOFRHZ5Lb",
        "outputId": "035f57bd-8351-4449-ff5a-e025d2b70533"
      },
      "source": [
        "model_adam16 = to_device(Autoencoder16(), device);\n",
        "model_adam32 = to_device(Autoencoder32(), device);\n",
        "model_adam64 = to_device(Autoencoder64(), device);\n",
        "model_adam128 = to_device(Autoencoder128(), device);\n",
        "hidden = [16,32,64,128]\n",
        "valloss = []\n",
        "trainloss = []\n",
        "history_adam16 = fitall(\"adam16\",5, lr, model_adam16, train_dl, val_dl, torch.optim.SGD,scheduler)\n",
        "loss_val = 0\n",
        "loss_train = 0\n",
        "for i in history_adam16:\n",
        "  loss_val += i[\"val_loss\"]\n",
        "  loss_train += i[\"train_loss\"]\n",
        "valloss.append(loss_val/5)\n",
        "trainloss.append(loss_train/5)\n",
        "print('Hidden Neurons: {} \\tTraining Loss: {:.6f} \\tValidation Loss: {:.6f}'.format(16,loss_train/5,loss_val/5))\n",
        "history_adam16 = fitall(\"adam16\",5, lr, model_adam32, train_dl, val_dl, torch.optim.SGD,scheduler)\n",
        "loss_val = 0\n",
        "loss_train = 0\n",
        "for i in history_adam16:\n",
        "  loss_val += i[\"val_loss\"]\n",
        "  loss_train += i[\"train_loss\"]\n",
        "valloss.append(loss_val/5)\n",
        "trainloss.append(loss_train/5)\n",
        "print('Hidden Neurons: {} \\tTraining Loss: {:.6f} \\tValidation Loss: {:.6f}'.format(32,loss_train/5,loss_val/5))\n",
        "history_adam16 = fitall(\"adam16\",5, lr, model_adam64, train_dl, val_dl, torch.optim.SGD,scheduler)\n",
        "loss_val = 0\n",
        "loss_train = 0\n",
        "for i in history_adam16:\n",
        "  loss_val += i[\"val_loss\"]\n",
        "  loss_train += i[\"train_loss\"]\n",
        "valloss.append(loss_val/5)\n",
        "trainloss.append(loss_train/5)\n",
        "print('Hidden Neurons: {} \\tTraining Loss: {:.6f} \\tValidation Loss: {:.6f}'.format(64,loss_train/5,loss_val/5))\n",
        "history_adam16 = fitall(\"adam16\",5, lr, model_adam128, train_dl, val_dl, torch.optim.SGD,scheduler)\n",
        "loss_val = 0\n",
        "loss_train = 0\n",
        "for i in history_adam16:\n",
        "  loss_val += i[\"val_loss\"]\n",
        "  loss_train += i[\"train_loss\"]\n",
        "valloss.append(loss_val/5)\n",
        "trainloss.append(loss_train/5)\n",
        "print('Hidden Neurons: {} \\tTraining Loss: {:.6f} \\tValidation Loss: {:.6f}'.format(128,loss_train/5,loss_val/5))\n",
        "\n"
      ],
      "id": "y8cIOFRHZ5Lb",
      "execution_count": 24,
      "outputs": [
        {
          "output_type": "stream",
          "text": [
            "Epoch [0], train_loss: 0.2927, val_loss: 0.2907\n",
            "Epoch [1], train_loss: 0.2890, val_loss: 0.2869\n",
            "Epoch [2], train_loss: 0.2852, val_loss: 0.2832\n",
            "Epoch [3], train_loss: 0.2816, val_loss: 0.2796\n",
            "Epoch [4], train_loss: 0.2780, val_loss: 0.2760\n",
            "Hidden Neurons: 16 \tTraining Loss: 0.285294 \tValidation Loss: 0.283296\n",
            "Epoch [0], train_loss: 0.2315, val_loss: 0.2301\n",
            "Epoch [1], train_loss: 0.2288, val_loss: 0.2274\n",
            "Epoch [2], train_loss: 0.2262, val_loss: 0.2249\n",
            "Epoch [3], train_loss: 0.2237, val_loss: 0.2223\n",
            "Epoch [4], train_loss: 0.2212, val_loss: 0.2198\n",
            "Hidden Neurons: 32 \tTraining Loss: 0.226281 \tValidation Loss: 0.224912\n",
            "Epoch [0], train_loss: 0.1882, val_loss: 0.1872\n",
            "Epoch [1], train_loss: 0.1863, val_loss: 0.1854\n",
            "Epoch [2], train_loss: 0.1845, val_loss: 0.1836\n",
            "Epoch [3], train_loss: 0.1827, val_loss: 0.1818\n",
            "Epoch [4], train_loss: 0.1810, val_loss: 0.1801\n",
            "Hidden Neurons: 64 \tTraining Loss: 0.184517 \tValidation Loss: 0.183605\n",
            "Epoch [0], train_loss: 0.1831, val_loss: 0.1822\n",
            "Epoch [1], train_loss: 0.1813, val_loss: 0.1804\n",
            "Epoch [2], train_loss: 0.1795, val_loss: 0.1787\n",
            "Epoch [3], train_loss: 0.1778, val_loss: 0.1770\n",
            "Epoch [4], train_loss: 0.1762, val_loss: 0.1753\n",
            "Hidden Neurons: 128 \tTraining Loss: 0.179592 \tValidation Loss: 0.178720\n"
          ],
          "name": "stdout"
        }
      ]
    },
    {
      "cell_type": "code",
      "metadata": {
        "colab": {
          "base_uri": "https://localhost:8080/",
          "height": 294
        },
        "id": "7pAUmZgKaMrh",
        "outputId": "4747f4c0-cb89-49a9-9d77-42ecdb91f472"
      },
      "source": [
        "plt.plot(hidden,trainloss, '-rx')\n",
        "plt.plot(hidden,valloss, '-bx')\n",
        "plt.ylabel('loss')\n",
        "plt.xlabel('hidden ')\n",
        "plt.legend(['Training', 'Validation'])\n",
        "plt.title('Loss vs. Hidden Neurons(SGD w/o momentum)');"
      ],
      "id": "7pAUmZgKaMrh",
      "execution_count": 25,
      "outputs": [
        {
          "output_type": "display_data",
          "data": {
            "image/png": "[encoded data removed]",
            "text/plain": [
              "<Figure size 432x288 with 1 Axes>"
            ]
          },
          "metadata": {
            "tags": [],
            "needs_background": "light"
          }
        }
      ]
    },
    {
      "cell_type": "markdown",
      "metadata": {
        "id": "aDt-WEJ6aNL6"
      },
      "source": [
        "### SGD Without Momentum"
      ],
      "id": "aDt-WEJ6aNL6"
    },
    {
      "cell_type": "code",
      "metadata": {
        "colab": {
          "base_uri": "https://localhost:8080/"
        },
        "id": "2r9jcvQjfC7A",
        "outputId": "96c0a4d9-61ca-495a-a249-a74d2d1b6f6a"
      },
      "source": [
        "model_sgd = to_device(Autoencoder128(), device);\n",
        "history_sgd128 = fit(\"sgd128\",num_epochs, lr, model_sgd, train_dl, val_dl, torch.optim.SGD,scheduler,True)\n"
      ],
      "id": "2r9jcvQjfC7A",
      "execution_count": 26,
      "outputs": [
        {
          "output_type": "stream",
          "text": [
            "Epoch [0], train_loss: 0.2032, val_loss: 0.1921\n",
            "saving model for sgd128\n",
            "Epoch [1], train_loss: 0.1831, val_loss: 0.1747\n",
            "saving model for sgd128\n",
            "Epoch [2], train_loss: 0.1677, val_loss: 0.1610\n",
            "saving model for sgd128\n",
            "Epoch [3], train_loss: 0.1555, val_loss: 0.1503\n",
            "saving model for sgd128\n",
            "Epoch [4], train_loss: 0.1458, val_loss: 0.1417\n",
            "saving model for sgd128\n",
            "Epoch [5], train_loss: 0.1382, val_loss: 0.1349\n",
            "saving model for sgd128\n",
            "Epoch [6], train_loss: 0.1319, val_loss: 0.1293\n",
            "saving model for sgd128\n",
            "Epoch [7], train_loss: 0.1269, val_loss: 0.1247\n",
            "saving model for sgd128\n",
            "Epoch [8], train_loss: 0.1227, val_loss: 0.1209\n",
            "saving model for sgd128\n",
            "Epoch [9], train_loss: 0.1192, val_loss: 0.1178\n",
            "saving model for sgd128\n",
            "Epoch [10], train_loss: 0.1163, val_loss: 0.1151\n",
            "saving model for sgd128\n",
            "Epoch [11], train_loss: 0.1138, val_loss: 0.1129\n",
            "saving model for sgd128\n",
            "Epoch [12], train_loss: 0.1117, val_loss: 0.1109\n",
            "saving model for sgd128\n",
            "Epoch [13], train_loss: 0.1101, val_loss: 0.1096\n",
            "saving model for sgd128\n",
            "Epoch [14], train_loss: 0.1088, val_loss: 0.1084\n",
            "saving model for sgd128\n"
          ],
          "name": "stdout"
        }
      ]
    },
    {
      "cell_type": "code",
      "metadata": {
        "colab": {
          "base_uri": "https://localhost:8080/"
        },
        "id": "k5-K0DOx3lNx",
        "outputId": "74a6ff9c-ebfe-42bb-8f92-4c9dab4cdc9c"
      },
      "source": [
        "model_sgd.load_state_dict(torch.load(\"sgd128\"))\n",
        "print(\"Loss for test \", test_accuracy(model_sgd,test_dl))"
      ],
      "id": "k5-K0DOx3lNx",
      "execution_count": 27,
      "outputs": [
        {
          "output_type": "stream",
          "text": [
            "Loss for test  0.10820050537586212\n"
          ],
          "name": "stdout"
        }
      ]
    },
    {
      "cell_type": "code",
      "metadata": {
        "colab": {
          "base_uri": "https://localhost:8080/"
        },
        "id": "laHfG0hEfWo-",
        "outputId": "987f98c2-918d-4093-9ce9-b7a7c4bf3875"
      },
      "source": [
        "model_adam16 = to_device(Autoencoder16(), device);\n",
        "model_adam32 = to_device(Autoencoder32(), device);\n",
        "model_adam64 = to_device(Autoencoder64(), device);\n",
        "model_adam128 = to_device(Autoencoder128(), device);\n",
        "hidden = [16,32,64,128]\n",
        "valloss = []\n",
        "trainloss = []\n",
        "history_adam16 = fitall(\"adam16\",5, lr, model_adam16, train_dl, val_dl, torch.optim.SGD,scheduler,True)\n",
        "loss_val = 0\n",
        "loss_train = 0\n",
        "for i in history_adam16:\n",
        "  loss_val += i[\"val_loss\"]\n",
        "  loss_train += i[\"train_loss\"]\n",
        "valloss.append(loss_val/5)\n",
        "trainloss.append(loss_train/5)\n",
        "print('Hidden Neurons: {} \\tTraining Loss: {:.6f} \\tValidation Loss: {:.6f}'.format(16,loss_train/5,loss_val/5))\n",
        "history_adam16 = fitall(\"adam16\",5, lr, model_adam32, train_dl, val_dl, torch.optim.SGD,scheduler,True)\n",
        "loss_val = 0\n",
        "loss_train = 0\n",
        "for i in history_adam16:\n",
        "  loss_val += i[\"val_loss\"]\n",
        "  loss_train += i[\"train_loss\"]\n",
        "valloss.append(loss_val/5)\n",
        "trainloss.append(loss_train/5)\n",
        "print('Hidden Neurons: {} \\tTraining Loss: {:.6f} \\tValidation Loss: {:.6f}'.format(32,loss_train/5,loss_val/5))\n",
        "history_adam16 = fitall(\"adam16\",5, lr, model_adam64, train_dl, val_dl, torch.optim.SGD,scheduler,True)\n",
        "loss_val = 0\n",
        "loss_train = 0\n",
        "for i in history_adam16:\n",
        "  loss_val += i[\"val_loss\"]\n",
        "  loss_train += i[\"train_loss\"]\n",
        "valloss.append(loss_val/5)\n",
        "trainloss.append(loss_train/5)\n",
        "print('Hidden Neurons: {} \\tTraining Loss: {:.6f} \\tValidation Loss: {:.6f}'.format(64,loss_train/5,loss_val/5))\n",
        "history_adam16 = fitall(\"adam16\",5, lr, model_adam128, train_dl, val_dl, torch.optim.SGD,scheduler,True)\n",
        "loss_val = 0\n",
        "loss_train = 0\n",
        "for i in history_adam16:\n",
        "  loss_val += i[\"val_loss\"]\n",
        "  loss_train += i[\"train_loss\"]\n",
        "valloss.append(loss_val/5)\n",
        "trainloss.append(loss_train/5)\n",
        "print('Hidden Neurons: {} \\tTraining Loss: {:.6f} \\tValidation Loss: {:.6f}'.format(128,loss_train/5,loss_val/5))\n",
        "\n"
      ],
      "id": "laHfG0hEfWo-",
      "execution_count": 35,
      "outputs": [
        {
          "output_type": "stream",
          "text": [
            "Epoch [0], train_loss: 0.2411, val_loss: 0.2276\n",
            "Epoch [1], train_loss: 0.2157, val_loss: 0.2042\n",
            "Epoch [2], train_loss: 0.1946, val_loss: 0.1853\n",
            "Epoch [3], train_loss: 0.1775, val_loss: 0.1701\n",
            "Epoch [4], train_loss: 0.1639, val_loss: 0.1580\n",
            "Hidden Neurons: 16 \tTraining Loss: 0.198561 \tValidation Loss: 0.189043\n",
            "Epoch [0], train_loss: 0.2310, val_loss: 0.2171\n",
            "Epoch [1], train_loss: 0.2053, val_loss: 0.1941\n",
            "Epoch [2], train_loss: 0.1849, val_loss: 0.1764\n",
            "Epoch [3], train_loss: 0.1694, val_loss: 0.1627\n",
            "Epoch [4], train_loss: 0.1571, val_loss: 0.1518\n",
            "Hidden Neurons: 32 \tTraining Loss: 0.189540 \tValidation Loss: 0.180404\n",
            "Epoch [0], train_loss: 0.1770, val_loss: 0.1694\n",
            "Epoch [1], train_loss: 0.1629, val_loss: 0.1567\n",
            "Epoch [2], train_loss: 0.1515, val_loss: 0.1467\n",
            "Epoch [3], train_loss: 0.1425, val_loss: 0.1387\n",
            "Epoch [4], train_loss: 0.1353, val_loss: 0.1323\n",
            "Hidden Neurons: 64 \tTraining Loss: 0.153829 \tValidation Loss: 0.148749\n",
            "Epoch [0], train_loss: 0.2465, val_loss: 0.2302\n",
            "Epoch [1], train_loss: 0.2165, val_loss: 0.2034\n",
            "Epoch [2], train_loss: 0.1929, val_loss: 0.1829\n",
            "Epoch [3], train_loss: 0.1747, val_loss: 0.1668\n",
            "Epoch [4], train_loss: 0.1603, val_loss: 0.1541\n",
            "Hidden Neurons: 128 \tTraining Loss: 0.198146 \tValidation Loss: 0.187501\n"
          ],
          "name": "stdout"
        }
      ]
    },
    {
      "cell_type": "code",
      "metadata": {
        "colab": {
          "base_uri": "https://localhost:8080/",
          "height": 294
        },
        "id": "6_P-HXvufnAD",
        "outputId": "03dfb42c-46f2-4dbd-fa94-e12568ea3ef5"
      },
      "source": [
        "plt.plot(hidden,trainloss, '-rx')\n",
        "plt.plot(hidden,valloss, '-bx')\n",
        "plt.ylabel('loss')\n",
        "plt.xlabel('hidden ')\n",
        "plt.legend(['Training', 'Validation'])\n",
        "plt.title('Loss vs. Hidden Neurons(SGD with momentum)');"
      ],
      "id": "6_P-HXvufnAD",
      "execution_count": 41,
      "outputs": [
        {
          "output_type": "display_data",
          "data": {
            "image/png": "[encoded data removed]",
            "text/plain": [
              "<Figure size 432x288 with 1 Axes>"
            ]
          },
          "metadata": {
            "tags": [],
            "needs_background": "light"
          }
        }
      ]
    },
    {
      "cell_type": "markdown",
      "metadata": {
        "id": "oGvDHrDQfBgz"
      },
      "source": [
        "# PCA reconstruction"
      ],
      "id": "oGvDHrDQfBgz"
    },
    {
      "cell_type": "code",
      "metadata": {
        "id": "ox8yE8sVVSpp",
        "colab": {
          "base_uri": "https://localhost:8080/"
        },
        "outputId": "d6ba8005-1139-4c41-96ce-02c9942b66de"
      },
      "source": [
        "import numpy as np\n",
        "import matplotlib.pyplot as plt\n",
        "from sklearn import decomposition\n",
        "from sklearn.datasets import fetch_openml\n",
        "from sklearn.model_selection import train_test_split\n",
        "from sklearn.metrics import mean_squared_error as mse\n",
        "from sklearn.decomposition import PCA\n",
        "\n",
        "\n",
        "hidden_neuron = [16,32,64,128]\n",
        "\n",
        "\n",
        "X, y = fetch_openml('mnist_784', version=1, return_X_y=True, as_frame=False)\n",
        "X_train,X_test,y_train,y_test = train_test_split(X,y,test_size=0.30, random_state=42)\n",
        "y_test = y_test.reshape(-1)\n",
        "y_train = y_train.reshape(-1)\n",
        "\n",
        "pcaloss = []\n",
        "loss_encoder = []\n",
        "\n",
        "print(\"Loss using PCA\")\n",
        "for i in hidden_neuron:\n",
        "  pca = PCA(i)\n",
        "  pca.fit(X_train)\n",
        "  TRAIN = pca.transform(X_train)\n",
        "  TEST = pca.transform(X_test)\n",
        "  approximation = pca.inverse_transform(TEST)\n",
        "  # print(X_train.shape,approximation.shape)\n",
        "  loss = mse(approximation,X_test)\n",
        "  print('Hidden Neurons: {} \\tTest Loss: {:.6f}'.format(i,loss))\n",
        "  pcaloss.append(loss)\n",
        "\n",
        "\n"
      ],
      "id": "ox8yE8sVVSpp",
      "execution_count": 48,
      "outputs": [
        {
          "output_type": "stream",
          "text": [
            "Loss using PCA\n",
            "Hidden Neurons: 16 \tTest Loss: 1773.449325\n",
            "Hidden Neurons: 32 \tTest Loss: 1119.145342\n",
            "Hidden Neurons: 64 \tTest Loss: 604.447891\n",
            "Hidden Neurons: 128 \tTest Loss: 280.627940\n"
          ],
          "name": "stdout"
        }
      ]
    },
    {
      "cell_type": "code",
      "metadata": {
        "id": "eg98tS_2hCiP",
        "colab": {
          "base_uri": "https://localhost:8080/"
        },
        "outputId": "252c9bec-0815-46ab-d1bd-0bddc17fbd69"
      },
      "source": [
        "print(\"Loss using autoencoder with SGD\")\n",
        "for i,n in enumerate(hidden):\n",
        "  print(\"Hidden Neurons :\", n , \"\\tVal Loss: \", valloss[i])"
      ],
      "id": "eg98tS_2hCiP",
      "execution_count": 43,
      "outputs": [
        {
          "output_type": "stream",
          "text": [
            "Loss using autoencoder with SGD\n",
            "Hidden Neurons : 16 \tVal Loss:  0.18904260993003846\n",
            "Hidden Neurons : 32 \tVal Loss:  0.18750128149986267\n",
            "Hidden Neurons : 64 \tVal Loss:  0.1804035037755966\n",
            "Hidden Neurons : 128 \tVal Loss:  0.14874915778636932\n"
          ],
          "name": "stdout"
        }
      ]
    },
    {
      "cell_type": "code",
      "metadata": {
        "colab": {
          "base_uri": "https://localhost:8080/",
          "height": 294
        },
        "id": "A3VWg5vE7Te1",
        "outputId": "79c06fbd-c0f3-446f-a1e5-32209064e463"
      },
      "source": [
        "plt.plot(hidden,pcaloss, '-rx')\n",
        "\n",
        "plt.plot(hidden,valloss, '-bx')\n",
        "plt.ylabel('loss')\n",
        "plt.xlabel('hidden ')\n",
        "plt.legend(['PCA', 'Autoencoder'])\n",
        "plt.title('pca vs autoencoder');"
      ],
      "id": "A3VWg5vE7Te1",
      "execution_count": 49,
      "outputs": [
        {
          "output_type": "display_data",
          "data": {
            "image/png": "[encoded data removed]",
            "text/plain": [
              "<Figure size 432x288 with 1 Axes>"
            ]
          },
          "metadata": {
            "tags": [],
            "needs_background": "light"
          }
        }
      ]
    },
    {
      "cell_type": "code",
      "metadata": {
        "id": "EJXVb4Ei7ZQK"
      },
      "source": [
        ""
      ],
      "id": "EJXVb4Ei7ZQK",
      "execution_count": null,
      "outputs": []
    }
  ]
}