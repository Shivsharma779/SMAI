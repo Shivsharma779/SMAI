{
  "nbformat": 4,
  "nbformat_minor": 0,
  "metadata": {
    "colab": {
      "name": "shiv_a3_q3.ipynb",
      "provenance": []
    },
    "kernelspec": {
      "name": "python3",
      "display_name": "Python 3"
    },
    "language_info": {
      "name": "python"
    },
    "accelerator": "GPU",
    "widgets": {
      "application/vnd.jupyter.widget-state+json": {
        "3b7c72bdbb3649b6925daea48dbf96a6": {
          "model_module": "@jupyter-widgets/controls",
          "model_name": "HBoxModel",
          "state": {
            "_view_name": "HBoxView",
            "_dom_classes": [],
            "_model_name": "HBoxModel",
            "_view_module": "@jupyter-widgets/controls",
            "_model_module_version": "1.5.0",
            "_view_count": null,
            "_view_module_version": "1.5.0",
            "box_style": "",
            "layout": "IPY_MODEL_251710d98eb544b8be392ba87e8af8db",
            "_model_module": "@jupyter-widgets/controls",
            "children": [
              "IPY_MODEL_2e990a37a86341aabddad275cb3ec1fe",
              "IPY_MODEL_3514f3c810674049852579d836b8b341"
            ]
          }
        },
        "251710d98eb544b8be392ba87e8af8db": {
          "model_module": "@jupyter-widgets/base",
          "model_name": "LayoutModel",
          "state": {
            "_view_name": "LayoutView",
            "grid_template_rows": null,
            "right": null,
            "justify_content": null,
            "_view_module": "@jupyter-widgets/base",
            "overflow": null,
            "_model_module_version": "1.2.0",
            "_view_count": null,
            "flex_flow": null,
            "width": null,
            "min_width": null,
            "border": null,
            "align_items": null,
            "bottom": null,
            "_model_module": "@jupyter-widgets/base",
            "top": null,
            "grid_column": null,
            "overflow_y": null,
            "overflow_x": null,
            "grid_auto_flow": null,
            "grid_area": null,
            "grid_template_columns": null,
            "flex": null,
            "_model_name": "LayoutModel",
            "justify_items": null,
            "grid_row": null,
            "max_height": null,
            "align_content": null,
            "visibility": null,
            "align_self": null,
            "height": null,
            "min_height": null,
            "padding": null,
            "grid_auto_rows": null,
            "grid_gap": null,
            "max_width": null,
            "order": null,
            "_view_module_version": "1.2.0",
            "grid_template_areas": null,
            "object_position": null,
            "object_fit": null,
            "grid_auto_columns": null,
            "margin": null,
            "display": null,
            "left": null
          }
        },
        "2e990a37a86341aabddad275cb3ec1fe": {
          "model_module": "@jupyter-widgets/controls",
          "model_name": "FloatProgressModel",
          "state": {
            "_view_name": "ProgressView",
            "style": "IPY_MODEL_04d7746e8d724a019ca0e77bd3846301",
            "_dom_classes": [],
            "description": "",
            "_model_name": "FloatProgressModel",
            "bar_style": "success",
            "max": 9912422,
            "_view_module": "@jupyter-widgets/controls",
            "_model_module_version": "1.5.0",
            "value": 9912422,
            "_view_count": null,
            "_view_module_version": "1.5.0",
            "orientation": "horizontal",
            "min": 0,
            "description_tooltip": null,
            "_model_module": "@jupyter-widgets/controls",
            "layout": "IPY_MODEL_82300e7a295f48cb8a79e48295498cb1"
          }
        },
        "3514f3c810674049852579d836b8b341": {
          "model_module": "@jupyter-widgets/controls",
          "model_name": "HTMLModel",
          "state": {
            "_view_name": "HTMLView",
            "style": "IPY_MODEL_674ea29ce0f8449cac8c4a2d8e8637c5",
            "_dom_classes": [],
            "description": "",
            "_model_name": "HTMLModel",
            "placeholder": "​",
            "_view_module": "@jupyter-widgets/controls",
            "_model_module_version": "1.5.0",
            "value": " 9913344/? [00:41&lt;00:00, 239561.55it/s]",
            "_view_count": null,
            "_view_module_version": "1.5.0",
            "description_tooltip": null,
            "_model_module": "@jupyter-widgets/controls",
            "layout": "IPY_MODEL_ca62bac676ec4b40ab13d6680428ea63"
          }
        },
        "04d7746e8d724a019ca0e77bd3846301": {
          "model_module": "@jupyter-widgets/controls",
          "model_name": "ProgressStyleModel",
          "state": {
            "_view_name": "StyleView",
            "_model_name": "ProgressStyleModel",
            "description_width": "initial",
            "_view_module": "@jupyter-widgets/base",
            "_model_module_version": "1.5.0",
            "_view_count": null,
            "_view_module_version": "1.2.0",
            "bar_color": null,
            "_model_module": "@jupyter-widgets/controls"
          }
        },
        "82300e7a295f48cb8a79e48295498cb1": {
          "model_module": "@jupyter-widgets/base",
          "model_name": "LayoutModel",
          "state": {
            "_view_name": "LayoutView",
            "grid_template_rows": null,
            "right": null,
            "justify_content": null,
            "_view_module": "@jupyter-widgets/base",
            "overflow": null,
            "_model_module_version": "1.2.0",
            "_view_count": null,
            "flex_flow": null,
            "width": null,
            "min_width": null,
            "border": null,
            "align_items": null,
            "bottom": null,
            "_model_module": "@jupyter-widgets/base",
            "top": null,
            "grid_column": null,
            "overflow_y": null,
            "overflow_x": null,
            "grid_auto_flow": null,
            "grid_area": null,
            "grid_template_columns": null,
            "flex": null,
            "_model_name": "LayoutModel",
            "justify_items": null,
            "grid_row": null,
            "max_height": null,
            "align_content": null,
            "visibility": null,
            "align_self": null,
            "height": null,
            "min_height": null,
            "padding": null,
            "grid_auto_rows": null,
            "grid_gap": null,
            "max_width": null,
            "order": null,
            "_view_module_version": "1.2.0",
            "grid_template_areas": null,
            "object_position": null,
            "object_fit": null,
            "grid_auto_columns": null,
            "margin": null,
            "display": null,
            "left": null
          }
        },
        "674ea29ce0f8449cac8c4a2d8e8637c5": {
          "model_module": "@jupyter-widgets/controls",
          "model_name": "DescriptionStyleModel",
          "state": {
            "_view_name": "StyleView",
            "_model_name": "DescriptionStyleModel",
            "description_width": "",
            "_view_module": "@jupyter-widgets/base",
            "_model_module_version": "1.5.0",
            "_view_count": null,
            "_view_module_version": "1.2.0",
            "_model_module": "@jupyter-widgets/controls"
          }
        },
        "ca62bac676ec4b40ab13d6680428ea63": {
          "model_module": "@jupyter-widgets/base",
          "model_name": "LayoutModel",
          "state": {
            "_view_name": "LayoutView",
            "grid_template_rows": null,
            "right": null,
            "justify_content": null,
            "_view_module": "@jupyter-widgets/base",
            "overflow": null,
            "_model_module_version": "1.2.0",
            "_view_count": null,
            "flex_flow": null,
            "width": null,
            "min_width": null,
            "border": null,
            "align_items": null,
            "bottom": null,
            "_model_module": "@jupyter-widgets/base",
            "top": null,
            "grid_column": null,
            "overflow_y": null,
            "overflow_x": null,
            "grid_auto_flow": null,
            "grid_area": null,
            "grid_template_columns": null,
            "flex": null,
            "_model_name": "LayoutModel",
            "justify_items": null,
            "grid_row": null,
            "max_height": null,
            "align_content": null,
            "visibility": null,
            "align_self": null,
            "height": null,
            "min_height": null,
            "padding": null,
            "grid_auto_rows": null,
            "grid_gap": null,
            "max_width": null,
            "order": null,
            "_view_module_version": "1.2.0",
            "grid_template_areas": null,
            "object_position": null,
            "object_fit": null,
            "grid_auto_columns": null,
            "margin": null,
            "display": null,
            "left": null
          }
        },
        "26df99fcb2184393b6a3156bb19ffefd": {
          "model_module": "@jupyter-widgets/controls",
          "model_name": "HBoxModel",
          "state": {
            "_view_name": "HBoxView",
            "_dom_classes": [],
            "_model_name": "HBoxModel",
            "_view_module": "@jupyter-widgets/controls",
            "_model_module_version": "1.5.0",
            "_view_count": null,
            "_view_module_version": "1.5.0",
            "box_style": "",
            "layout": "IPY_MODEL_dfce730baec74f729f11c919aa221ae6",
            "_model_module": "@jupyter-widgets/controls",
            "children": [
              "IPY_MODEL_dad119248dee4ee4b1ad42873b345a14",
              "IPY_MODEL_396e85bc61604accbbda3d2aa7fa3881"
            ]
          }
        },
        "dfce730baec74f729f11c919aa221ae6": {
          "model_module": "@jupyter-widgets/base",
          "model_name": "LayoutModel",
          "state": {
            "_view_name": "LayoutView",
            "grid_template_rows": null,
            "right": null,
            "justify_content": null,
            "_view_module": "@jupyter-widgets/base",
            "overflow": null,
            "_model_module_version": "1.2.0",
            "_view_count": null,
            "flex_flow": null,
            "width": null,
            "min_width": null,
            "border": null,
            "align_items": null,
            "bottom": null,
            "_model_module": "@jupyter-widgets/base",
            "top": null,
            "grid_column": null,
            "overflow_y": null,
            "overflow_x": null,
            "grid_auto_flow": null,
            "grid_area": null,
            "grid_template_columns": null,
            "flex": null,
            "_model_name": "LayoutModel",
            "justify_items": null,
            "grid_row": null,
            "max_height": null,
            "align_content": null,
            "visibility": null,
            "align_self": null,
            "height": null,
            "min_height": null,
            "padding": null,
            "grid_auto_rows": null,
            "grid_gap": null,
            "max_width": null,
            "order": null,
            "_view_module_version": "1.2.0",
            "grid_template_areas": null,
            "object_position": null,
            "object_fit": null,
            "grid_auto_columns": null,
            "margin": null,
            "display": null,
            "left": null
          }
        },
        "dad119248dee4ee4b1ad42873b345a14": {
          "model_module": "@jupyter-widgets/controls",
          "model_name": "FloatProgressModel",
          "state": {
            "_view_name": "ProgressView",
            "style": "IPY_MODEL_996f5644b7c14164854eddaf823f2562",
            "_dom_classes": [],
            "description": "",
            "_model_name": "FloatProgressModel",
            "bar_style": "success",
            "max": 28881,
            "_view_module": "@jupyter-widgets/controls",
            "_model_module_version": "1.5.0",
            "value": 28881,
            "_view_count": null,
            "_view_module_version": "1.5.0",
            "orientation": "horizontal",
            "min": 0,
            "description_tooltip": null,
            "_model_module": "@jupyter-widgets/controls",
            "layout": "IPY_MODEL_2e6668bc3a2f43a990099e6aa45b979b"
          }
        },
        "396e85bc61604accbbda3d2aa7fa3881": {
          "model_module": "@jupyter-widgets/controls",
          "model_name": "HTMLModel",
          "state": {
            "_view_name": "HTMLView",
            "style": "IPY_MODEL_9483e05079bb46e29de9d1e68cef9415",
            "_dom_classes": [],
            "description": "",
            "_model_name": "HTMLModel",
            "placeholder": "​",
            "_view_module": "@jupyter-widgets/controls",
            "_model_module_version": "1.5.0",
            "value": " 29696/? [00:40&lt;00:00, 734.06it/s]",
            "_view_count": null,
            "_view_module_version": "1.5.0",
            "description_tooltip": null,
            "_model_module": "@jupyter-widgets/controls",
            "layout": "IPY_MODEL_0b0db77baa7c47539ccf27d39cfb2ad3"
          }
        },
        "996f5644b7c14164854eddaf823f2562": {
          "model_module": "@jupyter-widgets/controls",
          "model_name": "ProgressStyleModel",
          "state": {
            "_view_name": "StyleView",
            "_model_name": "ProgressStyleModel",
            "description_width": "initial",
            "_view_module": "@jupyter-widgets/base",
            "_model_module_version": "1.5.0",
            "_view_count": null,
            "_view_module_version": "1.2.0",
            "bar_color": null,
            "_model_module": "@jupyter-widgets/controls"
          }
        },
        "2e6668bc3a2f43a990099e6aa45b979b": {
          "model_module": "@jupyter-widgets/base",
          "model_name": "LayoutModel",
          "state": {
            "_view_name": "LayoutView",
            "grid_template_rows": null,
            "right": null,
            "justify_content": null,
            "_view_module": "@jupyter-widgets/base",
            "overflow": null,
            "_model_module_version": "1.2.0",
            "_view_count": null,
            "flex_flow": null,
            "width": null,
            "min_width": null,
            "border": null,
            "align_items": null,
            "bottom": null,
            "_model_module": "@jupyter-widgets/base",
            "top": null,
            "grid_column": null,
            "overflow_y": null,
            "overflow_x": null,
            "grid_auto_flow": null,
            "grid_area": null,
            "grid_template_columns": null,
            "flex": null,
            "_model_name": "LayoutModel",
            "justify_items": null,
            "grid_row": null,
            "max_height": null,
            "align_content": null,
            "visibility": null,
            "align_self": null,
            "height": null,
            "min_height": null,
            "padding": null,
            "grid_auto_rows": null,
            "grid_gap": null,
            "max_width": null,
            "order": null,
            "_view_module_version": "1.2.0",
            "grid_template_areas": null,
            "object_position": null,
            "object_fit": null,
            "grid_auto_columns": null,
            "margin": null,
            "display": null,
            "left": null
          }
        },
        "9483e05079bb46e29de9d1e68cef9415": {
          "model_module": "@jupyter-widgets/controls",
          "model_name": "DescriptionStyleModel",
          "state": {
            "_view_name": "StyleView",
            "_model_name": "DescriptionStyleModel",
            "description_width": "",
            "_view_module": "@jupyter-widgets/base",
            "_model_module_version": "1.5.0",
            "_view_count": null,
            "_view_module_version": "1.2.0",
            "_model_module": "@jupyter-widgets/controls"
          }
        },
        "0b0db77baa7c47539ccf27d39cfb2ad3": {
          "model_module": "@jupyter-widgets/base",
          "model_name": "LayoutModel",
          "state": {
            "_view_name": "LayoutView",
            "grid_template_rows": null,
            "right": null,
            "justify_content": null,
            "_view_module": "@jupyter-widgets/base",
            "overflow": null,
            "_model_module_version": "1.2.0",
            "_view_count": null,
            "flex_flow": null,
            "width": null,
            "min_width": null,
            "border": null,
            "align_items": null,
            "bottom": null,
            "_model_module": "@jupyter-widgets/base",
            "top": null,
            "grid_column": null,
            "overflow_y": null,
            "overflow_x": null,
            "grid_auto_flow": null,
            "grid_area": null,
            "grid_template_columns": null,
            "flex": null,
            "_model_name": "LayoutModel",
            "justify_items": null,
            "grid_row": null,
            "max_height": null,
            "align_content": null,
            "visibility": null,
            "align_self": null,
            "height": null,
            "min_height": null,
            "padding": null,
            "grid_auto_rows": null,
            "grid_gap": null,
            "max_width": null,
            "order": null,
            "_view_module_version": "1.2.0",
            "grid_template_areas": null,
            "object_position": null,
            "object_fit": null,
            "grid_auto_columns": null,
            "margin": null,
            "display": null,
            "left": null
          }
        },
        "d492050243d94bdeba2282e9fb84d683": {
          "model_module": "@jupyter-widgets/controls",
          "model_name": "HBoxModel",
          "state": {
            "_view_name": "HBoxView",
            "_dom_classes": [],
            "_model_name": "HBoxModel",
            "_view_module": "@jupyter-widgets/controls",
            "_model_module_version": "1.5.0",
            "_view_count": null,
            "_view_module_version": "1.5.0",
            "box_style": "",
            "layout": "IPY_MODEL_fa012c1b0ff24a6485007297ce33f53f",
            "_model_module": "@jupyter-widgets/controls",
            "children": [
              "IPY_MODEL_c8a201ff888c47d7b30e7b31653d0d94",
              "IPY_MODEL_e5b0b33fd6ee4b43bcc9295c8f9e7cb4"
            ]
          }
        },
        "fa012c1b0ff24a6485007297ce33f53f": {
          "model_module": "@jupyter-widgets/base",
          "model_name": "LayoutModel",
          "state": {
            "_view_name": "LayoutView",
            "grid_template_rows": null,
            "right": null,
            "justify_content": null,
            "_view_module": "@jupyter-widgets/base",
            "overflow": null,
            "_model_module_version": "1.2.0",
            "_view_count": null,
            "flex_flow": null,
            "width": null,
            "min_width": null,
            "border": null,
            "align_items": null,
            "bottom": null,
            "_model_module": "@jupyter-widgets/base",
            "top": null,
            "grid_column": null,
            "overflow_y": null,
            "overflow_x": null,
            "grid_auto_flow": null,
            "grid_area": null,
            "grid_template_columns": null,
            "flex": null,
            "_model_name": "LayoutModel",
            "justify_items": null,
            "grid_row": null,
            "max_height": null,
            "align_content": null,
            "visibility": null,
            "align_self": null,
            "height": null,
            "min_height": null,
            "padding": null,
            "grid_auto_rows": null,
            "grid_gap": null,
            "max_width": null,
            "order": null,
            "_view_module_version": "1.2.0",
            "grid_template_areas": null,
            "object_position": null,
            "object_fit": null,
            "grid_auto_columns": null,
            "margin": null,
            "display": null,
            "left": null
          }
        },
        "c8a201ff888c47d7b30e7b31653d0d94": {
          "model_module": "@jupyter-widgets/controls",
          "model_name": "FloatProgressModel",
          "state": {
            "_view_name": "ProgressView",
            "style": "IPY_MODEL_14f927b4024440969c0d7735466db0e6",
            "_dom_classes": [],
            "description": "",
            "_model_name": "FloatProgressModel",
            "bar_style": "success",
            "max": 1648877,
            "_view_module": "@jupyter-widgets/controls",
            "_model_module_version": "1.5.0",
            "value": 1648877,
            "_view_count": null,
            "_view_module_version": "1.5.0",
            "orientation": "horizontal",
            "min": 0,
            "description_tooltip": null,
            "_model_module": "@jupyter-widgets/controls",
            "layout": "IPY_MODEL_82c938a70f404fc3b08da45643f901ec"
          }
        },
        "e5b0b33fd6ee4b43bcc9295c8f9e7cb4": {
          "model_module": "@jupyter-widgets/controls",
          "model_name": "HTMLModel",
          "state": {
            "_view_name": "HTMLView",
            "style": "IPY_MODEL_4c404280b9d74f4abdac44661e41e45c",
            "_dom_classes": [],
            "description": "",
            "_model_name": "HTMLModel",
            "placeholder": "​",
            "_view_module": "@jupyter-widgets/controls",
            "_model_module_version": "1.5.0",
            "value": " 1649664/? [00:00&lt;00:00, 1701048.66it/s]",
            "_view_count": null,
            "_view_module_version": "1.5.0",
            "description_tooltip": null,
            "_model_module": "@jupyter-widgets/controls",
            "layout": "IPY_MODEL_6e54be4157b74edd9b92f86bcaa4ea75"
          }
        },
        "14f927b4024440969c0d7735466db0e6": {
          "model_module": "@jupyter-widgets/controls",
          "model_name": "ProgressStyleModel",
          "state": {
            "_view_name": "StyleView",
            "_model_name": "ProgressStyleModel",
            "description_width": "initial",
            "_view_module": "@jupyter-widgets/base",
            "_model_module_version": "1.5.0",
            "_view_count": null,
            "_view_module_version": "1.2.0",
            "bar_color": null,
            "_model_module": "@jupyter-widgets/controls"
          }
        },
        "82c938a70f404fc3b08da45643f901ec": {
          "model_module": "@jupyter-widgets/base",
          "model_name": "LayoutModel",
          "state": {
            "_view_name": "LayoutView",
            "grid_template_rows": null,
            "right": null,
            "justify_content": null,
            "_view_module": "@jupyter-widgets/base",
            "overflow": null,
            "_model_module_version": "1.2.0",
            "_view_count": null,
            "flex_flow": null,
            "width": null,
            "min_width": null,
            "border": null,
            "align_items": null,
            "bottom": null,
            "_model_module": "@jupyter-widgets/base",
            "top": null,
            "grid_column": null,
            "overflow_y": null,
            "overflow_x": null,
            "grid_auto_flow": null,
            "grid_area": null,
            "grid_template_columns": null,
            "flex": null,
            "_model_name": "LayoutModel",
            "justify_items": null,
            "grid_row": null,
            "max_height": null,
            "align_content": null,
            "visibility": null,
            "align_self": null,
            "height": null,
            "min_height": null,
            "padding": null,
            "grid_auto_rows": null,
            "grid_gap": null,
            "max_width": null,
            "order": null,
            "_view_module_version": "1.2.0",
            "grid_template_areas": null,
            "object_position": null,
            "object_fit": null,
            "grid_auto_columns": null,
            "margin": null,
            "display": null,
            "left": null
          }
        },
        "4c404280b9d74f4abdac44661e41e45c": {
          "model_module": "@jupyter-widgets/controls",
          "model_name": "DescriptionStyleModel",
          "state": {
            "_view_name": "StyleView",
            "_model_name": "DescriptionStyleModel",
            "description_width": "",
            "_view_module": "@jupyter-widgets/base",
            "_model_module_version": "1.5.0",
            "_view_count": null,
            "_view_module_version": "1.2.0",
            "_model_module": "@jupyter-widgets/controls"
          }
        },
        "6e54be4157b74edd9b92f86bcaa4ea75": {
          "model_module": "@jupyter-widgets/base",
          "model_name": "LayoutModel",
          "state": {
            "_view_name": "LayoutView",
            "grid_template_rows": null,
            "right": null,
            "justify_content": null,
            "_view_module": "@jupyter-widgets/base",
            "overflow": null,
            "_model_module_version": "1.2.0",
            "_view_count": null,
            "flex_flow": null,
            "width": null,
            "min_width": null,
            "border": null,
            "align_items": null,
            "bottom": null,
            "_model_module": "@jupyter-widgets/base",
            "top": null,
            "grid_column": null,
            "overflow_y": null,
            "overflow_x": null,
            "grid_auto_flow": null,
            "grid_area": null,
            "grid_template_columns": null,
            "flex": null,
            "_model_name": "LayoutModel",
            "justify_items": null,
            "grid_row": null,
            "max_height": null,
            "align_content": null,
            "visibility": null,
            "align_self": null,
            "height": null,
            "min_height": null,
            "padding": null,
            "grid_auto_rows": null,
            "grid_gap": null,
            "max_width": null,
            "order": null,
            "_view_module_version": "1.2.0",
            "grid_template_areas": null,
            "object_position": null,
            "object_fit": null,
            "grid_auto_columns": null,
            "margin": null,
            "display": null,
            "left": null
          }
        },
        "f5106172e2c64e7da9f7bfaca5ab5b95": {
          "model_module": "@jupyter-widgets/controls",
          "model_name": "HBoxModel",
          "state": {
            "_view_name": "HBoxView",
            "_dom_classes": [],
            "_model_name": "HBoxModel",
            "_view_module": "@jupyter-widgets/controls",
            "_model_module_version": "1.5.0",
            "_view_count": null,
            "_view_module_version": "1.5.0",
            "box_style": "",
            "layout": "IPY_MODEL_60192cb157484363a93b207d72eef0f9",
            "_model_module": "@jupyter-widgets/controls",
            "children": [
              "IPY_MODEL_6be50c3e1e014a4e860a7d851a4e46e1",
              "IPY_MODEL_06823800ac5b4dc7813534991aa747cc"
            ]
          }
        },
        "60192cb157484363a93b207d72eef0f9": {
          "model_module": "@jupyter-widgets/base",
          "model_name": "LayoutModel",
          "state": {
            "_view_name": "LayoutView",
            "grid_template_rows": null,
            "right": null,
            "justify_content": null,
            "_view_module": "@jupyter-widgets/base",
            "overflow": null,
            "_model_module_version": "1.2.0",
            "_view_count": null,
            "flex_flow": null,
            "width": null,
            "min_width": null,
            "border": null,
            "align_items": null,
            "bottom": null,
            "_model_module": "@jupyter-widgets/base",
            "top": null,
            "grid_column": null,
            "overflow_y": null,
            "overflow_x": null,
            "grid_auto_flow": null,
            "grid_area": null,
            "grid_template_columns": null,
            "flex": null,
            "_model_name": "LayoutModel",
            "justify_items": null,
            "grid_row": null,
            "max_height": null,
            "align_content": null,
            "visibility": null,
            "align_self": null,
            "height": null,
            "min_height": null,
            "padding": null,
            "grid_auto_rows": null,
            "grid_gap": null,
            "max_width": null,
            "order": null,
            "_view_module_version": "1.2.0",
            "grid_template_areas": null,
            "object_position": null,
            "object_fit": null,
            "grid_auto_columns": null,
            "margin": null,
            "display": null,
            "left": null
          }
        },
        "6be50c3e1e014a4e860a7d851a4e46e1": {
          "model_module": "@jupyter-widgets/controls",
          "model_name": "FloatProgressModel",
          "state": {
            "_view_name": "ProgressView",
            "style": "IPY_MODEL_920f5f07db224f2995280cd8950b503f",
            "_dom_classes": [],
            "description": "",
            "_model_name": "FloatProgressModel",
            "bar_style": "success",
            "max": 4542,
            "_view_module": "@jupyter-widgets/controls",
            "_model_module_version": "1.5.0",
            "value": 4542,
            "_view_count": null,
            "_view_module_version": "1.5.0",
            "orientation": "horizontal",
            "min": 0,
            "description_tooltip": null,
            "_model_module": "@jupyter-widgets/controls",
            "layout": "IPY_MODEL_e7576b3d3d8743fd9954092357333119"
          }
        },
        "06823800ac5b4dc7813534991aa747cc": {
          "model_module": "@jupyter-widgets/controls",
          "model_name": "HTMLModel",
          "state": {
            "_view_name": "HTMLView",
            "style": "IPY_MODEL_b65c37d8a2ef4700a56d96ad6f2337c9",
            "_dom_classes": [],
            "description": "",
            "_model_name": "HTMLModel",
            "placeholder": "​",
            "_view_module": "@jupyter-widgets/controls",
            "_model_module_version": "1.5.0",
            "value": " 5120/? [00:00&lt;00:00, 16700.76it/s]",
            "_view_count": null,
            "_view_module_version": "1.5.0",
            "description_tooltip": null,
            "_model_module": "@jupyter-widgets/controls",
            "layout": "IPY_MODEL_f41329a8e19848dc8e4df6bdc2431952"
          }
        },
        "920f5f07db224f2995280cd8950b503f": {
          "model_module": "@jupyter-widgets/controls",
          "model_name": "ProgressStyleModel",
          "state": {
            "_view_name": "StyleView",
            "_model_name": "ProgressStyleModel",
            "description_width": "initial",
            "_view_module": "@jupyter-widgets/base",
            "_model_module_version": "1.5.0",
            "_view_count": null,
            "_view_module_version": "1.2.0",
            "bar_color": null,
            "_model_module": "@jupyter-widgets/controls"
          }
        },
        "e7576b3d3d8743fd9954092357333119": {
          "model_module": "@jupyter-widgets/base",
          "model_name": "LayoutModel",
          "state": {
            "_view_name": "LayoutView",
            "grid_template_rows": null,
            "right": null,
            "justify_content": null,
            "_view_module": "@jupyter-widgets/base",
            "overflow": null,
            "_model_module_version": "1.2.0",
            "_view_count": null,
            "flex_flow": null,
            "width": null,
            "min_width": null,
            "border": null,
            "align_items": null,
            "bottom": null,
            "_model_module": "@jupyter-widgets/base",
            "top": null,
            "grid_column": null,
            "overflow_y": null,
            "overflow_x": null,
            "grid_auto_flow": null,
            "grid_area": null,
            "grid_template_columns": null,
            "flex": null,
            "_model_name": "LayoutModel",
            "justify_items": null,
            "grid_row": null,
            "max_height": null,
            "align_content": null,
            "visibility": null,
            "align_self": null,
            "height": null,
            "min_height": null,
            "padding": null,
            "grid_auto_rows": null,
            "grid_gap": null,
            "max_width": null,
            "order": null,
            "_view_module_version": "1.2.0",
            "grid_template_areas": null,
            "object_position": null,
            "object_fit": null,
            "grid_auto_columns": null,
            "margin": null,
            "display": null,
            "left": null
          }
        },
        "b65c37d8a2ef4700a56d96ad6f2337c9": {
          "model_module": "@jupyter-widgets/controls",
          "model_name": "DescriptionStyleModel",
          "state": {
            "_view_name": "StyleView",
            "_model_name": "DescriptionStyleModel",
            "description_width": "",
            "_view_module": "@jupyter-widgets/base",
            "_model_module_version": "1.5.0",
            "_view_count": null,
            "_view_module_version": "1.2.0",
            "_model_module": "@jupyter-widgets/controls"
          }
        },
        "f41329a8e19848dc8e4df6bdc2431952": {
          "model_module": "@jupyter-widgets/base",
          "model_name": "LayoutModel",
          "state": {
            "_view_name": "LayoutView",
            "grid_template_rows": null,
            "right": null,
            "justify_content": null,
            "_view_module": "@jupyter-widgets/base",
            "overflow": null,
            "_model_module_version": "1.2.0",
            "_view_count": null,
            "flex_flow": null,
            "width": null,
            "min_width": null,
            "border": null,
            "align_items": null,
            "bottom": null,
            "_model_module": "@jupyter-widgets/base",
            "top": null,
            "grid_column": null,
            "overflow_y": null,
            "overflow_x": null,
            "grid_auto_flow": null,
            "grid_area": null,
            "grid_template_columns": null,
            "flex": null,
            "_model_name": "LayoutModel",
            "justify_items": null,
            "grid_row": null,
            "max_height": null,
            "align_content": null,
            "visibility": null,
            "align_self": null,
            "height": null,
            "min_height": null,
            "padding": null,
            "grid_auto_rows": null,
            "grid_gap": null,
            "max_width": null,
            "order": null,
            "_view_module_version": "1.2.0",
            "grid_template_areas": null,
            "object_position": null,
            "object_fit": null,
            "grid_auto_columns": null,
            "margin": null,
            "display": null,
            "left": null
          }
        }
      }
    }
  },
  "cells": [
    {
      "cell_type": "markdown",
      "metadata": {
        "id": "6vhE6SPhRDEw"
      },
      "source": [
        "# Imports"
      ]
    },
    {
      "cell_type": "code",
      "metadata": {
        "id": "o439I6xUIaAz"
      },
      "source": [
        "import torch\n",
        "import torchvision\n",
        "import torchvision.transforms as transforms\n",
        "import torch.nn as nn\n",
        "import torch.nn.functional as F\n",
        "import matplotlib.pyplot as plt\n",
        "from torch.optim.lr_scheduler import StepLR , CosineAnnealingLR\n",
        "from torch.utils.data import random_split, ConcatDataset"
      ],
      "execution_count": null,
      "outputs": []
    },
    {
      "cell_type": "markdown",
      "metadata": {
        "id": "x0uzBXT2RG6L"
      },
      "source": [
        "# Data Loading"
      ]
    },
    {
      "cell_type": "code",
      "metadata": {
        "colab": {
          "base_uri": "https://localhost:8080/"
        },
        "id": "qzuX4NzSrlcS",
        "outputId": "bade34e2-ffe2-4c71-845c-65d0f96936c1"
      },
      "source": [
        "train_size = 49000\n",
        "val_size =  9800\n",
        "test_size = 21000\n",
        "batch_size=512\n",
        "random_seed = 42\n",
        "torch.cuda.is_available()"
      ],
      "execution_count": null,
      "outputs": [
        {
          "output_type": "execute_result",
          "data": {
            "text/plain": [
              "False"
            ]
          },
          "metadata": {
            "tags": []
          },
          "execution_count": 2
        }
      ]
    },
    {
      "cell_type": "code",
      "metadata": {
        "colab": {
          "base_uri": "https://localhost:8080/",
          "height": 893,
          "referenced_widgets": [
            "3b7c72bdbb3649b6925daea48dbf96a6",
            "251710d98eb544b8be392ba87e8af8db",
            "2e990a37a86341aabddad275cb3ec1fe",
            "3514f3c810674049852579d836b8b341",
            "04d7746e8d724a019ca0e77bd3846301",
            "82300e7a295f48cb8a79e48295498cb1",
            "674ea29ce0f8449cac8c4a2d8e8637c5",
            "ca62bac676ec4b40ab13d6680428ea63",
            "26df99fcb2184393b6a3156bb19ffefd",
            "dfce730baec74f729f11c919aa221ae6",
            "dad119248dee4ee4b1ad42873b345a14",
            "396e85bc61604accbbda3d2aa7fa3881",
            "996f5644b7c14164854eddaf823f2562",
            "2e6668bc3a2f43a990099e6aa45b979b",
            "9483e05079bb46e29de9d1e68cef9415",
            "0b0db77baa7c47539ccf27d39cfb2ad3",
            "d492050243d94bdeba2282e9fb84d683",
            "fa012c1b0ff24a6485007297ce33f53f",
            "c8a201ff888c47d7b30e7b31653d0d94",
            "e5b0b33fd6ee4b43bcc9295c8f9e7cb4",
            "14f927b4024440969c0d7735466db0e6",
            "82c938a70f404fc3b08da45643f901ec",
            "4c404280b9d74f4abdac44661e41e45c",
            "6e54be4157b74edd9b92f86bcaa4ea75",
            "f5106172e2c64e7da9f7bfaca5ab5b95",
            "60192cb157484363a93b207d72eef0f9",
            "6be50c3e1e014a4e860a7d851a4e46e1",
            "06823800ac5b4dc7813534991aa747cc",
            "920f5f07db224f2995280cd8950b503f",
            "e7576b3d3d8743fd9954092357333119",
            "b65c37d8a2ef4700a56d96ad6f2337c9",
            "f41329a8e19848dc8e4df6bdc2431952"
          ]
        },
        "id": "9TR9Sa7Mrip-",
        "outputId": "1320e8e7-5000-4926-f2aa-e8a7ace54a7a"
      },
      "source": [
        "transform = transforms.Compose([transforms.ToTensor()])\n",
        "dataset = torchvision.datasets.MNIST(root='./data', train=True, download=True, transform=transform)\n",
        "testset = torchvision.datasets.MNIST(root='./data', train=False, download=True, transform=transform)\n",
        "full_DS = ConcatDataset([dataset,testset])\n",
        "\n",
        "torch.manual_seed(random_seed);\n",
        "train_ds, testset = random_split(full_DS, [train_size, test_size])\n",
        "train_ds, val_ds = random_split(train_ds, [train_size-val_size, val_size])\n",
        "\n",
        "train_dl = torch.utils.data.DataLoader(train_ds, batch_size, shuffle=True, num_workers=2, pin_memory=True)\n",
        "val_dl = torch.utils.data.DataLoader(val_ds, batch_size*2, num_workers=2, pin_memory=True)\n",
        "test_dl = torch.utils.data.DataLoader(testset, batch_size=4, shuffle=False, num_workers=2)\n",
        "len(train_ds), len(val_ds), len(testset)"
      ],
      "execution_count": null,
      "outputs": [
        {
          "output_type": "stream",
          "text": [
            "Downloading http://yann.lecun.com/exdb/mnist/train-images-idx3-ubyte.gz\n",
            "Failed to download (trying next):\n",
            "HTTP Error 503: Service Unavailable\n",
            "\n",
            "Downloading https://ossci-datasets.s3.amazonaws.com/mnist/train-images-idx3-ubyte.gz\n",
            "Downloading https://ossci-datasets.s3.amazonaws.com/mnist/train-images-idx3-ubyte.gz to ./data/MNIST/raw/train-images-idx3-ubyte.gz\n"
          ],
          "name": "stdout"
        },
        {
          "output_type": "display_data",
          "data": {
            "application/vnd.jupyter.widget-view+json": {
              "model_id": "3b7c72bdbb3649b6925daea48dbf96a6",
              "version_minor": 0,
              "version_major": 2
            },
            "text/plain": [
              "HBox(children=(FloatProgress(value=0.0, max=9912422.0), HTML(value='')))"
            ]
          },
          "metadata": {
            "tags": []
          }
        },
        {
          "output_type": "stream",
          "text": [
            "\n",
            "Extracting ./data/MNIST/raw/train-images-idx3-ubyte.gz to ./data/MNIST/raw\n",
            "\n",
            "Downloading http://yann.lecun.com/exdb/mnist/train-labels-idx1-ubyte.gz\n",
            "Failed to download (trying next):\n",
            "HTTP Error 503: Service Unavailable\n",
            "\n",
            "Downloading https://ossci-datasets.s3.amazonaws.com/mnist/train-labels-idx1-ubyte.gz\n",
            "Downloading https://ossci-datasets.s3.amazonaws.com/mnist/train-labels-idx1-ubyte.gz to ./data/MNIST/raw/train-labels-idx1-ubyte.gz\n"
          ],
          "name": "stdout"
        },
        {
          "output_type": "display_data",
          "data": {
            "application/vnd.jupyter.widget-view+json": {
              "model_id": "26df99fcb2184393b6a3156bb19ffefd",
              "version_minor": 0,
              "version_major": 2
            },
            "text/plain": [
              "HBox(children=(FloatProgress(value=0.0, max=28881.0), HTML(value='')))"
            ]
          },
          "metadata": {
            "tags": []
          }
        },
        {
          "output_type": "stream",
          "text": [
            "\n",
            "Extracting ./data/MNIST/raw/train-labels-idx1-ubyte.gz to ./data/MNIST/raw\n",
            "\n",
            "Downloading http://yann.lecun.com/exdb/mnist/t10k-images-idx3-ubyte.gz\n",
            "Failed to download (trying next):\n",
            "HTTP Error 503: Service Unavailable\n",
            "\n",
            "Downloading https://ossci-datasets.s3.amazonaws.com/mnist/t10k-images-idx3-ubyte.gz\n",
            "Downloading https://ossci-datasets.s3.amazonaws.com/mnist/t10k-images-idx3-ubyte.gz to ./data/MNIST/raw/t10k-images-idx3-ubyte.gz\n"
          ],
          "name": "stdout"
        },
        {
          "output_type": "display_data",
          "data": {
            "application/vnd.jupyter.widget-view+json": {
              "model_id": "d492050243d94bdeba2282e9fb84d683",
              "version_minor": 0,
              "version_major": 2
            },
            "text/plain": [
              "HBox(children=(FloatProgress(value=0.0, max=1648877.0), HTML(value='')))"
            ]
          },
          "metadata": {
            "tags": []
          }
        },
        {
          "output_type": "stream",
          "text": [
            "\n",
            "Extracting ./data/MNIST/raw/t10k-images-idx3-ubyte.gz to ./data/MNIST/raw\n",
            "\n",
            "Downloading http://yann.lecun.com/exdb/mnist/t10k-labels-idx1-ubyte.gz\n",
            "Failed to download (trying next):\n",
            "HTTP Error 503: Service Unavailable\n",
            "\n",
            "Downloading https://ossci-datasets.s3.amazonaws.com/mnist/t10k-labels-idx1-ubyte.gz\n",
            "Downloading https://ossci-datasets.s3.amazonaws.com/mnist/t10k-labels-idx1-ubyte.gz to ./data/MNIST/raw/t10k-labels-idx1-ubyte.gz\n"
          ],
          "name": "stdout"
        },
        {
          "output_type": "display_data",
          "data": {
            "application/vnd.jupyter.widget-view+json": {
              "model_id": "f5106172e2c64e7da9f7bfaca5ab5b95",
              "version_minor": 0,
              "version_major": 2
            },
            "text/plain": [
              "HBox(children=(FloatProgress(value=0.0, max=4542.0), HTML(value='')))"
            ]
          },
          "metadata": {
            "tags": []
          }
        },
        {
          "output_type": "stream",
          "text": [
            "\n",
            "Extracting ./data/MNIST/raw/t10k-labels-idx1-ubyte.gz to ./data/MNIST/raw\n",
            "\n",
            "Processing...\n",
            "Done!\n"
          ],
          "name": "stdout"
        },
        {
          "output_type": "stream",
          "text": [
            "/usr/local/lib/python3.7/dist-packages/torchvision/datasets/mnist.py:502: UserWarning: The given NumPy array is not writeable, and PyTorch does not support non-writeable tensors. This means you can write to the underlying (supposedly non-writeable) NumPy array using the tensor. You may want to copy the array to protect its data or make it writeable before converting it to a tensor. This type of warning will be suppressed for the rest of this program. (Triggered internally at  /pytorch/torch/csrc/utils/tensor_numpy.cpp:143.)\n",
            "  return torch.from_numpy(parsed.astype(m[2], copy=False)).view(*s)\n"
          ],
          "name": "stderr"
        },
        {
          "output_type": "execute_result",
          "data": {
            "text/plain": [
              "(39200, 9800, 21000)"
            ]
          },
          "metadata": {
            "tags": []
          },
          "execution_count": 3
        }
      ]
    },
    {
      "cell_type": "markdown",
      "metadata": {
        "id": "WZOZ4AIFRNWh"
      },
      "source": [
        "# Model"
      ]
    },
    {
      "cell_type": "code",
      "metadata": {
        "id": "Kwu0e46GryHK"
      },
      "source": [
        "\n",
        "class ImageClassificationBase(nn.Module):\n",
        "    def training_step(self, batch):\n",
        "        images, labels = batch \n",
        "        out = self(images)                  # Generate predictions\n",
        "        loss = F.cross_entropy(out, labels) # Calculate loss\n",
        "        return loss\n",
        "    \n",
        "    def validation_step(self, batch):\n",
        "        images, labels = batch \n",
        "        out = self(images)                    # Generate predictions\n",
        "        loss = F.cross_entropy(out, labels)   # Calculate loss\n",
        "        acc = accuracy(out, labels)           # Calculate accuracy\n",
        "        return {'val_loss': loss.detach(), 'val_acc': acc}\n",
        "        \n",
        "    def validation_epoch_end(self, outputs):\n",
        "        batch_losses = [x['val_loss'] for x in outputs]\n",
        "        epoch_loss = torch.stack(batch_losses).mean()   # Combine losses\n",
        "        batch_accs = [x['val_acc'] for x in outputs]\n",
        "        epoch_acc = torch.stack(batch_accs).mean()      # Combine accuracies\n",
        "        return {'val_loss': epoch_loss.item(), 'val_acc': epoch_acc.item()}\n",
        "    \n",
        "    def epoch_end(self, epoch, result):\n",
        "        print(\"Epoch [{}], train_loss: {:.4f}, val_loss: {:.4f}, val_acc: {:.4f}\".format(\n",
        "            epoch, result['train_loss'], result['val_loss'], result['val_acc']))\n",
        "        \n",
        "def accuracy(outputs, labels):\n",
        "    _, preds = torch.max(outputs, dim=1)\n",
        "    return torch.tensor(torch.sum(preds == labels).item() / len(preds))"
      ],
      "execution_count": null,
      "outputs": []
    },
    {
      "cell_type": "code",
      "metadata": {
        "id": "OjZ3CzWApbwn"
      },
      "source": [
        "class Mlp(ImageClassificationBase):\n",
        "    def __init__(self):\n",
        "        super(Mlp,self).__init__()\n",
        "        self.fc1 = nn.Linear(28*28, 256)\n",
        "        self.fc2 = nn.Linear(256,128)\n",
        "        self.fc3 = nn.Linear(128,10)\n",
        "        # self.droput = nn.Dropout(0.2)\n",
        "        \n",
        "    def forward(self,x):\n",
        "        x = x.view(-1,28*28)\n",
        "        x = F.relu(self.fc1(x))\n",
        "        x = F.relu(self.fc2(x))\n",
        "        x = self.fc3(x)\n",
        "        return F.log_softmax(x,dim=1)\n"
      ],
      "execution_count": null,
      "outputs": []
    },
    {
      "cell_type": "markdown",
      "metadata": {
        "id": "Wrp_2QthRPop"
      },
      "source": [
        "# Helper Functions"
      ]
    },
    {
      "cell_type": "code",
      "metadata": {
        "id": "SA41snhjuNQ-"
      },
      "source": [
        "def get_default_device():\n",
        "    \"\"\"Pick GPU if available, else CPU\"\"\"\n",
        "    if torch.cuda.is_available():\n",
        "        return torch.device('cuda')\n",
        "    else:\n",
        "        return torch.device('cpu')\n",
        "    \n",
        "def to_device(data, device):\n",
        "    \"\"\"Move tensor(s) to chosen device\"\"\"\n",
        "    if isinstance(data, (list,tuple)):\n",
        "        return [to_device(x, device) for x in data]\n",
        "    return data.to(device, non_blocking=True)\n",
        "\n",
        "class DeviceDataLoader():\n",
        "    \"\"\"Wrap a dataloader to move data to a device\"\"\"\n",
        "    def __init__(self, dl, device):\n",
        "        self.dl = dl\n",
        "        self.device = device\n",
        "        \n",
        "    def __iter__(self):\n",
        "        \"\"\"Yield a batch of data after moving it to device\"\"\"\n",
        "        for b in self.dl: \n",
        "            yield to_device(b, self.device)\n",
        "\n",
        "    def __len__(self):\n",
        "        \"\"\"Number of batches\"\"\"\n",
        "        return len(self.dl)"
      ],
      "execution_count": null,
      "outputs": []
    },
    {
      "cell_type": "code",
      "metadata": {
        "id": "zur3STIwua-K"
      },
      "source": [
        "@torch.no_grad()\n",
        "def evaluate(model, val_loader):\n",
        "    model.eval()\n",
        "    outputs = [model.validation_step(batch) for batch in val_loader]\n",
        "    return model.validation_epoch_end(outputs)\n",
        "\n",
        "def fit(question_no,epochs, lr, model, train_loader, val_loader, opt_func=torch.optim.SGD,momentum=None,scheduler=None):\n",
        "    history = []\n",
        "    if momentum == None:\n",
        "        optimizer = opt_func(model.parameters(), lr)\n",
        "    else:\n",
        "        optimizer = opt_func(model.parameters(), lr,momentum=momentum)\n",
        "    \n",
        "    if scheduler == \"CosineAnnealingLR\":\n",
        "        scheduler = CosineAnnealingLR(optimizer, len(train_loader), verbose = False)\n",
        "    elif scheduler == \"StepLR\":\n",
        "        scheduler = StepLR(optimizer, step_size=1000, gamma=0.8)\n",
        "    val_accuracy = 0\n",
        "    for epoch in range(epochs):\n",
        "        # Training Phase \n",
        "        model.train()\n",
        "        train_losses = []\n",
        "        for batch in train_loader:\n",
        "            loss = model.training_step(batch)\n",
        "            train_losses.append(loss)\n",
        "            loss.backward()\n",
        "            optimizer.step()\n",
        "            if scheduler != None:\n",
        "                scheduler.step()\n",
        "            optimizer.zero_grad()\n",
        "        # Validation phase\n",
        "        result = evaluate(model, val_loader)\n",
        "        result['train_loss'] = torch.stack(train_losses).mean().item()\n",
        "        model.epoch_end(epoch, result)\n",
        "        history.append(result)\n",
        "        # print(history)\n",
        "        if (val_accuracy < history[-1][\"val_acc\"]):\n",
        "            torch.save(model.state_dict(), question_no)\n",
        "            print(\"saving model for\", question_no)\n",
        "            val_accuracy = history[-1][\"val_acc\"]\n",
        "    return history\n",
        "def test_accuracy(model, test_loader):\n",
        "    result = evaluate(model, test_loader)    \n",
        "    return result[\"val_acc\"]"
      ],
      "execution_count": null,
      "outputs": []
    },
    {
      "cell_type": "code",
      "metadata": {
        "id": "2zgNUJHB8mcT"
      },
      "source": [
        "def plot_losses(history):\n",
        "    train_losses = [x.get('train_loss') for x in history]\n",
        "    val_losses = [x['val_loss'] for x in history]\n",
        "    plt.plot(train_losses, '-bx')\n",
        "    plt.plot(val_losses, '-rx')\n",
        "    plt.xlabel('epoch')\n",
        "    plt.ylabel('loss')\n",
        "    plt.legend(['Training', 'Validation'])\n",
        "    plt.title('Loss vs. No. of epochs');"
      ],
      "execution_count": null,
      "outputs": []
    },
    {
      "cell_type": "code",
      "metadata": {
        "id": "5OmthsHAvDU0"
      },
      "source": [
        "device = get_default_device()\n",
        "train_dl = DeviceDataLoader(train_dl, device)\n",
        "val_dl = DeviceDataLoader(val_dl, device)\n",
        "test_dl = DeviceDataLoader(test_dl, device)\n"
      ],
      "execution_count": null,
      "outputs": []
    },
    {
      "cell_type": "markdown",
      "metadata": {
        "id": "G1tUEmfzRVDK"
      },
      "source": [
        "# Part 1"
      ]
    },
    {
      "cell_type": "markdown",
      "metadata": {
        "id": "HtsthWpoyhGW"
      },
      "source": [
        "## Adam\n"
      ]
    },
    {
      "cell_type": "code",
      "metadata": {
        "id": "gaNbP3qfvBTf"
      },
      "source": [
        "num_epochs = 15\n",
        "opt_func = torch.optim.Adam\n",
        "lr = 0.001"
      ],
      "execution_count": null,
      "outputs": []
    },
    {
      "cell_type": "code",
      "metadata": {
        "colab": {
          "base_uri": "https://localhost:8080/"
        },
        "id": "4Ob9jjE5vGek",
        "outputId": "f3def813-4613-4e85-e3b9-afd3cfee0790"
      },
      "source": [
        "model1 = to_device(Mlp(), device);\n",
        "history1 = fit(\"part1\",num_epochs, lr, model1, train_dl, val_dl, opt_func,scheduler=\"StepLR\")\n"
      ],
      "execution_count": null,
      "outputs": [
        {
          "output_type": "stream",
          "text": [
            "Epoch [0], train_loss: 0.7595, val_loss: 0.3244, val_acc: 0.9047\n",
            "saving model for part1\n",
            "Epoch [1], train_loss: 0.2621, val_loss: 0.2442, val_acc: 0.9284\n",
            "saving model for part1\n",
            "Epoch [2], train_loss: 0.2010, val_loss: 0.2034, val_acc: 0.9388\n",
            "saving model for part1\n",
            "Epoch [3], train_loss: 0.1587, val_loss: 0.1748, val_acc: 0.9462\n",
            "saving model for part1\n",
            "Epoch [4], train_loss: 0.1317, val_loss: 0.1505, val_acc: 0.9550\n",
            "saving model for part1\n",
            "Epoch [5], train_loss: 0.1118, val_loss: 0.1321, val_acc: 0.9600\n",
            "saving model for part1\n",
            "Epoch [6], train_loss: 0.0914, val_loss: 0.1283, val_acc: 0.9609\n",
            "saving model for part1\n",
            "Epoch [7], train_loss: 0.0766, val_loss: 0.1180, val_acc: 0.9631\n",
            "saving model for part1\n",
            "Epoch [8], train_loss: 0.0652, val_loss: 0.1158, val_acc: 0.9647\n",
            "saving model for part1\n",
            "Epoch [9], train_loss: 0.0582, val_loss: 0.1089, val_acc: 0.9661\n",
            "saving model for part1\n",
            "Epoch [10], train_loss: 0.0499, val_loss: 0.1010, val_acc: 0.9692\n",
            "saving model for part1\n",
            "Epoch [11], train_loss: 0.0400, val_loss: 0.1026, val_acc: 0.9711\n",
            "saving model for part1\n",
            "Epoch [12], train_loss: 0.0346, val_loss: 0.0991, val_acc: 0.9707\n",
            "Epoch [13], train_loss: 0.0279, val_loss: 0.0979, val_acc: 0.9723\n",
            "saving model for part1\n",
            "Epoch [14], train_loss: 0.0238, val_loss: 0.0977, val_acc: 0.9727\n",
            "saving model for part1\n"
          ],
          "name": "stdout"
        }
      ]
    },
    {
      "cell_type": "code",
      "metadata": {
        "colab": {
          "base_uri": "https://localhost:8080/"
        },
        "id": "7A4L5610snj3",
        "outputId": "ce6aa718-2fb3-40af-9c49-b582b75fe6e4"
      },
      "source": [
        "model1.load_state_dict(torch.load(\"part1\"))\n",
        "print(\"accuracy for part 1 = \", test_accuracy(model1,test_dl)*100,\"%\")"
      ],
      "execution_count": null,
      "outputs": [
        {
          "output_type": "stream",
          "text": [
            "accuracy for part 1 =  97.4142849445343 %\n"
          ],
          "name": "stdout"
        }
      ]
    },
    {
      "cell_type": "code",
      "metadata": {
        "colab": {
          "base_uri": "https://localhost:8080/",
          "height": 294
        },
        "id": "9-QmEOGQuyhs",
        "outputId": "38e6d088-a52f-46e6-d6e6-734a50395d8c"
      },
      "source": [
        "\n",
        "plot_losses(history1)"
      ],
      "execution_count": null,
      "outputs": [
        {
          "output_type": "display_data",
          "data": {
            "image/png": "[encoded data removed]",
            "text/plain": [
              "<Figure size 432x288 with 1 Axes>"
            ]
          },
          "metadata": {
            "tags": [],
            "needs_background": "light"
          }
        }
      ]
    },
    {
      "cell_type": "markdown",
      "metadata": {
        "id": "v3sS5l0dvcAs"
      },
      "source": [
        "## RMS"
      ]
    },
    {
      "cell_type": "code",
      "metadata": {
        "id": "6MKbgBK_u4SQ"
      },
      "source": [
        "num_epochs = 15\n",
        "opt_func = torch.optim.RMSprop\n",
        "lr = 0.001"
      ],
      "execution_count": null,
      "outputs": []
    },
    {
      "cell_type": "code",
      "metadata": {
        "colab": {
          "base_uri": "https://localhost:8080/"
        },
        "id": "uAuldIFzviln",
        "outputId": "3b871cd1-abb1-41f6-f2ff-29d4399d20dc"
      },
      "source": [
        "model2 = to_device(Mlp(), device);\n",
        "history2 = fit(\"part2\",num_epochs, lr, model2, train_dl, val_dl, opt_func,scheduler=\"StepLR\")\n"
      ],
      "execution_count": null,
      "outputs": [
        {
          "output_type": "stream",
          "text": [
            "Epoch [0], train_loss: 0.7357, val_loss: 0.3220, val_acc: 0.9085\n",
            "saving model for part2\n",
            "Epoch [1], train_loss: 0.2612, val_loss: 0.2408, val_acc: 0.9300\n",
            "saving model for part2\n",
            "Epoch [2], train_loss: 0.1971, val_loss: 0.2068, val_acc: 0.9384\n",
            "saving model for part2\n",
            "Epoch [3], train_loss: 0.1568, val_loss: 0.1644, val_acc: 0.9499\n",
            "saving model for part2\n",
            "Epoch [4], train_loss: 0.1288, val_loss: 0.1489, val_acc: 0.9552\n",
            "saving model for part2\n",
            "Epoch [5], train_loss: 0.1061, val_loss: 0.1361, val_acc: 0.9582\n",
            "saving model for part2\n",
            "Epoch [6], train_loss: 0.0902, val_loss: 0.1275, val_acc: 0.9618\n",
            "saving model for part2\n",
            "Epoch [7], train_loss: 0.0749, val_loss: 0.1145, val_acc: 0.9655\n",
            "saving model for part2\n",
            "Epoch [8], train_loss: 0.0641, val_loss: 0.1076, val_acc: 0.9685\n",
            "saving model for part2\n",
            "Epoch [9], train_loss: 0.0541, val_loss: 0.1048, val_acc: 0.9691\n",
            "saving model for part2\n",
            "Epoch [10], train_loss: 0.0442, val_loss: 0.1014, val_acc: 0.9689\n",
            "Epoch [11], train_loss: 0.0386, val_loss: 0.0968, val_acc: 0.9706\n",
            "saving model for part2\n",
            "Epoch [12], train_loss: 0.0321, val_loss: 0.0937, val_acc: 0.9736\n",
            "saving model for part2\n",
            "Epoch [13], train_loss: 0.0265, val_loss: 0.0982, val_acc: 0.9726\n",
            "Epoch [14], train_loss: 0.0216, val_loss: 0.0966, val_acc: 0.9745\n",
            "saving model for part2\n"
          ],
          "name": "stdout"
        }
      ]
    },
    {
      "cell_type": "code",
      "metadata": {
        "colab": {
          "base_uri": "https://localhost:8080/"
        },
        "id": "2R6h-30ovilq",
        "outputId": "eaf29982-98ed-46dc-d1fc-f4bcb3c9396d"
      },
      "source": [
        "model2.load_state_dict(torch.load(\"part2\"))\n",
        "print(\"accuracy for part 2 = \", test_accuracy(model2,test_dl)*100,\"%\")"
      ],
      "execution_count": null,
      "outputs": [
        {
          "output_type": "stream",
          "text": [
            "accuracy for part 2 =  97.45714068412781 %\n"
          ],
          "name": "stdout"
        }
      ]
    },
    {
      "cell_type": "code",
      "metadata": {
        "colab": {
          "base_uri": "https://localhost:8080/",
          "height": 294
        },
        "id": "lM3bmw88vilt",
        "outputId": "23c2b347-5867-4e2f-9349-c8a03228bd8e"
      },
      "source": [
        "\n",
        "plot_losses(history2)"
      ],
      "execution_count": null,
      "outputs": [
        {
          "output_type": "display_data",
          "data": {
            "image/png": "[encoded data removed]",
            "text/plain": [
              "<Figure size 432x288 with 1 Axes>"
            ]
          },
          "metadata": {
            "tags": [],
            "needs_background": "light"
          }
        }
      ]
    },
    {
      "cell_type": "markdown",
      "metadata": {
        "id": "5Zk6iAnsww8Q"
      },
      "source": [
        "## SGD"
      ]
    },
    {
      "cell_type": "code",
      "metadata": {
        "id": "e9Ld-jH_wIUs"
      },
      "source": [
        "num_epochs = 15\n",
        "opt_func = torch.optim.SGD\n",
        "lr = 0.05"
      ],
      "execution_count": null,
      "outputs": []
    },
    {
      "cell_type": "code",
      "metadata": {
        "colab": {
          "base_uri": "https://localhost:8080/"
        },
        "id": "YTmsJ8v_xNKz",
        "outputId": "84148d2b-50db-447a-be07-9af9b6cbfaec"
      },
      "source": [
        "model3 = to_device(Mlp(), device);\n",
        "history3 = fit(\"part3\",num_epochs, lr, model3, train_dl, val_dl, opt_func,scheduler=\"StepLR\")\n"
      ],
      "execution_count": null,
      "outputs": [
        {
          "output_type": "stream",
          "text": [
            "Epoch [0], train_loss: 2.2065, val_loss: 2.0087, val_acc: 0.5659\n",
            "saving model for part3\n",
            "Epoch [1], train_loss: 1.5078, val_loss: 0.9989, val_acc: 0.7600\n",
            "saving model for part3\n",
            "Epoch [2], train_loss: 0.7683, val_loss: 0.6153, val_acc: 0.8422\n",
            "saving model for part3\n",
            "Epoch [3], train_loss: 0.5391, val_loss: 0.4856, val_acc: 0.8694\n",
            "saving model for part3\n",
            "Epoch [4], train_loss: 0.4489, val_loss: 0.4263, val_acc: 0.8817\n",
            "saving model for part3\n",
            "Epoch [5], train_loss: 0.4012, val_loss: 0.3945, val_acc: 0.8893\n",
            "saving model for part3\n",
            "Epoch [6], train_loss: 0.3715, val_loss: 0.3708, val_acc: 0.8951\n",
            "saving model for part3\n",
            "Epoch [7], train_loss: 0.3503, val_loss: 0.3543, val_acc: 0.8996\n",
            "saving model for part3\n",
            "Epoch [8], train_loss: 0.3346, val_loss: 0.3435, val_acc: 0.9039\n",
            "saving model for part3\n",
            "Epoch [9], train_loss: 0.3205, val_loss: 0.3316, val_acc: 0.9058\n",
            "saving model for part3\n",
            "Epoch [10], train_loss: 0.3088, val_loss: 0.3199, val_acc: 0.9120\n",
            "saving model for part3\n",
            "Epoch [11], train_loss: 0.2976, val_loss: 0.3126, val_acc: 0.9119\n",
            "Epoch [12], train_loss: 0.2875, val_loss: 0.3018, val_acc: 0.9143\n",
            "saving model for part3\n",
            "Epoch [13], train_loss: 0.2790, val_loss: 0.2948, val_acc: 0.9177\n",
            "saving model for part3\n",
            "Epoch [14], train_loss: 0.2726, val_loss: 0.2915, val_acc: 0.9177\n"
          ],
          "name": "stdout"
        }
      ]
    },
    {
      "cell_type": "code",
      "metadata": {
        "colab": {
          "base_uri": "https://localhost:8080/"
        },
        "id": "zIFFJhWhw_qO",
        "outputId": "aef8e029-000d-4e03-c495-dd0f51c1033e"
      },
      "source": [
        "model3.load_state_dict(torch.load(\"part3\"))\n",
        "print(\"accuracy for part 3 = \", test_accuracy(model3,test_dl)*100,\"%\")"
      ],
      "execution_count": null,
      "outputs": [
        {
          "output_type": "stream",
          "text": [
            "accuracy for part 3 =  92.01428294181824 %\n"
          ],
          "name": "stdout"
        }
      ]
    },
    {
      "cell_type": "code",
      "metadata": {
        "colab": {
          "base_uri": "https://localhost:8080/",
          "height": 294
        },
        "id": "pr86uBYSxGe_",
        "outputId": "c2d95231-2fbf-40ab-da07-a9b4c58af34d"
      },
      "source": [
        "\n",
        "plot_losses(history3)"
      ],
      "execution_count": null,
      "outputs": [
        {
          "output_type": "display_data",
          "data": {
            "image/png": "[encoded data removed]",
            "text/plain": [
              "<Figure size 432x288 with 1 Axes>"
            ]
          },
          "metadata": {
            "tags": [],
            "needs_background": "light"
          }
        }
      ]
    },
    {
      "cell_type": "markdown",
      "metadata": {
        "id": "9twM66VxyUXg"
      },
      "source": [
        "## SGD with Momentum\n"
      ]
    },
    {
      "cell_type": "code",
      "metadata": {
        "id": "q1QK4jVxyM8z"
      },
      "source": [
        "num_epochs = 15\n",
        "opt_func = torch.optim.SGD\n",
        "lr = 0.05\n",
        "momentum = 0.9"
      ],
      "execution_count": null,
      "outputs": []
    },
    {
      "cell_type": "code",
      "metadata": {
        "colab": {
          "base_uri": "https://localhost:8080/"
        },
        "id": "exc3S4Z8zpo6",
        "outputId": "df793797-a5d0-464d-be66-e046c1a8cd2a"
      },
      "source": [
        "model4 = to_device(Mlp(), device);\n",
        "history4 = fit(\"part4\",num_epochs, lr, model4, train_dl, val_dl, opt_func,momentum)\n"
      ],
      "execution_count": null,
      "outputs": [
        {
          "output_type": "stream",
          "text": [
            "Epoch [0], train_loss: 1.1610, val_loss: 0.3878, val_acc: 0.8881\n",
            "saving model for part4\n",
            "Epoch [1], train_loss: 0.3217, val_loss: 0.2943, val_acc: 0.9156\n",
            "saving model for part4\n",
            "Epoch [2], train_loss: 0.2417, val_loss: 0.2381, val_acc: 0.9290\n",
            "saving model for part4\n",
            "Epoch [3], train_loss: 0.1963, val_loss: 0.2049, val_acc: 0.9391\n",
            "saving model for part4\n",
            "Epoch [4], train_loss: 0.1599, val_loss: 0.1675, val_acc: 0.9479\n",
            "saving model for part4\n",
            "Epoch [5], train_loss: 0.1326, val_loss: 0.1529, val_acc: 0.9550\n",
            "saving model for part4\n",
            "Epoch [6], train_loss: 0.1121, val_loss: 0.1350, val_acc: 0.9598\n",
            "saving model for part4\n",
            "Epoch [7], train_loss: 0.0947, val_loss: 0.1291, val_acc: 0.9604\n",
            "saving model for part4\n",
            "Epoch [8], train_loss: 0.0823, val_loss: 0.1180, val_acc: 0.9636\n",
            "saving model for part4\n",
            "Epoch [9], train_loss: 0.0739, val_loss: 0.1156, val_acc: 0.9662\n",
            "saving model for part4\n",
            "Epoch [10], train_loss: 0.0649, val_loss: 0.1121, val_acc: 0.9661\n",
            "Epoch [11], train_loss: 0.0547, val_loss: 0.1045, val_acc: 0.9679\n",
            "saving model for part4\n",
            "Epoch [12], train_loss: 0.0492, val_loss: 0.1016, val_acc: 0.9699\n",
            "saving model for part4\n",
            "Epoch [13], train_loss: 0.0414, val_loss: 0.1046, val_acc: 0.9695\n",
            "Epoch [14], train_loss: 0.0374, val_loss: 0.0953, val_acc: 0.9715\n",
            "saving model for part4\n"
          ],
          "name": "stdout"
        }
      ]
    },
    {
      "cell_type": "code",
      "metadata": {
        "colab": {
          "base_uri": "https://localhost:8080/"
        },
        "id": "XTLZ4z8qzpo7",
        "outputId": "3b95a2e1-3d0d-43a8-fa33-28cf0a15d69b"
      },
      "source": [
        "model4.load_state_dict(torch.load(\"part4\"))\n",
        "print(\"accuracy for part 4 = \", test_accuracy(model4,test_dl)*100,\"%\")"
      ],
      "execution_count": null,
      "outputs": [
        {
          "output_type": "stream",
          "text": [
            "accuracy for part 4 =  97.39999771118164 %\n"
          ],
          "name": "stdout"
        }
      ]
    },
    {
      "cell_type": "code",
      "metadata": {
        "colab": {
          "base_uri": "https://localhost:8080/",
          "height": 294
        },
        "id": "4lBs6YXQzpo7",
        "outputId": "87b306e0-e183-4854-a374-1774fc42bbe0"
      },
      "source": [
        "\n",
        "plot_losses(history4)"
      ],
      "execution_count": null,
      "outputs": [
        {
          "output_type": "display_data",
          "data": {
            "image/png": "[encoded data removed]",
            "text/plain": [
              "<Figure size 432x288 with 1 Axes>"
            ]
          },
          "metadata": {
            "tags": [],
            "needs_background": "light"
          }
        }
      ]
    },
    {
      "cell_type": "markdown",
      "metadata": {
        "id": "xtHW1fzG1Qdl"
      },
      "source": [
        "## Xavier Weight Iniatialisation(Normal)"
      ]
    },
    {
      "cell_type": "code",
      "metadata": {
        "id": "V8xmhVmd1i5-"
      },
      "source": [
        "num_epochs = 15\n",
        "opt_func = torch.optim.Adam\n",
        "lr = 0.001"
      ],
      "execution_count": null,
      "outputs": []
    },
    {
      "cell_type": "code",
      "metadata": {
        "colab": {
          "base_uri": "https://localhost:8080/"
        },
        "id": "sy4zLqqj1i67",
        "outputId": "e8b3560a-1232-4c1c-dfce-67717df45886"
      },
      "source": [
        "model5 = to_device(Mlp(), device);\n",
        "x = list(model5.parameters())\n",
        "nn.init.xavier_normal_(x[0], gain=nn.init.calculate_gain('relu'))\n",
        "history5 = fit(\"part5\",num_epochs, lr, model5, train_dl, val_dl, opt_func)\n"
      ],
      "execution_count": null,
      "outputs": [
        {
          "output_type": "stream",
          "text": [
            "Epoch [0], train_loss: 0.7286, val_loss: 0.3138, val_acc: 0.9108\n",
            "saving model for part5\n",
            "Epoch [1], train_loss: 0.2494, val_loss: 0.2331, val_acc: 0.9314\n",
            "saving model for part5\n",
            "Epoch [2], train_loss: 0.1835, val_loss: 0.1865, val_acc: 0.9450\n",
            "saving model for part5\n",
            "Epoch [3], train_loss: 0.1450, val_loss: 0.1558, val_acc: 0.9527\n",
            "saving model for part5\n",
            "Epoch [4], train_loss: 0.1163, val_loss: 0.1423, val_acc: 0.9579\n",
            "saving model for part5\n",
            "Epoch [5], train_loss: 0.0974, val_loss: 0.1232, val_acc: 0.9639\n",
            "saving model for part5\n",
            "Epoch [6], train_loss: 0.0790, val_loss: 0.1207, val_acc: 0.9655\n",
            "saving model for part5\n",
            "Epoch [7], train_loss: 0.0666, val_loss: 0.1099, val_acc: 0.9677\n",
            "saving model for part5\n",
            "Epoch [8], train_loss: 0.0554, val_loss: 0.1042, val_acc: 0.9699\n",
            "saving model for part5\n",
            "Epoch [9], train_loss: 0.0463, val_loss: 0.1012, val_acc: 0.9710\n",
            "saving model for part5\n",
            "Epoch [10], train_loss: 0.0382, val_loss: 0.0965, val_acc: 0.9733\n",
            "saving model for part5\n",
            "Epoch [11], train_loss: 0.0325, val_loss: 0.0997, val_acc: 0.9716\n",
            "Epoch [12], train_loss: 0.0272, val_loss: 0.0971, val_acc: 0.9732\n",
            "Epoch [13], train_loss: 0.0218, val_loss: 0.0950, val_acc: 0.9735\n",
            "saving model for part5\n",
            "Epoch [14], train_loss: 0.0191, val_loss: 0.0958, val_acc: 0.9741\n",
            "saving model for part5\n"
          ],
          "name": "stdout"
        }
      ]
    },
    {
      "cell_type": "code",
      "metadata": {
        "colab": {
          "base_uri": "https://localhost:8080/"
        },
        "id": "KqGyc3kX1i68",
        "outputId": "b8d7bf71-a7f0-4d5c-ab01-4e2cfff0ab11"
      },
      "source": [
        "model5.load_state_dict(torch.load(\"part5\"))\n",
        "print(\"accuracy for part 5 = \", test_accuracy(model5,test_dl)*100,\"%\")"
      ],
      "execution_count": null,
      "outputs": [
        {
          "output_type": "stream",
          "text": [
            "accuracy for part 5 =  97.47142791748047 %\n"
          ],
          "name": "stdout"
        }
      ]
    },
    {
      "cell_type": "code",
      "metadata": {
        "colab": {
          "base_uri": "https://localhost:8080/",
          "height": 294
        },
        "id": "3Zbt5D5N1i69",
        "outputId": "7c28f122-186f-4728-e6aa-f02a7e7f1fc0"
      },
      "source": [
        "\n",
        "plot_losses(history1)"
      ],
      "execution_count": null,
      "outputs": [
        {
          "output_type": "display_data",
          "data": {
            "image/png": "[encoded data removed]",
            "text/plain": [
              "<Figure size 432x288 with 1 Axes>"
            ]
          },
          "metadata": {
            "tags": [],
            "needs_background": "light"
          }
        }
      ]
    },
    {
      "cell_type": "markdown",
      "metadata": {
        "id": "bm8B_xQp7pKg"
      },
      "source": [
        "### Xavier Weight Iniatialisation (Uniform)"
      ]
    },
    {
      "cell_type": "code",
      "metadata": {
        "id": "JBsZQa5L7ur9"
      },
      "source": [
        "num_epochs = 15\n",
        "opt_func = torch.optim.Adam\n",
        "lr = 0.001"
      ],
      "execution_count": null,
      "outputs": []
    },
    {
      "cell_type": "code",
      "metadata": {
        "colab": {
          "base_uri": "https://localhost:8080/"
        },
        "id": "VTnHeshN7usQ",
        "outputId": "2682438c-0a5d-47a6-9f65-f18b88f8a91c"
      },
      "source": [
        "model6 = to_device(Mlp(), device);\n",
        "x = list(model6.parameters())\n",
        "nn.init.xavier_uniform_(x[0], gain=nn.init.calculate_gain('relu'))\n",
        "history6 = fit(\"part6\",num_epochs, lr, model6, train_dl, val_dl, opt_func)\n"
      ],
      "execution_count": null,
      "outputs": [
        {
          "output_type": "stream",
          "text": [
            "Epoch [0], train_loss: 0.7177, val_loss: 0.3160, val_acc: 0.9093\n",
            "saving model for part6\n",
            "Epoch [1], train_loss: 0.2591, val_loss: 0.2448, val_acc: 0.9299\n",
            "saving model for part6\n",
            "Epoch [2], train_loss: 0.1939, val_loss: 0.1932, val_acc: 0.9442\n",
            "saving model for part6\n",
            "Epoch [3], train_loss: 0.1517, val_loss: 0.1670, val_acc: 0.9491\n",
            "saving model for part6\n",
            "Epoch [4], train_loss: 0.1236, val_loss: 0.1473, val_acc: 0.9550\n",
            "saving model for part6\n",
            "Epoch [5], train_loss: 0.1042, val_loss: 0.1308, val_acc: 0.9629\n",
            "saving model for part6\n",
            "Epoch [6], train_loss: 0.0850, val_loss: 0.1204, val_acc: 0.9657\n",
            "saving model for part6\n",
            "Epoch [7], train_loss: 0.0716, val_loss: 0.1176, val_acc: 0.9667\n",
            "saving model for part6\n",
            "Epoch [8], train_loss: 0.0605, val_loss: 0.1098, val_acc: 0.9672\n",
            "saving model for part6\n",
            "Epoch [9], train_loss: 0.0503, val_loss: 0.1033, val_acc: 0.9696\n",
            "saving model for part6\n",
            "Epoch [10], train_loss: 0.0429, val_loss: 0.1043, val_acc: 0.9701\n",
            "saving model for part6\n",
            "Epoch [11], train_loss: 0.0345, val_loss: 0.1058, val_acc: 0.9695\n",
            "Epoch [12], train_loss: 0.0289, val_loss: 0.0975, val_acc: 0.9720\n",
            "saving model for part6\n",
            "Epoch [13], train_loss: 0.0248, val_loss: 0.0981, val_acc: 0.9738\n",
            "saving model for part6\n",
            "Epoch [14], train_loss: 0.0211, val_loss: 0.1010, val_acc: 0.9728\n"
          ],
          "name": "stdout"
        }
      ]
    },
    {
      "cell_type": "code",
      "metadata": {
        "colab": {
          "base_uri": "https://localhost:8080/"
        },
        "id": "G28tzjZ47usR",
        "outputId": "ad4946a6-6dfe-4ee9-9ffc-001eb702a0db"
      },
      "source": [
        "model6.load_state_dict(torch.load(\"part6\"))\n",
        "print(\"accuracy for part 6 = \", test_accuracy(model6,test_dl)*100,\"%\")"
      ],
      "execution_count": null,
      "outputs": [
        {
          "output_type": "stream",
          "text": [
            "accuracy for part 6 =  97.47142791748047 %\n"
          ],
          "name": "stdout"
        }
      ]
    },
    {
      "cell_type": "code",
      "metadata": {
        "colab": {
          "base_uri": "https://localhost:8080/",
          "height": 294
        },
        "id": "cDw2sPmX7usS",
        "outputId": "713bfde1-1626-4e07-961c-4e75c1340657"
      },
      "source": [
        "\n",
        "plot_losses(history6)"
      ],
      "execution_count": null,
      "outputs": [
        {
          "output_type": "display_data",
          "data": {
            "image/png": "[encoded data removed]",
            "text/plain": [
              "<Figure size 432x288 with 1 Axes>"
            ]
          },
          "metadata": {
            "tags": [],
            "needs_background": "light"
          }
        }
      ]
    },
    {
      "cell_type": "markdown",
      "metadata": {
        "id": "hX3yc8fS8_IA"
      },
      "source": [
        "### Uniform Weight Initialisation"
      ]
    },
    {
      "cell_type": "code",
      "metadata": {
        "id": "PIChdai_8_IC"
      },
      "source": [
        "num_epochs = 15\n",
        "opt_func = torch.optim.Adam\n",
        "lr = 0.001"
      ],
      "execution_count": null,
      "outputs": []
    },
    {
      "cell_type": "code",
      "metadata": {
        "colab": {
          "base_uri": "https://localhost:8080/"
        },
        "id": "1kXvSI-18_IE",
        "outputId": "2c2c306e-6a2c-41e7-8f4b-09b8270b22ef"
      },
      "source": [
        "model7 = to_device(Mlp(), device);\n",
        "x = list(model7.parameters())\n",
        "nn.init.uniform_(x[0])\n",
        "nn.init.uniform_(x[1])\n",
        "history7 = fit(\"part7\",num_epochs, lr, model7, train_dl, val_dl, opt_func)\n"
      ],
      "execution_count": null,
      "outputs": [
        {
          "output_type": "stream",
          "text": [
            "Epoch [0], train_loss: 5.0889, val_loss: 1.5301, val_acc: 0.5806\n",
            "saving model for part7\n",
            "Epoch [1], train_loss: 1.2441, val_loss: 1.0395, val_acc: 0.7421\n",
            "saving model for part7\n",
            "Epoch [2], train_loss: 0.8931, val_loss: 0.7758, val_acc: 0.8123\n",
            "saving model for part7\n",
            "Epoch [3], train_loss: 0.7061, val_loss: 0.6407, val_acc: 0.8356\n",
            "saving model for part7\n",
            "Epoch [4], train_loss: 0.5929, val_loss: 0.5579, val_acc: 0.8539\n",
            "saving model for part7\n",
            "Epoch [5], train_loss: 0.5311, val_loss: 0.4996, val_acc: 0.8659\n",
            "saving model for part7\n",
            "Epoch [6], train_loss: 0.4843, val_loss: 0.4913, val_acc: 0.8628\n",
            "Epoch [7], train_loss: 0.4520, val_loss: 0.4432, val_acc: 0.8837\n",
            "saving model for part7\n",
            "Epoch [8], train_loss: 0.4128, val_loss: 0.4113, val_acc: 0.8877\n",
            "saving model for part7\n",
            "Epoch [9], train_loss: 0.4031, val_loss: 0.4140, val_acc: 0.8813\n",
            "Epoch [10], train_loss: 0.3904, val_loss: 0.3936, val_acc: 0.8866\n",
            "Epoch [11], train_loss: 0.3711, val_loss: 0.3910, val_acc: 0.8937\n",
            "saving model for part7\n",
            "Epoch [12], train_loss: 0.3546, val_loss: 0.3636, val_acc: 0.8959\n",
            "saving model for part7\n",
            "Epoch [13], train_loss: 0.3871, val_loss: 0.4363, val_acc: 0.8754\n",
            "Epoch [14], train_loss: 0.3543, val_loss: 0.3449, val_acc: 0.9058\n",
            "saving model for part7\n"
          ],
          "name": "stdout"
        }
      ]
    },
    {
      "cell_type": "code",
      "metadata": {
        "colab": {
          "base_uri": "https://localhost:8080/"
        },
        "id": "DIVkBuBx8_IG",
        "outputId": "c0232d5f-518b-49e0-afa3-91dee985fb6a"
      },
      "source": [
        "model7.load_state_dict(torch.load(\"part7\"))\n",
        "print(\"accuracy for part 7 = \", test_accuracy(model7,test_dl)*100,\"%\")"
      ],
      "execution_count": null,
      "outputs": [
        {
          "output_type": "stream",
          "text": [
            "accuracy for part 7 =  90.45237898826599 %\n"
          ],
          "name": "stdout"
        }
      ]
    },
    {
      "cell_type": "code",
      "metadata": {
        "colab": {
          "base_uri": "https://localhost:8080/",
          "height": 294
        },
        "id": "8pDn_8xs8_II",
        "outputId": "ed94896c-1265-41ac-fb3b-eb4faeca651f"
      },
      "source": [
        "\n",
        "plot_losses(history7)"
      ],
      "execution_count": null,
      "outputs": [
        {
          "output_type": "display_data",
          "data": {
            "image/png": "[encoded data removed]",
            "text/plain": [
              "<Figure size 432x288 with 1 Axes>"
            ]
          },
          "metadata": {
            "tags": [],
            "needs_background": "light"
          }
        }
      ]
    },
    {
      "cell_type": "markdown",
      "metadata": {
        "id": "pFBYtjT496s0"
      },
      "source": [
        "### Normal Weight Initialisation"
      ]
    },
    {
      "cell_type": "code",
      "metadata": {
        "id": "SHFSevYp96s4"
      },
      "source": [
        "num_epochs = 15\n",
        "opt_func = torch.optim.Adam\n",
        "lr = 0.001"
      ],
      "execution_count": null,
      "outputs": []
    },
    {
      "cell_type": "code",
      "metadata": {
        "colab": {
          "base_uri": "https://localhost:8080/"
        },
        "id": "Lxarm6xp96s6",
        "outputId": "a219553b-bd56-494f-d81a-e4a7d13d9216"
      },
      "source": [
        "model8 = to_device(Mlp(), device);\n",
        "x = list(model8.parameters())\n",
        "nn.init.normal_(x[0])\n",
        "nn.init.normal_(x[1])\n",
        "history8 = fit(\"part8\",num_epochs, lr, model8, train_dl, val_dl, opt_func)\n"
      ],
      "execution_count": null,
      "outputs": [
        {
          "output_type": "stream",
          "text": [
            "Epoch [0], train_loss: 0.6729, val_loss: 0.3045, val_acc: 0.9125\n",
            "saving model for part8\n",
            "Epoch [1], train_loss: 0.2397, val_loss: 0.2345, val_acc: 0.9317\n",
            "saving model for part8\n",
            "Epoch [2], train_loss: 0.1778, val_loss: 0.1975, val_acc: 0.9401\n",
            "saving model for part8\n",
            "Epoch [3], train_loss: 0.1393, val_loss: 0.1723, val_acc: 0.9483\n",
            "saving model for part8\n",
            "Epoch [4], train_loss: 0.1128, val_loss: 0.1621, val_acc: 0.9512\n",
            "saving model for part8\n",
            "Epoch [5], train_loss: 0.0935, val_loss: 0.1464, val_acc: 0.9571\n",
            "saving model for part8\n",
            "Epoch [6], train_loss: 0.0776, val_loss: 0.1423, val_acc: 0.9591\n",
            "saving model for part8\n",
            "Epoch [7], train_loss: 0.0643, val_loss: 0.1360, val_acc: 0.9602\n",
            "saving model for part8\n",
            "Epoch [8], train_loss: 0.0542, val_loss: 0.1311, val_acc: 0.9604\n",
            "saving model for part8\n",
            "Epoch [9], train_loss: 0.0463, val_loss: 0.1333, val_acc: 0.9628\n",
            "saving model for part8\n",
            "Epoch [10], train_loss: 0.0374, val_loss: 0.1273, val_acc: 0.9635\n",
            "saving model for part8\n",
            "Epoch [11], train_loss: 0.0312, val_loss: 0.1268, val_acc: 0.9642\n",
            "saving model for part8\n",
            "Epoch [12], train_loss: 0.0251, val_loss: 0.1289, val_acc: 0.9642\n",
            "Epoch [13], train_loss: 0.0209, val_loss: 0.1279, val_acc: 0.9652\n",
            "saving model for part8\n",
            "Epoch [14], train_loss: 0.0167, val_loss: 0.1291, val_acc: 0.9649\n"
          ],
          "name": "stdout"
        }
      ]
    },
    {
      "cell_type": "code",
      "metadata": {
        "colab": {
          "base_uri": "https://localhost:8080/"
        },
        "id": "ICNIR-ok96s8",
        "outputId": "213a4c1b-9d69-45a1-cdcb-421c7502ee63"
      },
      "source": [
        "model8.load_state_dict(torch.load(\"part8\"))\n",
        "print(\"accuracy for part 8 = \", test_accuracy(model8,test_dl)*100,\"%\")"
      ],
      "execution_count": null,
      "outputs": [
        {
          "output_type": "stream",
          "text": [
            "accuracy for part 8 =  96.79999947547913 %\n"
          ],
          "name": "stdout"
        }
      ]
    },
    {
      "cell_type": "code",
      "metadata": {
        "colab": {
          "base_uri": "https://localhost:8080/",
          "height": 294
        },
        "id": "Gh91iEQa96s_",
        "outputId": "4a92558d-4e4a-4926-fb2e-ecf9195528b5"
      },
      "source": [
        "\n",
        "plot_losses(history8)"
      ],
      "execution_count": null,
      "outputs": [
        {
          "output_type": "display_data",
          "data": {
            "image/png": "[encoded data removed]",
            "text/plain": [
              "<Figure size 432x288 with 1 Axes>"
            ]
          },
          "metadata": {
            "tags": [],
            "needs_background": "light"
          }
        }
      ]
    },
    {
      "cell_type": "markdown",
      "metadata": {
        "id": "uIz-wJk9_sBb"
      },
      "source": [
        "### Exponential Annealing of learning rate"
      ]
    },
    {
      "cell_type": "code",
      "metadata": {
        "id": "U16HY0Kx_sBo"
      },
      "source": [
        "num_epochs = 15\n",
        "opt_func = torch.optim.Adam\n",
        "\n",
        "lr = 0.001"
      ],
      "execution_count": null,
      "outputs": []
    },
    {
      "cell_type": "code",
      "metadata": {
        "colab": {
          "base_uri": "https://localhost:8080/"
        },
        "id": "VH9iWkTj_sBs",
        "outputId": "6711db5c-53ae-4701-f0e6-f6f74616c8a9"
      },
      "source": [
        "model9 = to_device(Mlp(), device);\n",
        "x = list(model9.parameters())\n",
        "\n",
        "history9 = fit(\"part9\",num_epochs, lr, model9, train_dl, val_dl, opt_func,scheduler=\"CosineAnnealingLR\")\n"
      ],
      "execution_count": null,
      "outputs": [
        {
          "output_type": "stream",
          "text": [
            "Epoch [0], train_loss: 0.7908, val_loss: 0.4136, val_acc: 0.8867\n",
            "saving model for part9\n",
            "Epoch [1], train_loss: 0.3650, val_loss: 0.3182, val_acc: 0.9083\n",
            "saving model for part9\n",
            "Epoch [2], train_loss: 0.2561, val_loss: 0.2556, val_acc: 0.9269\n",
            "saving model for part9\n",
            "Epoch [3], train_loss: 0.2280, val_loss: 0.2368, val_acc: 0.9311\n",
            "saving model for part9\n",
            "Epoch [4], train_loss: 0.1910, val_loss: 0.2041, val_acc: 0.9401\n",
            "saving model for part9\n",
            "Epoch [5], train_loss: 0.1735, val_loss: 0.1921, val_acc: 0.9426\n",
            "saving model for part9\n",
            "Epoch [6], train_loss: 0.1496, val_loss: 0.1706, val_acc: 0.9505\n",
            "saving model for part9\n",
            "Epoch [7], train_loss: 0.1364, val_loss: 0.1766, val_acc: 0.9474\n",
            "Epoch [8], train_loss: 0.1198, val_loss: 0.1468, val_acc: 0.9560\n",
            "saving model for part9\n",
            "Epoch [9], train_loss: 0.1085, val_loss: 0.1538, val_acc: 0.9542\n",
            "Epoch [10], train_loss: 0.0994, val_loss: 0.1298, val_acc: 0.9619\n",
            "saving model for part9\n",
            "Epoch [11], train_loss: 0.0878, val_loss: 0.1316, val_acc: 0.9603\n",
            "Epoch [12], train_loss: 0.0785, val_loss: 0.1180, val_acc: 0.9667\n",
            "saving model for part9\n",
            "Epoch [13], train_loss: 0.0709, val_loss: 0.1274, val_acc: 0.9629\n",
            "Epoch [14], train_loss: 0.0670, val_loss: 0.1114, val_acc: 0.9673\n",
            "saving model for part9\n"
          ],
          "name": "stdout"
        }
      ]
    },
    {
      "cell_type": "code",
      "metadata": {
        "colab": {
          "base_uri": "https://localhost:8080/"
        },
        "id": "kCK6-RN6_sBw",
        "outputId": "2e74c11d-5cb8-4a08-f9ac-7aaedf730600"
      },
      "source": [
        "model9.load_state_dict(torch.load(\"part9\"))\n",
        "print(\"accuracy for part 9 = \", test_accuracy(model9,test_dl)*100,\"%\")"
      ],
      "execution_count": null,
      "outputs": [
        {
          "output_type": "stream",
          "text": [
            "accuracy for part 9 =  96.92857265472412 %\n"
          ],
          "name": "stdout"
        }
      ]
    },
    {
      "cell_type": "code",
      "metadata": {
        "colab": {
          "base_uri": "https://localhost:8080/",
          "height": 294
        },
        "id": "9oP6xdgK_sBy",
        "outputId": "f500ebdf-28ff-47ab-c6c5-20985cb2a49a"
      },
      "source": [
        "\n",
        "plot_losses(history9)"
      ],
      "execution_count": null,
      "outputs": [
        {
          "output_type": "display_data",
          "data": {
            "image/png": "[encoded data removed]",
            "text/plain": [
              "<Figure size 432x288 with 1 Axes>"
            ]
          },
          "metadata": {
            "tags": [],
            "needs_background": "light"
          }
        }
      ]
    },
    {
      "cell_type": "markdown",
      "metadata": {
        "id": "5u23RO-jB7Am"
      },
      "source": [
        "#Part 2\n"
      ]
    },
    {
      "cell_type": "markdown",
      "metadata": {
        "id": "OqfC5X_hB_kL"
      },
      "source": [
        "## Autoencoder"
      ]
    },
    {
      "cell_type": "code",
      "metadata": {
        "id": "vAI2FqS6A6mJ"
      },
      "source": [
        "class Autoencoder128(ImageClassificationBase):\n",
        "    def __init__(self):\n",
        "        super().__init__()        \n",
        "        # N, 1, 28, 28\n",
        "        self.encoder = nn.Sequential(\n",
        "            nn.Conv2d(1, 16, 3, stride=2, padding=1), # -> N, 16, 14, 14\n",
        "            nn.ReLU(),\n",
        "            nn.Conv2d(16, 64, 3, stride=2, padding=1), # -> N, 32, 7, 7\n",
        "            nn.ReLU(),\n",
        "            nn.Conv2d(64, 128, 7) # -> N, 64, 1, 1\n",
        "        )\n",
        "        \n",
        "        # N , 64, 1, 1\n",
        "        self.classifier = nn.Sequential(\n",
        "            nn.Flatten(),\n",
        "            nn.Linear(128,512),\n",
        "            nn.ReLU(),\n",
        "            nn.Linear(512,512),\n",
        "            nn.ReLU(),\n",
        "            nn.Linear(512,10)       \n",
        "        )\n",
        "\n",
        "    def forward(self, x):\n",
        "        x = self.encoder(x)        \n",
        "        x = self.classifier(x)\n",
        "        return x"
      ],
      "execution_count": null,
      "outputs": []
    },
    {
      "cell_type": "code",
      "metadata": {
        "id": "ZrjDULd5KQKO"
      },
      "source": [
        "num_epochs = 15\n",
        "opt_func = torch.optim.Adam\n",
        "\n",
        "lr = 0.001"
      ],
      "execution_count": null,
      "outputs": []
    },
    {
      "cell_type": "code",
      "metadata": {
        "colab": {
          "base_uri": "https://localhost:8080/"
        },
        "id": "-iOgIJQvKT8J",
        "outputId": "e65e9fbd-dd45-4b9d-dc79-f54c1ea814db"
      },
      "source": [
        "model10 = to_device(Autoencoder128(), device);\n",
        "\n",
        "\n",
        "history10 = fit(\"part10\",num_epochs, lr, model10, train_dl, val_dl, opt_func)\n"
      ],
      "execution_count": null,
      "outputs": [
        {
          "output_type": "stream",
          "text": [
            "Epoch [0], train_loss: 0.7322, val_loss: 0.2896, val_acc: 0.9133\n",
            "saving model for part10\n",
            "Epoch [1], train_loss: 0.2104, val_loss: 0.1650, val_acc: 0.9486\n",
            "saving model for part10\n",
            "Epoch [2], train_loss: 0.1171, val_loss: 0.1275, val_acc: 0.9596\n",
            "saving model for part10\n",
            "Epoch [3], train_loss: 0.0799, val_loss: 0.0835, val_acc: 0.9752\n",
            "saving model for part10\n",
            "Epoch [4], train_loss: 0.0617, val_loss: 0.0805, val_acc: 0.9760\n",
            "saving model for part10\n",
            "Epoch [5], train_loss: 0.0474, val_loss: 0.0731, val_acc: 0.9800\n",
            "saving model for part10\n",
            "Epoch [6], train_loss: 0.0412, val_loss: 0.0687, val_acc: 0.9796\n",
            "Epoch [7], train_loss: 0.0320, val_loss: 0.0646, val_acc: 0.9807\n",
            "saving model for part10\n",
            "Epoch [8], train_loss: 0.0272, val_loss: 0.0720, val_acc: 0.9799\n",
            "Epoch [9], train_loss: 0.0239, val_loss: 0.0738, val_acc: 0.9803\n",
            "Epoch [10], train_loss: 0.0188, val_loss: 0.0683, val_acc: 0.9815\n",
            "saving model for part10\n",
            "Epoch [11], train_loss: 0.0187, val_loss: 0.0642, val_acc: 0.9831\n",
            "saving model for part10\n",
            "Epoch [12], train_loss: 0.0141, val_loss: 0.0743, val_acc: 0.9814\n",
            "Epoch [13], train_loss: 0.0120, val_loss: 0.0724, val_acc: 0.9830\n",
            "Epoch [14], train_loss: 0.0091, val_loss: 0.0842, val_acc: 0.9804\n"
          ],
          "name": "stdout"
        }
      ]
    },
    {
      "cell_type": "code",
      "metadata": {
        "colab": {
          "base_uri": "https://localhost:8080/"
        },
        "id": "d0eZ4BMhKzVB",
        "outputId": "6bcc7508-0cdf-4d89-8ce5-3b0fe7e6f005"
      },
      "source": [
        "model10.load_state_dict(torch.load(\"part10\"))\n",
        "print(\"accuracy for part 10 = \", test_accuracy(model10,test_dl)*100,\"%\")"
      ],
      "execution_count": null,
      "outputs": [
        {
          "output_type": "stream",
          "text": [
            "accuracy for part 10 =  98.2714295387268 %\n"
          ],
          "name": "stdout"
        }
      ]
    },
    {
      "cell_type": "code",
      "metadata": {
        "colab": {
          "base_uri": "https://localhost:8080/",
          "height": 294
        },
        "id": "USXSSrPHLHgX",
        "outputId": "434c556b-c8f8-44b8-9dde-1762731304e3"
      },
      "source": [
        "\n",
        "plot_losses(history10)"
      ],
      "execution_count": null,
      "outputs": [
        {
          "output_type": "display_data",
          "data": {
            "image/png": "[encoded data removed]",
            "text/plain": [
              "<Figure size 432x288 with 1 Axes>"
            ]
          },
          "metadata": {
            "tags": [],
            "needs_background": "light"
          }
        }
      ]
    },
    {
      "cell_type": "code",
      "metadata": {
        "colab": {
          "base_uri": "https://localhost:8080/"
        },
        "id": "r6YcaYVILc_-",
        "outputId": "37b7d637-9f41-41cb-d1a2-dfab54bd5b08"
      },
      "source": [
        "model2.load_state_dict(torch.load(\"part2\"))\n",
        "print(\"accuracy for RMS = \", test_accuracy(model2,test_dl)*100,\"%\")\n",
        "print(\"accuracy for Auto Encoder feature learning = \", test_accuracy(model10,test_dl)*100,\"%\")"
      ],
      "execution_count": null,
      "outputs": [
        {
          "output_type": "stream",
          "text": [
            "accuracy for RMS =  97.45714068412781 %\n",
            "accuracy for Auto Encoder feature learning =  98.2714295387268 %\n"
          ],
          "name": "stdout"
        }
      ]
    }
  ]
}