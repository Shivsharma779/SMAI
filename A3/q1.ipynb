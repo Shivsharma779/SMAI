{
  "nbformat": 4,
  "nbformat_minor": 0,
  "metadata": {
    "colab": {
      "name": "shiv_A3_q1.ipynb",
      "provenance": [],
      "collapsed_sections": [
        "h7wPix9kf0fC",
        "-yh_-VdQdyVZ",
        "UDK0lQBLeQMI",
        "rOR0R2rGdkFQ",
        "9KZ7wueydsfs",
        "YsGkNvs0davx",
        "6EYU7GBSdXxQ",
        "Q3pfq4a4dSLB",
        "FfNP-KhDdN-W",
        "u-IXH-BceE9A"
      ]
    },
    "kernelspec": {
      "name": "python3",
      "display_name": "Python 3"
    },
    "language_info": {
      "name": "python"
    },
    "accelerator": "GPU"
  },
  "cells": [
    {
      "cell_type": "code",
      "metadata": {
        "id": "C-47ZljQE9Pn"
      },
      "source": [
        "import torch\n",
        "import torchvision\n",
        "import torchvision.transforms as transforms\n",
        "import torch.nn as nn\n",
        "import torch.nn.functional as F\n",
        "import matplotlib.pyplot as plt\n",
        "from torch.utils.data import random_split, ConcatDataset"
      ],
      "execution_count": null,
      "outputs": []
    },
    {
      "cell_type": "markdown",
      "metadata": {
        "id": "h7wPix9kf0fC"
      },
      "source": [
        "# DOWNLOADING DATA AND PREPROCESSING"
      ]
    },
    {
      "cell_type": "code",
      "metadata": {
        "colab": {
          "base_uri": "https://localhost:8080/"
        },
        "id": "PbPX4FwqgJwp",
        "outputId": "0bd91a1b-22da-4a57-f3ad-5bffeefd835c"
      },
      "source": [
        "train_size = 48000\n",
        "val_size =  5000\n",
        "test_size = 12000\n",
        "batch_size=512\n",
        "random_seed = 42\n",
        "torch.cuda.is_available()"
      ],
      "execution_count": null,
      "outputs": [
        {
          "output_type": "execute_result",
          "data": {
            "text/plain": [
              "True"
            ]
          },
          "metadata": {
            "tags": []
          },
          "execution_count": 2
        }
      ]
    },
    {
      "cell_type": "code",
      "metadata": {
        "colab": {
          "base_uri": "https://localhost:8080/"
        },
        "id": "n4OSLu4bFB46",
        "outputId": "c464db0a-fc10-43ad-e4fa-a85593b22e84"
      },
      "source": [
        "transform = transforms.Compose([transforms.ToTensor(), transforms.Normalize((0.5, 0.5, 0.5), (0.5, 0.5, 0.5))])\n",
        "dataset = torchvision.datasets.CIFAR10(root='./data', train=True, download=True, transform=transform)\n",
        "testset = torchvision.datasets.CIFAR10(root='./data', train=False, download=True, transform=transform)\n",
        "full_DS = ConcatDataset([dataset,testset])\n",
        "\n",
        "\n",
        "torch.manual_seed(random_seed);\n",
        "train_ds, testset = random_split(full_DS, [train_size, test_size])\n",
        "train_ds, val_ds = random_split(train_ds, [train_size-val_size, val_size])\n",
        "\n",
        "\n",
        "\n",
        "train_dl = torch.utils.data.DataLoader(train_ds, batch_size, shuffle=True, num_workers=2, pin_memory=True)\n",
        "val_dl = torch.utils.data.DataLoader(val_ds, batch_size*2, num_workers=2, pin_memory=True)\n",
        "test_dl = torch.utils.data.DataLoader(testset, batch_size=4, shuffle=False, num_workers=2)\n",
        "len(train_ds), len(val_ds), len(testset)"
      ],
      "execution_count": null,
      "outputs": [
        {
          "output_type": "stream",
          "text": [
            "Files already downloaded and verified\n",
            "Files already downloaded and verified\n"
          ],
          "name": "stdout"
        }
      ]
    },
    {
      "cell_type": "code",
      "metadata": {
        "colab": {
          "base_uri": "https://localhost:8080/"
        },
        "id": "cm6kJJ4ysNS4",
        "outputId": "8f59ff47-4943-4afe-ae6c-a58329e28bb2"
      },
      "source": [
        "len(train_ds), len(val_ds), len(testset)"
      ],
      "execution_count": null,
      "outputs": [
        {
          "output_type": "execute_result",
          "data": {
            "text/plain": [
              "60000"
            ]
          },
          "metadata": {
            "tags": []
          },
          "execution_count": 4
        }
      ]
    },
    {
      "cell_type": "markdown",
      "metadata": {
        "id": "-yh_-VdQdyVZ"
      },
      "source": [
        "# MODEL DEFINATIONS"
      ]
    },
    {
      "cell_type": "code",
      "metadata": {
        "id": "DARd6ha8ZaDT"
      },
      "source": [
        "\n",
        "class ImageClassificationBase(nn.Module):\n",
        "    def training_step(self, batch):\n",
        "        images, labels = batch \n",
        "        out = self(images)                  # Generate predictions\n",
        "        loss = F.cross_entropy(out, labels) # Calculate loss\n",
        "        return loss\n",
        "    \n",
        "    def validation_step(self, batch):\n",
        "        images, labels = batch \n",
        "        out = self(images)                    # Generate predictions\n",
        "        loss = F.cross_entropy(out, labels)   # Calculate loss\n",
        "        acc = accuracy(out, labels)           # Calculate accuracy\n",
        "        return {'val_loss': loss.detach(), 'val_acc': acc}\n",
        "        \n",
        "    def validation_epoch_end(self, outputs):\n",
        "        batch_losses = [x['val_loss'] for x in outputs]\n",
        "        epoch_loss = torch.stack(batch_losses).mean()   # Combine losses\n",
        "        batch_accs = [x['val_acc'] for x in outputs]\n",
        "        epoch_acc = torch.stack(batch_accs).mean()      # Combine accuracies\n",
        "        return {'val_loss': epoch_loss.item(), 'val_acc': epoch_acc.item()}\n",
        "    \n",
        "    def epoch_end(self, epoch, result):\n",
        "        print(\"Epoch [{}], train_loss: {:.4f}, val_loss: {:.4f}, val_acc: {:.4f}\".format(\n",
        "            epoch, result['train_loss'], result['val_loss'], result['val_acc']))\n",
        "        \n",
        "def accuracy(outputs, labels):\n",
        "    _, preds = torch.max(outputs, dim=1)\n",
        "    return torch.tensor(torch.sum(preds == labels).item() / len(preds))"
      ],
      "execution_count": null,
      "outputs": []
    },
    {
      "cell_type": "code",
      "metadata": {
        "id": "hOgCsDcjhUmG"
      },
      "source": [
        "class part1(ImageClassificationBase):\n",
        "    def __init__(self):\n",
        "        super().__init__()\n",
        "        self.network = nn.Sequential(\n",
        "            nn.ZeroPad2d(1),\n",
        "            nn.Conv2d(3, 128, kernel_size=6),\n",
        "            nn.ReLU(),\n",
        "            nn.BatchNorm2d(128),\n",
        "            nn.MaxPool2d(2, 2),\n",
        "\n",
        "            \n",
        "\n",
        "            nn.Flatten(), \n",
        "            nn.Linear(128*14*14, 10))\n",
        "        \n",
        "\n",
        "    def forward(self, xb):\n",
        "        return self.network(xb)\n",
        "class part2(ImageClassificationBase):\n",
        "    def __init__(self):\n",
        "        super().__init__()\n",
        "        self.network = nn.Sequential(\n",
        "            nn.ZeroPad2d(1),\n",
        "            nn.Conv2d(3, 128, kernel_size=6),\n",
        "            nn.ReLU(),\n",
        "            nn.MaxPool2d(2, 2), # output: 64 x 14 x 14\n",
        "\n",
        "            \n",
        "\n",
        "            nn.Flatten(), \n",
        "            nn.Linear(128*14*14, 10))\n",
        "        \n",
        "\n",
        "    def forward(self, xb):\n",
        "        return self.network(xb)\n",
        "class part3(ImageClassificationBase):\n",
        "    def __init__(self):\n",
        "        super().__init__()\n",
        "        self.network = nn.Sequential(\n",
        "            nn.ZeroPad2d(1),\n",
        "            nn.Conv2d(3, 128, kernel_size=6),\n",
        "            nn.ReLU(),\n",
        "            nn.BatchNorm2d(128),\n",
        "            nn.ReLU(),\n",
        "            nn.MaxPool2d(2, 2), # output: 64 x 14 x 14\n",
        "\n",
        "            \n",
        "\n",
        "            nn.Flatten(), \n",
        "            nn.Linear(128*14*14, 60),\n",
        "            nn.ReLU(),\n",
        "            nn.Linear(60,10))\n",
        "        \n",
        "\n",
        "    def forward(self, xb):\n",
        "        return self.network(xb)\n",
        "class part4(ImageClassificationBase):\n",
        "    def __init__(self):\n",
        "        super().__init__()\n",
        "        self.network = nn.Sequential(\n",
        "            nn.ZeroPad2d(1),\n",
        "            nn.Conv2d(3, 128, kernel_size=6),\n",
        "            nn.ReLU(),\n",
        "            nn.BatchNorm2d(128),\n",
        "            nn.ReLU(),\n",
        "            nn.MaxPool2d(2, 2),\n",
        "            \n",
        "            nn.Conv2d(128, 512, kernel_size=6),\n",
        "            nn.ReLU(),\n",
        "            nn.BatchNorm2d(512),\n",
        "            nn.ReLU(),\n",
        "            nn.MaxPool2d(2, 2), # output: 64 x 14 x 14\n",
        "\n",
        "            \n",
        "\n",
        "            nn.Flatten(), \n",
        "            nn.Linear(512*4*4, 10))\n",
        "        \n",
        "\n",
        "    def forward(self, xb):\n",
        "        return self.network(xb)\n",
        "class part5(ImageClassificationBase):\n",
        "    def __init__(self):\n",
        "        super().__init__()\n",
        "        self.network = nn.Sequential(\n",
        "            nn.ZeroPad2d(1),\n",
        "            nn.Conv2d(3, 128, kernel_size=6),\n",
        "            nn.ReLU(),\n",
        "            nn.BatchNorm2d(128),\n",
        "            nn.ReLU(),\n",
        "            nn.MaxPool2d(2, 2),\n",
        "            \n",
        "            nn.Conv2d(128, 512, kernel_size=6),\n",
        "            nn.ReLU(),\n",
        "            nn.BatchNorm2d(512),\n",
        "            nn.ReLU(),\n",
        "            nn.MaxPool2d(2, 2), # output: 64 x 14 x 14\n",
        "\n",
        "            nn.Conv2d(512, 1024, kernel_size=1),\n",
        "            nn.ReLU(),\n",
        "            nn.BatchNorm2d(1024),\n",
        "            nn.ReLU(),\n",
        "            nn.MaxPool2d(2, 2),\n",
        "\n",
        "            nn.Flatten(), \n",
        "            nn.Linear(1024*2*2, 10))\n",
        "        \n",
        "\n",
        "    def forward(self, xb):\n",
        "        return self.network(xb)"
      ],
      "execution_count": null,
      "outputs": []
    },
    {
      "cell_type": "markdown",
      "metadata": {
        "id": "wgIRJ0h6d4_0"
      },
      "source": [
        "# HELPER FUNCTIONS"
      ]
    },
    {
      "cell_type": "markdown",
      "metadata": {
        "id": "UDK0lQBLeQMI"
      },
      "source": [
        "## DATA LOADER TO CUDA"
      ]
    },
    {
      "cell_type": "code",
      "metadata": {
        "id": "5Cp2HJT4iJiM"
      },
      "source": [
        "def get_default_device():\n",
        "    \"\"\"Pick GPU if available, else CPU\"\"\"\n",
        "    if torch.cuda.is_available():\n",
        "        return torch.device('cuda')\n",
        "    else:\n",
        "        return torch.device('cpu')\n",
        "    \n",
        "def to_device(data, device):\n",
        "    \"\"\"Move tensor(s) to chosen device\"\"\"\n",
        "    if isinstance(data, (list,tuple)):\n",
        "        return [to_device(x, device) for x in data]\n",
        "    return data.to(device, non_blocking=True)\n",
        "\n",
        "class DeviceDataLoader():\n",
        "    \"\"\"Wrap a dataloader to move data to a device\"\"\"\n",
        "    def __init__(self, dl, device):\n",
        "        self.dl = dl\n",
        "        self.device = device\n",
        "        \n",
        "    def __iter__(self):\n",
        "        \"\"\"Yield a batch of data after moving it to device\"\"\"\n",
        "        for b in self.dl: \n",
        "            yield to_device(b, self.device)\n",
        "\n",
        "    def __len__(self):\n",
        "        \"\"\"Number of batches\"\"\"\n",
        "        return len(self.dl)"
      ],
      "execution_count": null,
      "outputs": []
    },
    {
      "cell_type": "markdown",
      "metadata": {
        "id": "rOR0R2rGdkFQ"
      },
      "source": [
        "## HELPER FUNCTION FOR TRAINING AND EVALUATING"
      ]
    },
    {
      "cell_type": "code",
      "metadata": {
        "id": "dgK1dVNXidk3"
      },
      "source": [
        "@torch.no_grad()\n",
        "def evaluate(model, val_loader):\n",
        "    model.eval()\n",
        "    outputs = [model.validation_step(batch) for batch in val_loader]\n",
        "    return model.validation_epoch_end(outputs)\n",
        "\n",
        "def fit(question_no,epochs, lr, model, train_loader, val_loader, opt_func=torch.optim.SGD):\n",
        "    history = []\n",
        "    optimizer = opt_func(model.parameters(), lr)\n",
        "    val_accuracy = 0\n",
        "    for epoch in range(epochs):\n",
        "        # Training Phase \n",
        "        model.train()\n",
        "        train_losses = []\n",
        "        for batch in train_loader:\n",
        "            loss = model.training_step(batch)\n",
        "            train_losses.append(loss)\n",
        "            loss.backward()\n",
        "            optimizer.step()\n",
        "            optimizer.zero_grad()\n",
        "        # Validation phase\n",
        "        result = evaluate(model, val_loader)\n",
        "        result['train_loss'] = torch.stack(train_losses).mean().item()\n",
        "        model.epoch_end(epoch, result)\n",
        "        history.append(result)\n",
        "        if (val_accuracy < history[-1][\"val_acc\"]):\n",
        "            torch.save(model.state_dict(), question_no)\n",
        "            print(\"saving model for\", question_no)\n",
        "            val_accuracy = history[-1][\"val_acc\"]\n",
        "    return history\n",
        "def test_accuracy(model, test_loader):\n",
        "    result = evaluate(model, test_loader)    \n",
        "    return result[\"val_acc\"]"
      ],
      "execution_count": null,
      "outputs": []
    },
    {
      "cell_type": "markdown",
      "metadata": {
        "id": "9KZ7wueydsfs"
      },
      "source": [
        "# PARAMETERS AND MOVING TO CUDA\n"
      ]
    },
    {
      "cell_type": "code",
      "metadata": {
        "id": "iFeo2I94ipho"
      },
      "source": [
        "num_epochs = 15\n",
        "opt_func = torch.optim.Adam\n",
        "lr = 0.001\n"
      ],
      "execution_count": null,
      "outputs": []
    },
    {
      "cell_type": "code",
      "metadata": {
        "id": "PAltsMjheaA6"
      },
      "source": [
        "device = get_default_device()\n",
        "train_dl = DeviceDataLoader(train_dl, device)\n",
        "val_dl = DeviceDataLoader(val_dl, device)\n",
        "test_dl = DeviceDataLoader(test_dl, device)\n"
      ],
      "execution_count": null,
      "outputs": []
    },
    {
      "cell_type": "markdown",
      "metadata": {
        "id": "YsGkNvs0davx"
      },
      "source": [
        "#PART 1"
      ]
    },
    {
      "cell_type": "code",
      "metadata": {
        "colab": {
          "base_uri": "https://localhost:8080/"
        },
        "id": "H_Y-rp2tnfDW",
        "outputId": "da691365-8999-44f3-e823-c05abd85a3fc"
      },
      "source": [
        "model1 = to_device(part1(), device);\n",
        "history1 = fit(\"part1\",num_epochs, lr, model1, train_dl, val_dl, opt_func)\n"
      ],
      "execution_count": null,
      "outputs": [
        {
          "output_type": "stream",
          "text": [
            "Epoch [0], train_loss: 2.0787, val_loss: 1.5533, val_acc: 0.5305\n",
            "saving model for part1\n",
            "Epoch [1], train_loss: 1.3041, val_loss: 1.4664, val_acc: 0.5712\n",
            "saving model for part1\n",
            "Epoch [2], train_loss: 1.1253, val_loss: 1.4311, val_acc: 0.5875\n",
            "saving model for part1\n",
            "Epoch [3], train_loss: 0.9803, val_loss: 1.3895, val_acc: 0.6037\n",
            "saving model for part1\n",
            "Epoch [4], train_loss: 0.8698, val_loss: 1.5447, val_acc: 0.5959\n",
            "Epoch [5], train_loss: 0.7791, val_loss: 1.4578, val_acc: 0.6036\n",
            "Epoch [6], train_loss: 0.6656, val_loss: 1.5067, val_acc: 0.6077\n",
            "saving model for part1\n",
            "Epoch [7], train_loss: 0.5968, val_loss: 1.5190, val_acc: 0.6020\n",
            "Epoch [8], train_loss: 0.5316, val_loss: 1.5397, val_acc: 0.6066\n",
            "Epoch [9], train_loss: 0.4776, val_loss: 1.5474, val_acc: 0.6182\n",
            "saving model for part1\n",
            "Epoch [10], train_loss: 0.4079, val_loss: 1.6357, val_acc: 0.6167\n",
            "Epoch [11], train_loss: 0.3802, val_loss: 1.7322, val_acc: 0.6003\n",
            "Epoch [12], train_loss: 0.3380, val_loss: 1.6813, val_acc: 0.6231\n",
            "saving model for part1\n",
            "Epoch [13], train_loss: 0.2870, val_loss: 1.7309, val_acc: 0.6198\n",
            "Epoch [14], train_loss: 0.2614, val_loss: 1.7418, val_acc: 0.6165\n"
          ],
          "name": "stdout"
        }
      ]
    },
    {
      "cell_type": "code",
      "metadata": {
        "colab": {
          "base_uri": "https://localhost:8080/"
        },
        "id": "htTGZbhiTNyA",
        "outputId": "582f9e71-ee8e-4798-944c-384356226ccb"
      },
      "source": [
        "model1.load_state_dict(torch.load(\"part1\"))\n",
        "print(\"accuracy for part 1 = \", test_accuracy(model1,test_dl)*100,\"%\")"
      ],
      "execution_count": null,
      "outputs": [
        {
          "output_type": "stream",
          "text": [
            "accuracy for part 1 =  62.90000081062317 %\n"
          ],
          "name": "stdout"
        }
      ]
    },
    {
      "cell_type": "markdown",
      "metadata": {
        "id": "6EYU7GBSdXxQ"
      },
      "source": [
        "#PART 2"
      ]
    },
    {
      "cell_type": "code",
      "metadata": {
        "id": "FOI6pwRmJp_S",
        "colab": {
          "base_uri": "https://localhost:8080/"
        },
        "outputId": "ad66271f-b105-41cc-8148-29731ea3a3ec"
      },
      "source": [
        "model2 = to_device(part2(), device);\n",
        "history2 = fit(\"part2\",num_epochs, lr, model2, train_dl, val_dl, opt_func)\n"
      ],
      "execution_count": null,
      "outputs": [
        {
          "output_type": "stream",
          "text": [
            "Epoch [0], train_loss: 1.5973, val_loss: 1.3173, val_acc: 0.5442\n",
            "saving model for part2\n",
            "Epoch [1], train_loss: 1.1977, val_loss: 1.1965, val_acc: 0.5873\n",
            "saving model for part2\n",
            "Epoch [2], train_loss: 1.0673, val_loss: 1.1125, val_acc: 0.6105\n",
            "saving model for part2\n",
            "Epoch [3], train_loss: 0.9815, val_loss: 1.0615, val_acc: 0.6315\n",
            "saving model for part2\n",
            "Epoch [4], train_loss: 0.9292, val_loss: 1.0246, val_acc: 0.6452\n",
            "saving model for part2\n",
            "Epoch [5], train_loss: 0.8770, val_loss: 1.0607, val_acc: 0.6308\n",
            "Epoch [6], train_loss: 0.8460, val_loss: 1.0013, val_acc: 0.6570\n",
            "saving model for part2\n",
            "Epoch [7], train_loss: 0.7935, val_loss: 0.9966, val_acc: 0.6559\n",
            "Epoch [8], train_loss: 0.7733, val_loss: 1.0069, val_acc: 0.6599\n",
            "saving model for part2\n",
            "Epoch [9], train_loss: 0.7349, val_loss: 0.9702, val_acc: 0.6711\n",
            "saving model for part2\n",
            "Epoch [10], train_loss: 0.7241, val_loss: 0.9998, val_acc: 0.6636\n",
            "Epoch [11], train_loss: 0.6839, val_loss: 0.9969, val_acc: 0.6638\n",
            "Epoch [12], train_loss: 0.6489, val_loss: 0.9872, val_acc: 0.6720\n",
            "saving model for part2\n",
            "Epoch [13], train_loss: 0.6441, val_loss: 1.0012, val_acc: 0.6726\n",
            "saving model for part2\n",
            "Epoch [14], train_loss: 0.6040, val_loss: 0.9894, val_acc: 0.6738\n",
            "saving model for part2\n"
          ],
          "name": "stdout"
        }
      ]
    },
    {
      "cell_type": "code",
      "metadata": {
        "colab": {
          "base_uri": "https://localhost:8080/"
        },
        "id": "vZK4Y2XrJp_T",
        "outputId": "442a49e1-39a7-413e-f8e0-2f829c12073f"
      },
      "source": [
        "model2.load_state_dict(torch.load(\"part2\"))\n",
        "print(\"accuracy for part 2 = \", test_accuracy(model2,test_dl)*100,\"%\")"
      ],
      "execution_count": null,
      "outputs": [
        {
          "output_type": "stream",
          "text": [
            "accuracy for part 2 =  67.36666560173035 %\n"
          ],
          "name": "stdout"
        }
      ]
    },
    {
      "cell_type": "markdown",
      "metadata": {
        "id": "Q3pfq4a4dSLB"
      },
      "source": [
        "#PART 3"
      ]
    },
    {
      "cell_type": "code",
      "metadata": {
        "colab": {
          "base_uri": "https://localhost:8080/"
        },
        "id": "i6DgEQq1Zjoz",
        "outputId": "83aae6c4-116e-4e1f-ebd7-00b211750565"
      },
      "source": [
        "model3 = to_device(part3(), device);\n",
        "history3 = fit(\"part3\",num_epochs, lr, model3, train_dl, val_dl, opt_func)\n"
      ],
      "execution_count": null,
      "outputs": [
        {
          "output_type": "stream",
          "text": [
            "Epoch [0], train_loss: 1.8336, val_loss: 1.4594, val_acc: 0.4697\n",
            "saving model for part3\n",
            "Epoch [1], train_loss: 1.3234, val_loss: 1.2476, val_acc: 0.5462\n",
            "saving model for part3\n",
            "Epoch [2], train_loss: 1.1342, val_loss: 1.1560, val_acc: 0.5933\n",
            "saving model for part3\n",
            "Epoch [3], train_loss: 1.0237, val_loss: 1.1133, val_acc: 0.6090\n",
            "saving model for part3\n",
            "Epoch [4], train_loss: 0.9496, val_loss: 1.0794, val_acc: 0.6196\n",
            "saving model for part3\n",
            "Epoch [5], train_loss: 0.8930, val_loss: 1.0957, val_acc: 0.6246\n",
            "saving model for part3\n",
            "Epoch [6], train_loss: 0.8351, val_loss: 1.0719, val_acc: 0.6334\n",
            "saving model for part3\n",
            "Epoch [7], train_loss: 0.7761, val_loss: 1.0948, val_acc: 0.6321\n",
            "Epoch [8], train_loss: 0.7262, val_loss: 1.0828, val_acc: 0.6371\n",
            "saving model for part3\n",
            "Epoch [9], train_loss: 0.6799, val_loss: 1.0962, val_acc: 0.6355\n",
            "Epoch [10], train_loss: 0.6360, val_loss: 1.1531, val_acc: 0.6271\n",
            "Epoch [11], train_loss: 0.5839, val_loss: 1.1415, val_acc: 0.6379\n",
            "saving model for part3\n",
            "Epoch [12], train_loss: 0.5541, val_loss: 1.2103, val_acc: 0.6257\n",
            "Epoch [13], train_loss: 0.5117, val_loss: 1.2011, val_acc: 0.6362\n",
            "Epoch [14], train_loss: 0.4677, val_loss: 1.2201, val_acc: 0.6343\n"
          ],
          "name": "stdout"
        }
      ]
    },
    {
      "cell_type": "code",
      "metadata": {
        "colab": {
          "base_uri": "https://localhost:8080/"
        },
        "id": "qsYIvLZpaKHd",
        "outputId": "9cbe5fa0-bdb0-4833-f47b-223a3bf3c55a"
      },
      "source": [
        "model3.load_state_dict(torch.load(\"part3\"))\n",
        "print(\"accuracy for part 3 = \", test_accuracy(model3,test_dl)*100,\"%\")"
      ],
      "execution_count": null,
      "outputs": [
        {
          "output_type": "stream",
          "text": [
            "accuracy for part 3 =  64.77500200271606 %\n"
          ],
          "name": "stdout"
        }
      ]
    },
    {
      "cell_type": "markdown",
      "metadata": {
        "id": "FfNP-KhDdN-W"
      },
      "source": [
        "#PART 4"
      ]
    },
    {
      "cell_type": "code",
      "metadata": {
        "colab": {
          "base_uri": "https://localhost:8080/"
        },
        "id": "Whd9hoY5Zy62",
        "outputId": "47e380d2-95db-4715-a7a0-018efd53b7c9"
      },
      "source": [
        "model4 = to_device(part4(), device);\n",
        "history4 = fit(\"part4\",num_epochs, lr, model4, train_dl, val_dl, opt_func)\n"
      ],
      "execution_count": null,
      "outputs": [
        {
          "output_type": "stream",
          "text": [
            "Epoch [0], train_loss: 1.6267, val_loss: 1.2564, val_acc: 0.5668\n",
            "saving model for part4\n",
            "Epoch [1], train_loss: 1.0251, val_loss: 1.1502, val_acc: 0.6139\n",
            "saving model for part4\n",
            "Epoch [2], train_loss: 0.7989, val_loss: 0.9627, val_acc: 0.6718\n",
            "saving model for part4\n",
            "Epoch [3], train_loss: 0.6138, val_loss: 1.0213, val_acc: 0.6729\n",
            "saving model for part4\n",
            "Epoch [4], train_loss: 0.4534, val_loss: 1.0604, val_acc: 0.6760\n",
            "saving model for part4\n",
            "Epoch [5], train_loss: 0.3159, val_loss: 1.0869, val_acc: 0.6896\n",
            "saving model for part4\n",
            "Epoch [6], train_loss: 0.2025, val_loss: 1.1289, val_acc: 0.7029\n",
            "saving model for part4\n",
            "Epoch [7], train_loss: 0.1041, val_loss: 1.1275, val_acc: 0.7168\n",
            "saving model for part4\n",
            "Epoch [8], train_loss: 0.0476, val_loss: 1.1267, val_acc: 0.7199\n",
            "saving model for part4\n",
            "Epoch [9], train_loss: 0.0191, val_loss: 1.1346, val_acc: 0.7279\n",
            "saving model for part4\n",
            "Epoch [10], train_loss: 0.0073, val_loss: 1.1659, val_acc: 0.7321\n",
            "saving model for part4\n",
            "Epoch [11], train_loss: 0.0037, val_loss: 1.1578, val_acc: 0.7334\n",
            "saving model for part4\n",
            "Epoch [12], train_loss: 0.0025, val_loss: 1.1798, val_acc: 0.7355\n",
            "saving model for part4\n",
            "Epoch [13], train_loss: 0.0020, val_loss: 1.1937, val_acc: 0.7365\n",
            "saving model for part4\n",
            "Epoch [14], train_loss: 0.0016, val_loss: 1.1975, val_acc: 0.7380\n",
            "saving model for part4\n"
          ],
          "name": "stdout"
        }
      ]
    },
    {
      "cell_type": "code",
      "metadata": {
        "colab": {
          "base_uri": "https://localhost:8080/"
        },
        "id": "3EL4eRXbaq6o",
        "outputId": "eedfdfc0-3c8c-48d5-8e44-1679ea0c61d3"
      },
      "source": [
        "model4.load_state_dict(torch.load(\"part4\"))\n",
        "print(\"accuracy for part 4 = \", test_accuracy(model4,test_dl)*100,\"%\")"
      ],
      "execution_count": null,
      "outputs": [
        {
          "output_type": "stream",
          "text": [
            "accuracy for part 4 =  74.05833601951599 %\n"
          ],
          "name": "stdout"
        }
      ]
    },
    {
      "cell_type": "markdown",
      "metadata": {
        "id": "u-IXH-BceE9A"
      },
      "source": [
        "#PART 5"
      ]
    },
    {
      "cell_type": "code",
      "metadata": {
        "colab": {
          "base_uri": "https://localhost:8080/"
        },
        "id": "oCb3tpkqaSxC",
        "outputId": "b38a1adb-4d48-44a9-a82c-f7f04c9f28ec"
      },
      "source": [
        "model5 = to_device(part5(), device);\n",
        "history5 = fit(\"part5\",num_epochs, lr, model5, train_dl, val_dl, opt_func)\n"
      ],
      "execution_count": null,
      "outputs": [
        {
          "output_type": "stream",
          "text": [
            "Epoch [0], train_loss: 1.4987, val_loss: 1.2197, val_acc: 0.5758\n",
            "saving model for part5\n",
            "Epoch [1], train_loss: 0.9667, val_loss: 1.0242, val_acc: 0.6437\n",
            "saving model for part5\n",
            "Epoch [2], train_loss: 0.7365, val_loss: 0.9517, val_acc: 0.6819\n",
            "saving model for part5\n",
            "Epoch [3], train_loss: 0.5418, val_loss: 0.9315, val_acc: 0.6846\n",
            "saving model for part5\n",
            "Epoch [4], train_loss: 0.3872, val_loss: 0.9877, val_acc: 0.6955\n",
            "saving model for part5\n",
            "Epoch [5], train_loss: 0.2437, val_loss: 0.9373, val_acc: 0.7148\n",
            "saving model for part5\n",
            "Epoch [6], train_loss: 0.1308, val_loss: 0.9902, val_acc: 0.7165\n",
            "saving model for part5\n",
            "Epoch [7], train_loss: 0.0640, val_loss: 1.0186, val_acc: 0.7240\n",
            "saving model for part5\n",
            "Epoch [8], train_loss: 0.0245, val_loss: 1.0205, val_acc: 0.7328\n",
            "saving model for part5\n",
            "Epoch [9], train_loss: 0.0070, val_loss: 1.0002, val_acc: 0.7523\n",
            "saving model for part5\n",
            "Epoch [10], train_loss: 0.0024, val_loss: 1.0176, val_acc: 0.7506\n",
            "Epoch [11], train_loss: 0.0015, val_loss: 1.0260, val_acc: 0.7517\n",
            "Epoch [12], train_loss: 0.0012, val_loss: 1.0365, val_acc: 0.7520\n",
            "Epoch [13], train_loss: 0.0010, val_loss: 1.0429, val_acc: 0.7543\n",
            "saving model for part5\n",
            "Epoch [14], train_loss: 0.0008, val_loss: 1.0525, val_acc: 0.7534\n"
          ],
          "name": "stdout"
        }
      ]
    },
    {
      "cell_type": "code",
      "metadata": {
        "colab": {
          "base_uri": "https://localhost:8080/"
        },
        "id": "vbqywpL0avfO",
        "outputId": "1d30ca14-9968-4ddd-dcef-0461d48b76d6"
      },
      "source": [
        "model5.load_state_dict(torch.load(\"part5\"))\n",
        "print(\"accuracy for part 5 = \", test_accuracy(model5,test_dl)*100,\"%\")"
      ],
      "execution_count": null,
      "outputs": [
        {
          "output_type": "stream",
          "text": [
            "accuracy for part 4 =  76.43333077430725 %\n"
          ],
          "name": "stdout"
        }
      ]
    },
    {
      "cell_type": "markdown",
      "metadata": {
        "id": "fwXxaefwgPtg"
      },
      "source": [
        "# BEST MODEL GRAPHS"
      ]
    },
    {
      "cell_type": "code",
      "metadata": {
        "colab": {
          "base_uri": "https://localhost:8080/",
          "height": 294
        },
        "id": "Sdbeagt7kWPl",
        "outputId": "86f1622d-5e7e-43c6-9ab7-0e1d8f9a1192"
      },
      "source": [
        "def plot_losses(history):\n",
        "    train_losses = [x.get('train_loss') for x in history]\n",
        "    val_losses = [x['val_loss'] for x in history]\n",
        "    plt.plot(train_losses, '-bx')\n",
        "    plt.plot(val_losses, '-rx')\n",
        "    plt.xlabel('epoch')\n",
        "    plt.ylabel('loss')\n",
        "    plt.legend(['Training', 'Validation'])\n",
        "    plt.title('Loss vs. No. of epochs');\n",
        "plot_losses(history5)"
      ],
      "execution_count": null,
      "outputs": [
        {
          "output_type": "display_data",
          "data": {
            "image/png": "[encoded data removed]",
            "text/plain": [
              "<Figure size 432x288 with 1 Axes>"
            ]
          },
          "metadata": {
            "tags": [],
            "needs_background": "light"
          }
        }
      ]
    },
    {
      "cell_type": "code",
      "metadata": {
        "colab": {
          "base_uri": "https://localhost:8080/"
        },
        "id": "BLyoFgxqFFBL",
        "outputId": "6b19b65f-0b04-40b0-916b-685c9b3a0bc7"
      },
      "source": [
        "model5"
      ],
      "execution_count": null,
      "outputs": [
        {
          "output_type": "execute_result",
          "data": {
            "text/plain": [
              "part5(\n",
              "  (network): Sequential(\n",
              "    (0): ZeroPad2d(padding=(1, 1, 1, 1), value=0.0)\n",
              "    (1): Conv2d(3, 128, kernel_size=(6, 6), stride=(1, 1))\n",
              "    (2): ReLU()\n",
              "    (3): BatchNorm2d(128, eps=1e-05, momentum=0.1, affine=True, track_running_stats=True)\n",
              "    (4): ReLU()\n",
              "    (5): MaxPool2d(kernel_size=2, stride=2, padding=0, dilation=1, ceil_mode=False)\n",
              "    (6): Conv2d(128, 512, kernel_size=(6, 6), stride=(1, 1))\n",
              "    (7): ReLU()\n",
              "    (8): BatchNorm2d(512, eps=1e-05, momentum=0.1, affine=True, track_running_stats=True)\n",
              "    (9): ReLU()\n",
              "    (10): MaxPool2d(kernel_size=2, stride=2, padding=0, dilation=1, ceil_mode=False)\n",
              "    (11): Conv2d(512, 1024, kernel_size=(1, 1), stride=(1, 1))\n",
              "    (12): ReLU()\n",
              "    (13): BatchNorm2d(1024, eps=1e-05, momentum=0.1, affine=True, track_running_stats=True)\n",
              "    (14): ReLU()\n",
              "    (15): MaxPool2d(kernel_size=2, stride=2, padding=0, dilation=1, ceil_mode=False)\n",
              "    (16): Flatten(start_dim=1, end_dim=-1)\n",
              "    (17): Linear(in_features=4096, out_features=10, bias=True)\n",
              "  )\n",
              ")"
            ]
          },
          "metadata": {
            "tags": []
          },
          "execution_count": 39
        }
      ]
    }
  ]
}