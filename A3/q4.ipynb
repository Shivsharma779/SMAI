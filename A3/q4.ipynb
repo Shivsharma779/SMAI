{
  "nbformat": 4,
  "nbformat_minor": 0,
  "metadata": {
    "kernelspec": {
      "display_name": "Python 3",
      "language": "python",
      "name": "python3"
    },
    "language_info": {
      "codemirror_mode": {
        "name": "ipython",
        "version": 3
      },
      "file_extension": ".py",
      "mimetype": "text/x-python",
      "name": "python",
      "nbconvert_exporter": "python",
      "pygments_lexer": "ipython3",
      "version": "3.7.4"
    },
    "colab": {
      "name": "shiv_a3_question4",
      "provenance": [],
      "collapsed_sections": []
    },
    "accelerator": "GPU"
  },
  "cells": [
    {
      "cell_type": "code",
      "metadata": {
        "id": "QGnKkwc8iI6D"
      },
      "source": [
        "\n",
        "from tensorflow.keras.datasets import mnist\n",
        "from tensorflow.keras.models import Model\n",
        "import tensorflow.keras.layers as ly\n",
        "import tensorflow.keras.models as models\n",
        "from tensorflow.keras.optimizers import RMSprop\n",
        "from tensorflow.keras import backend as bck\n",
        "import keras\n",
        "import tensorflow.keras.losses as losses\n",
        "\n",
        "import numpy as np, random,pandas as pd, tensorflow as tf\n",
        "import matplotlib.pyplot as plt"
      ],
      "execution_count": 2,
      "outputs": []
    },
    {
      "cell_type": "markdown",
      "metadata": {
        "id": "xsl1yoMRJI-b"
      },
      "source": [
        "## HELPER FUNCTIONS\n"
      ]
    },
    {
      "cell_type": "code",
      "metadata": {
        "id": "628mMRKFiI6Q"
      },
      "source": [
        "def eu_dist(tensor_arr):\n",
        "  tensor_x, tensor_y = tensor_arr\n",
        "  temp_sq = bck.square(tensor_x - tensor_y)\n",
        "  sum_square = bck.sum(temp_sq, axis=1, keepdims=True)\n",
        "  return bck.sqrt(bck.maximum(bck.sum(temp_sq, axis=1, keepdims=True), bck.epsilon()))\n"
      ],
      "execution_count": 3,
      "outputs": []
    },
    {
      "cell_type": "code",
      "metadata": {
        "id": "XlMIqCpXiI6Q"
      },
      "source": [
        "def make_pairs(X, y):\n",
        "    no_of_classes = 10\n",
        "    class_indices = []\n",
        "    for i in range(no_of_classes):\n",
        "        class_indices += [np.where(y == i)[0]]\n",
        "    \n",
        "    pairs ,labels = [],[]\n",
        "    arr = []\n",
        "    for d in range(no_of_classes):\n",
        "        arr+=[len(class_indices[d])]\n",
        "    min_length_for_classes = min(arr)\n",
        "    \n",
        "    \n",
        "    for i in range(10):\n",
        "        for j in range(min_length_for_classes-1):\n",
        "            \n",
        "            pairs = pairs+ [[X[class_indices[i][j]], X[class_indices[i][j+1]]]]\n",
        "            r = random.randrange(1, 10)\n",
        "            k = (i + r) % 10\n",
        "            \n",
        "            pairs = pairs +[[X[class_indices[i][j]], X[class_indices[k][j]]]]\n",
        "            labels=labels + [1,0]\n",
        "\n",
        "    pairs = np.array(pairs)\n",
        "    \n",
        "    return pairs, np.array(labels).astype('float32')\n"
      ],
      "execution_count": 4,
      "outputs": []
    },
    {
      "cell_type": "code",
      "metadata": {
        "id": "DGCnLqKNiI6R"
      },
      "source": [
        "def get_base_model(input_shape):\n",
        "  dropout_value = 0.25\n",
        "  activation_function = 'relu'\n",
        "  kernel_size = (5,5)\n",
        "  input = ly.Input(shape = input_shape)\n",
        "  x = ly.Conv2D(32, kernel_size, activation = activation_function)(input)\n",
        "  x = ly.MaxPool2D(strides=(2,2),pool_size = (2,2))(x)\n",
        "  x = ly.Conv2D(64, kernel_size, activation = activation_function)(x)\n",
        "  x = ly.MaxPooling2D(pool_size = (2,2),strides=(2,2))(x)\n",
        "  x = ly.Dropout(dropout_value)(x)\n",
        "  x = ly.Flatten()(x)\n",
        "  x = ly.Dense(256, activation = activation_function)(x)\n",
        "  x = ly.Dropout(2*dropout_value)(x)\n",
        "  x = ly.Dense(512,activation = activation_function)(x)\n",
        "  x = ly.Dropout(2*dropout_value)(x)\n",
        "  x = ly.Dense(20,activation = activation_function)(x)\n",
        "  model = Model(input, x)\n",
        "  \n",
        "  return model"
      ],
      "execution_count": 5,
      "outputs": []
    },
    {
      "cell_type": "code",
      "metadata": {
        "id": "2ILXsJLE1Ia-"
      },
      "source": [
        "def accuracy(y_true, y_pred):\n",
        "    y = bck.cast(y_pred < 0.5, y_true.dtype)\n",
        "    x = bck.equal(y_true, y)\n",
        "    return bck.mean(x)"
      ],
      "execution_count": 6,
      "outputs": []
    },
    {
      "cell_type": "code",
      "metadata": {
        "id": "xkh3baT9iI6R"
      },
      "source": [
        "def compute_accuracy(y_true, y_pred):\n",
        "    return np.mean((y_pred.ravel() < 0.5) == y_true)\n"
      ],
      "execution_count": 7,
      "outputs": []
    },
    {
      "cell_type": "markdown",
      "metadata": {
        "id": "UA8zQjJ8Xf9l"
      },
      "source": [
        "# Data Handling\n"
      ]
    },
    {
      "cell_type": "code",
      "metadata": {
        "id": "n8JL_gI8UB_S",
        "colab": {
          "base_uri": "https://localhost:8080/"
        },
        "outputId": "90c04976-35e2-47ec-cdb4-e77d4b94eafd"
      },
      "source": [
        "(X_train, y_train), (X_test, y_test) = mnist.load_data()"
      ],
      "execution_count": 8,
      "outputs": [
        {
          "output_type": "stream",
          "text": [
            "Downloading data from https://storage.googleapis.com/tensorflow/tf-keras-datasets/mnist.npz\n",
            "11493376/11490434 [==============================] - 0s 0us/step\n"
          ],
          "name": "stdout"
        }
      ]
    },
    {
      "cell_type": "code",
      "metadata": {
        "id": "LutWeq4BUUtH"
      },
      "source": [
        "X_train = X_train.reshape(X_train.shape[0], 28, 28,1).astype('float32')/255\n",
        "X_test = X_test.reshape(X_test.shape[0], 28, 28, 1).astype('float32')/255\n"
      ],
      "execution_count": 9,
      "outputs": []
    },
    {
      "cell_type": "markdown",
      "metadata": {
        "id": "7fsjulZQdPCY"
      },
      "source": [
        "# Using different loss functions"
      ]
    },
    {
      "cell_type": "markdown",
      "metadata": {
        "id": "bJ8R9tldN7m7"
      },
      "source": [
        "## Contrastive loss"
      ]
    },
    {
      "cell_type": "code",
      "metadata": {
        "id": "VoOW3AvoSKhR"
      },
      "source": [
        "\n",
        "def contrastive_loss(ground_truth, y_pred):\n",
        "  margin_square = bck.square(bck.maximum(1 - y_pred, 0))\n",
        "  gt_bar = 1 - ground_truth\n",
        "  ret = bck.square(y_pred) * ground_truth +  margin_square * gt_bar\n",
        "  return bck.mean(ret)\n",
        "\n"
      ],
      "execution_count": 10,
      "outputs": []
    },
    {
      "cell_type": "code",
      "metadata": {
        "id": "IwsCadQviI6T"
      },
      "source": [
        "def Siamese():\n",
        "  \n",
        "    input1 ,input2 = ly.Input(shape=(28,28,1)) , ly.Input(shape=(28,28,1))\n",
        "    \n",
        "    Model_input = [input1,input2]\n",
        "    base_model = get_base_model((28,28,1))\n",
        "    d1,d2 = base_model(input1) , base_model(input2)\n",
        "    oa=(lambda shapes: (shapes[0][0],1))\n",
        "    distance = ly.Lambda(eu_dist,output_shape=oa)([d1, d2])\n",
        "    model = Model(Model_input, distance)\n",
        "\n",
        "    return model"
      ],
      "execution_count": 60,
      "outputs": []
    },
    {
      "cell_type": "code",
      "metadata": {
        "id": "8WD8soDJraw7"
      },
      "source": [
        "model1 = Siamese()\n",
        "model1.compile(loss=contrastive_loss, metrics=[accuracy])"
      ],
      "execution_count": 61,
      "outputs": []
    },
    {
      "cell_type": "code",
      "metadata": {
        "id": "nRgWC9i0iI6S"
      },
      "source": [
        "(train_pairs, train_y),(test_pairs, test_y) = make_pairs(X_train, y_train) , make_pairs(X_test, y_test)\n",
        "input_for_test = [test_pairs[:, 0], test_pairs[:, 1]]\n",
        "input_for_train = [train_pairs[:, 0], train_pairs[:, 1]] "
      ],
      "execution_count": 62,
      "outputs": []
    },
    {
      "cell_type": "code",
      "metadata": {
        "id": "hwuvSWMJiI6T"
      },
      "source": [
        "model1.fit(input_for_train, train_y, batch_size=128, epochs=10)"
      ],
      "execution_count": null,
      "outputs": []
    },
    {
      "cell_type": "code",
      "metadata": {
        "id": "-eLWFRIer0ub",
        "colab": {
          "base_uri": "https://localhost:8080/"
        },
        "outputId": "bcc03062-302b-46f5-ef82-263319c7390a"
      },
      "source": [
        "print(f\"Train Accuracy:{( compute_accuracy(train_y, model1.predict(input_for_train)))}\")\n",
        "print(f\"Test Accuracy:{(compute_accuracy(test_y, model1.predict(input_for_test)))}\")"
      ],
      "execution_count": 15,
      "outputs": [
        {
          "output_type": "stream",
          "text": [
            "Train Accuracy:0.9969557195571955\n",
            "Test Accuracy:0.9902356902356902\n"
          ],
          "name": "stdout"
        }
      ]
    },
    {
      "cell_type": "markdown",
      "metadata": {
        "id": "Q674VeQbdDvR"
      },
      "source": [
        "## Triplet loss"
      ]
    },
    {
      "cell_type": "code",
      "metadata": {
        "id": "q5H6e8o5S1Wf"
      },
      "source": [
        "class TripletLoss(ly.Layer):\n",
        " \n",
        "    def __init__(self):\n",
        "        super().__init__()\n",
        "        \n",
        " \n",
        "    def call(self, x):\n",
        "        margin = 0.2\n",
        "        anc,p,n = x\n",
        "        loss = bck.maximum((bck.sum(bck.square(anc-p),axis=1)-bck.sum(bck.square(anc-n),axis=1)+margin),0.0)\n",
        "        return loss"
      ],
      "execution_count": 45,
      "outputs": []
    },
    {
      "cell_type": "code",
      "metadata": {
        "id": "eawyVF5N0DH3"
      },
      "source": [
        "def get_image(label, X, y):\n",
        "    idx = np.random.randint(len(y))\n",
        "    while y[idx] != label:\n",
        "        idx = np.random.randint(len(y))\n",
        "    return X[idx]\n",
        "    \n",
        "def get_triplet(X,y):\n",
        "    n = a = np.random.randint(10)\n",
        "    while n == a:\n",
        "        n = np.random.randint(10)\n",
        "    a, p = get_image(a, X, y), get_image(a, X, y)\n",
        "    n = get_image(n,  X, y)\n",
        "    return a, p, n\n",
        "\n",
        "def generate_triplets(X,y,batch_size):\n",
        "    while 1:\n",
        "        list_a,list_p, list_n = [], [] ,[]\n",
        "       \n",
        "\n",
        "        for i in range(batch_size):\n",
        "            triplets = get_triplet(X,y)\n",
        "            list_a.append(triplets[0])\n",
        "            list_p.append(triplets[1])\n",
        "            list_n.append(triplets[2])\n",
        "            \n",
        "        A, P, N = np.array(list_a, dtype='float32'),np.array(list_p, dtype='float32'),np.array(list_n, dtype='float32')\n",
        "        label = np.ones(batch_size)\n",
        "        yield [A, P, N], label"
      ],
      "execution_count": 46,
      "outputs": []
    },
    {
      "cell_type": "code",
      "metadata": {
        "id": "JhjsQO_40D5v"
      },
      "source": [
        "def identity_loss(y_true, y_pred):\n",
        "    return bck.mean(y_pred)\n"
      ],
      "execution_count": 47,
      "outputs": []
    },
    {
      "cell_type": "code",
      "metadata": {
        "id": "DaIzYXBE0KRf"
      },
      "source": [
        "def get_triplet_model():\n",
        "  base_model = get_base_model((28,28,1))\n",
        "  input_1, input_2,input_3  = ly.Input((28,28,1)), ly.Input((28,28,1)), ly.Input((28,28,1))\n",
        "      \n",
        "  anchor,positive,negative = base_model(input_1),base_model(input_2),base_model(input_3)\n",
        "\n",
        "  loss = TripletLoss()([anchor, positive, negative]) \n",
        "  model = Model(inputs=[input_1, input_2, input_3], outputs=loss)\n",
        "  \n",
        "  return model"
      ],
      "execution_count": 48,
      "outputs": []
    },
    {
      "cell_type": "code",
      "metadata": {
        "id": "aWvrOGgaE7M8"
      },
      "source": [
        "model = get_triplet_model()\n",
        "model.compile(loss=identity_loss)"
      ],
      "execution_count": 49,
      "outputs": []
    },
    {
      "cell_type": "code",
      "metadata": {
        "id": "zK1ZmyTrFl6D"
      },
      "source": [
        "train_generator = generate_triplets(X_train, y_train,128)\n",
        "test_generator = generate_triplets(X_test, y_test,128)"
      ],
      "execution_count": 50,
      "outputs": []
    },
    {
      "cell_type": "code",
      "metadata": {
        "colab": {
          "base_uri": "https://localhost:8080/"
        },
        "id": "80auxdXP0XNa",
        "outputId": "51666345-9a9d-4e31-8d57-84981f466ac6"
      },
      "source": [
        "history = model.fit(train_generator, \n",
        "                    validation_data=test_generator, \n",
        "                    epochs=10,steps_per_epoch=20, \n",
        "                    validation_steps=30)"
      ],
      "execution_count": 51,
      "outputs": [
        {
          "output_type": "stream",
          "text": [
            "Epoch 1/10\n",
            "20/20 [==============================] - 3s 80ms/step - loss: 0.2124 - val_loss: 0.1770\n",
            "Epoch 2/10\n",
            "20/20 [==============================] - 1s 71ms/step - loss: 0.1740 - val_loss: 0.1429\n",
            "Epoch 3/10\n",
            "20/20 [==============================] - 1s 69ms/step - loss: 0.1450 - val_loss: 0.0863\n",
            "Epoch 4/10\n",
            "20/20 [==============================] - 1s 71ms/step - loss: 0.1048 - val_loss: 0.0770\n",
            "Epoch 5/10\n",
            "20/20 [==============================] - 1s 70ms/step - loss: 0.0851 - val_loss: 0.0507\n",
            "Epoch 6/10\n",
            "20/20 [==============================] - 1s 69ms/step - loss: 0.0689 - val_loss: 0.0426\n",
            "Epoch 7/10\n",
            "20/20 [==============================] - 1s 69ms/step - loss: 0.0644 - val_loss: 0.0406\n",
            "Epoch 8/10\n",
            "20/20 [==============================] - 1s 71ms/step - loss: 0.0586 - val_loss: 0.0316\n",
            "Epoch 9/10\n",
            "20/20 [==============================] - 1s 70ms/step - loss: 0.0516 - val_loss: 0.0283\n",
            "Epoch 10/10\n",
            "20/20 [==============================] - 1s 70ms/step - loss: 0.0493 - val_loss: 0.0245\n"
          ],
          "name": "stdout"
        }
      ]
    },
    {
      "cell_type": "code",
      "metadata": {
        "id": "96O27WyGaz3d"
      },
      "source": [
        ""
      ],
      "execution_count": null,
      "outputs": []
    },
    {
      "cell_type": "markdown",
      "metadata": {
        "id": "Rao8uxR1dCdc"
      },
      "source": [
        "## Cross Entropy Loss"
      ]
    },
    {
      "cell_type": "code",
      "metadata": {
        "id": "clriQn7Ldkyn"
      },
      "source": [
        "model3 = Siamese()\n",
        "model3.compile(loss=losses.binary_crossentropy, metrics=[accuracy])"
      ],
      "execution_count": 53,
      "outputs": []
    },
    {
      "cell_type": "code",
      "metadata": {
        "id": "bw0_VpSMdkyn"
      },
      "source": [
        "(train_pairs, train_y),(test_pairs, test_y) = make_pairs(X_train, y_train) , make_pairs(X_test, y_test)\n",
        "input_for_test = [test_pairs[:, 0], test_pairs[:, 1]]\n",
        "input_for_train = [train_pairs[:, 0], train_pairs[:, 1]] "
      ],
      "execution_count": 54,
      "outputs": []
    },
    {
      "cell_type": "code",
      "metadata": {
        "colab": {
          "base_uri": "https://localhost:8080/"
        },
        "id": "3C19LxTVdkyo",
        "outputId": "a8c41a6f-8ec2-4438-c971-2b3eb2878c72"
      },
      "source": [
        "model1.fit(input_for_train, train_y, batch_size=128, epochs=10)"
      ],
      "execution_count": 55,
      "outputs": [
        {
          "output_type": "stream",
          "text": [
            "Epoch 1/10\n",
            "847/847 [==============================] - 7s 8ms/step - loss: 0.7290 - accuracy: 0.5000\n",
            "Epoch 2/10\n",
            "847/847 [==============================] - 6s 8ms/step - loss: 0.7077 - accuracy: 0.4989\n",
            "Epoch 3/10\n",
            "847/847 [==============================] - 6s 8ms/step - loss: 0.7074 - accuracy: 0.5003\n",
            "Epoch 4/10\n",
            "847/847 [==============================] - 6s 8ms/step - loss: 0.7070 - accuracy: 0.5001\n",
            "Epoch 5/10\n",
            "847/847 [==============================] - 6s 8ms/step - loss: 0.7055 - accuracy: 0.5000\n",
            "Epoch 6/10\n",
            "847/847 [==============================] - 6s 8ms/step - loss: 0.7053 - accuracy: 0.4981\n",
            "Epoch 7/10\n",
            "847/847 [==============================] - 6s 8ms/step - loss: 0.7043 - accuracy: 0.4985\n",
            "Epoch 8/10\n",
            "847/847 [==============================] - 6s 8ms/step - loss: 0.7045 - accuracy: 0.5018\n",
            "Epoch 9/10\n",
            "847/847 [==============================] - 6s 7ms/step - loss: 0.7037 - accuracy: 0.4975\n",
            "Epoch 10/10\n",
            "847/847 [==============================] - 6s 7ms/step - loss: 0.7043 - accuracy: 0.5021\n"
          ],
          "name": "stdout"
        },
        {
          "output_type": "execute_result",
          "data": {
            "text/plain": [
              "<tensorflow.python.keras.callbacks.History at 0x7f06f23e9a50>"
            ]
          },
          "metadata": {
            "tags": []
          },
          "execution_count": 55
        }
      ]
    },
    {
      "cell_type": "code",
      "metadata": {
        "colab": {
          "base_uri": "https://localhost:8080/"
        },
        "id": "WRwjL8e7dkyp",
        "outputId": "b87ebfb8-e917-48ca-a576-187944d53d73"
      },
      "source": [
        "print(f\"Train Accuracy:{( compute_accuracy(train_y, model1.predict(input_for_train)))}\")\n",
        "print(f\"Test Accuracy:{(compute_accuracy(test_y, model1.predict(input_for_test)))}\")"
      ],
      "execution_count": 56,
      "outputs": [
        {
          "output_type": "stream",
          "text": [
            "Train Accuracy:0.5\n",
            "Test Accuracy:0.5\n"
          ],
          "name": "stdout"
        }
      ]
    },
    {
      "cell_type": "markdown",
      "metadata": {
        "id": "2zcksNMbC8mJ"
      },
      "source": [
        "# Using different gradient descent optimisers\n",
        "\n"
      ]
    },
    {
      "cell_type": "markdown",
      "metadata": {
        "id": "az2kf7NqEc41"
      },
      "source": [
        "## Adam"
      ]
    },
    {
      "cell_type": "code",
      "metadata": {
        "id": "3tEF1iJZEb9_"
      },
      "source": [
        "import tensorflow.keras.optimizers as opt"
      ],
      "execution_count": null,
      "outputs": []
    },
    {
      "cell_type": "code",
      "metadata": {
        "id": "gZXHLm0WC7GW"
      },
      "source": [
        "ad = opt.Adam()\n",
        "\n",
        "model_adam = Siamese()\n",
        "\n",
        "model_adam.compile(optimizer=ad, loss=contrastive_loss,metrics=[accuracy])"
      ],
      "execution_count": null,
      "outputs": []
    },
    {
      "cell_type": "code",
      "metadata": {
        "colab": {
          "base_uri": "https://localhost:8080/"
        },
        "id": "5oUnrK2_Gqn-",
        "outputId": "17887ccf-b8be-44d3-bdcd-0c73cbf88d55"
      },
      "source": [
        "history_adam = model_adam.fit(input_for_train, train_y, batch_size=128, epochs=10)"
      ],
      "execution_count": null,
      "outputs": [
        {
          "output_type": "stream",
          "text": [
            "Epoch 1/10\n",
            "847/847 [==============================] - 7s 7ms/step - loss: 0.1759 - accuracy: 0.7205\n",
            "Epoch 2/10\n",
            "847/847 [==============================] - 6s 7ms/step - loss: 0.0367 - accuracy: 0.9709\n",
            "Epoch 3/10\n",
            "847/847 [==============================] - 6s 7ms/step - loss: 0.0179 - accuracy: 0.9858\n",
            "Epoch 4/10\n",
            "847/847 [==============================] - 6s 7ms/step - loss: 0.0131 - accuracy: 0.9885\n",
            "Epoch 5/10\n",
            "847/847 [==============================] - 6s 7ms/step - loss: 0.0105 - accuracy: 0.9908\n",
            "Epoch 6/10\n",
            "847/847 [==============================] - 6s 7ms/step - loss: 0.0097 - accuracy: 0.9913\n",
            "Epoch 7/10\n",
            "847/847 [==============================] - 6s 7ms/step - loss: 0.0086 - accuracy: 0.9925\n",
            "Epoch 8/10\n",
            "847/847 [==============================] - 6s 7ms/step - loss: 0.0086 - accuracy: 0.9920\n",
            "Epoch 9/10\n",
            "847/847 [==============================] - 6s 7ms/step - loss: 0.0082 - accuracy: 0.9929\n",
            "Epoch 10/10\n",
            "847/847 [==============================] - 6s 7ms/step - loss: 0.0067 - accuracy: 0.9941\n"
          ],
          "name": "stdout"
        }
      ]
    },
    {
      "cell_type": "code",
      "metadata": {
        "colab": {
          "base_uri": "https://localhost:8080/"
        },
        "id": "TELJK4cGb9g_",
        "outputId": "5c459017-6182-4e4e-a913-b230dc2ddb4e"
      },
      "source": [
        "\n",
        "print(f\"Test Accuracy:{(compute_accuracy(test_y, model_adam.predict(input_for_test)))}\")"
      ],
      "execution_count": null,
      "outputs": [
        {
          "output_type": "stream",
          "text": [
            "Test Accuracy:0.9925925925925926\n"
          ],
          "name": "stdout"
        }
      ]
    },
    {
      "cell_type": "markdown",
      "metadata": {
        "id": "jc9W4NByHIhR"
      },
      "source": [
        "## RMSProp"
      ]
    },
    {
      "cell_type": "code",
      "metadata": {
        "id": "1FK0c1lCHOP7"
      },
      "source": [
        "rmsprop = opt.RMSprop()\n",
        "model_rms = Siamese()\n",
        "model_rms.compile(optimizer=rmsprop, loss=contrastive_loss,metrics=[accuracy])"
      ],
      "execution_count": null,
      "outputs": []
    },
    {
      "cell_type": "code",
      "metadata": {
        "colab": {
          "base_uri": "https://localhost:8080/"
        },
        "id": "y4J4pRGVHYPp",
        "outputId": "97a13f0b-d34f-46ef-8f96-e1deb3c70ac2"
      },
      "source": [
        "history_rms = model_rms.fit(input_for_train, train_y, batch_size=128, epochs=10)"
      ],
      "execution_count": null,
      "outputs": [
        {
          "output_type": "stream",
          "text": [
            "Epoch 1/10\n",
            "847/847 [==============================] - 7s 7ms/step - loss: 0.1619 - accuracy: 0.7526\n",
            "Epoch 2/10\n",
            "847/847 [==============================] - 6s 7ms/step - loss: 0.0235 - accuracy: 0.9819\n",
            "Epoch 3/10\n",
            "847/847 [==============================] - 6s 7ms/step - loss: 0.0132 - accuracy: 0.9874\n",
            "Epoch 4/10\n",
            "847/847 [==============================] - 6s 7ms/step - loss: 0.0114 - accuracy: 0.9882\n",
            "Epoch 5/10\n",
            "847/847 [==============================] - 6s 7ms/step - loss: 0.0099 - accuracy: 0.9900\n",
            "Epoch 6/10\n",
            "847/847 [==============================] - 6s 7ms/step - loss: 0.0086 - accuracy: 0.9908\n",
            "Epoch 7/10\n",
            "847/847 [==============================] - 6s 7ms/step - loss: 0.0082 - accuracy: 0.9917\n",
            "Epoch 8/10\n",
            "847/847 [==============================] - 6s 7ms/step - loss: 0.0085 - accuracy: 0.9907\n",
            "Epoch 9/10\n",
            "847/847 [==============================] - 6s 7ms/step - loss: 0.0086 - accuracy: 0.9911\n",
            "Epoch 10/10\n",
            "847/847 [==============================] - 6s 7ms/step - loss: 0.0087 - accuracy: 0.9906\n"
          ],
          "name": "stdout"
        }
      ]
    },
    {
      "cell_type": "code",
      "metadata": {
        "colab": {
          "base_uri": "https://localhost:8080/"
        },
        "id": "1gJ_1Y7AcCti",
        "outputId": "c9f77f60-4fa6-4b03-cf3f-f0857b6e6e1d"
      },
      "source": [
        "print(f\"Test Accuracy:{(compute_accuracy(test_y, model_rms.predict(input_for_test)))}\")"
      ],
      "execution_count": null,
      "outputs": [
        {
          "output_type": "stream",
          "text": [
            "Test Accuracy:0.9904601571268238\n"
          ],
          "name": "stdout"
        }
      ]
    },
    {
      "cell_type": "markdown",
      "metadata": {
        "id": "gUhFw8prjflU"
      },
      "source": [
        "## Mini Btach"
      ]
    },
    {
      "cell_type": "code",
      "metadata": {
        "id": "_L_YXmCfjeuM"
      },
      "source": [
        "sgd = opt.SGD()\n",
        "model_sgd = Siamese()\n",
        "model_sgd.compile(optimizer=sgd, loss=contrastive_loss,metrics=[accuracy])"
      ],
      "execution_count": null,
      "outputs": []
    },
    {
      "cell_type": "code",
      "metadata": {
        "colab": {
          "base_uri": "https://localhost:8080/"
        },
        "id": "fcARssjTjeuy",
        "outputId": "02d0da16-c346-4d89-e2f5-e32ae021470f"
      },
      "source": [
        "history_rms = model_sgd.fit(input_for_train, train_y, batch_size=64, epochs=10)"
      ],
      "execution_count": null,
      "outputs": [
        {
          "output_type": "stream",
          "text": [
            "Epoch 1/10\n",
            "1694/1694 [==============================] - 9s 5ms/step - loss: 0.2593 - accuracy: 0.5084\n",
            "Epoch 2/10\n",
            "1694/1694 [==============================] - 8s 5ms/step - loss: 0.2305 - accuracy: 0.6065\n",
            "Epoch 3/10\n",
            "1694/1694 [==============================] - 8s 5ms/step - loss: 0.1987 - accuracy: 0.6935\n",
            "Epoch 4/10\n",
            "1694/1694 [==============================] - 8s 5ms/step - loss: 0.1717 - accuracy: 0.7546\n",
            "Epoch 5/10\n",
            "1694/1694 [==============================] - 8s 5ms/step - loss: 0.1463 - accuracy: 0.8078\n",
            "Epoch 6/10\n",
            "1694/1694 [==============================] - 8s 5ms/step - loss: 0.1300 - accuracy: 0.8363\n",
            "Epoch 7/10\n",
            "1694/1694 [==============================] - 8s 5ms/step - loss: 0.1203 - accuracy: 0.8519\n",
            "Epoch 8/10\n",
            "1694/1694 [==============================] - 8s 5ms/step - loss: 0.1110 - accuracy: 0.8697\n",
            "Epoch 9/10\n",
            "1694/1694 [==============================] - 8s 5ms/step - loss: 0.1048 - accuracy: 0.8779\n",
            "Epoch 10/10\n",
            "1694/1694 [==============================] - 8s 5ms/step - loss: 0.0992 - accuracy: 0.8871\n"
          ],
          "name": "stdout"
        }
      ]
    },
    {
      "cell_type": "code",
      "metadata": {
        "colab": {
          "base_uri": "https://localhost:8080/"
        },
        "id": "iLD11DILjeuz",
        "outputId": "99cf81e5-6962-4699-971d-7286258d8ef8"
      },
      "source": [
        "print(f\"Test Accuracy:{(compute_accuracy(test_y, model_sgd.predict(input_for_test)))}\")"
      ],
      "execution_count": null,
      "outputs": [
        {
          "output_type": "stream",
          "text": [
            "Test Accuracy:0.9225028058361392\n"
          ],
          "name": "stdout"
        }
      ]
    },
    {
      "cell_type": "markdown",
      "metadata": {
        "id": "pGzjKIB6Hy_q"
      },
      "source": [
        "# Hyperparameter Optimisation"
      ]
    },
    {
      "cell_type": "code",
      "metadata": {
        "id": "nkbcbFUWHylG"
      },
      "source": [
        "\n",
        "import keras.optimizers.schedules as schedules\n",
        "lr_scheduler = schedules.InverseTimeDecay(\n",
        "                                            decay_steps=100000,\n",
        "                                            initial_learning_rate=1e-3,\n",
        "                                            decay_rate=0.5\n",
        "                                          )"
      ],
      "execution_count": null,
      "outputs": []
    },
    {
      "cell_type": "code",
      "metadata": {
        "id": "5VBOzQrLIHk2"
      },
      "source": [
        "ad = opt.Adam(learning_rate=lr_scheduler)\n",
        "\n",
        "model_adam2 = Siamese()\n",
        "\n",
        "model_adam2.compile(optimizer=ad, loss=contrastive_loss,metrics=[accuracy])"
      ],
      "execution_count": null,
      "outputs": []
    },
    {
      "cell_type": "code",
      "metadata": {
        "colab": {
          "base_uri": "https://localhost:8080/"
        },
        "id": "sx5VG5yFIaO7",
        "outputId": "e820754d-e46c-4b1e-d5be-e66355470ca5"
      },
      "source": [
        "history_adam2 = model_adam2.fit(input_for_train, train_y, batch_size=128, epochs=10)"
      ],
      "execution_count": null,
      "outputs": [
        {
          "output_type": "stream",
          "text": [
            "Epoch 1/10\n",
            "847/847 [==============================] - 7s 7ms/step - loss: 0.1753 - accuracy: 0.7232\n",
            "Epoch 2/10\n",
            "847/847 [==============================] - 6s 7ms/step - loss: 0.0385 - accuracy: 0.9678\n",
            "Epoch 3/10\n",
            "847/847 [==============================] - 6s 7ms/step - loss: 0.0181 - accuracy: 0.9852\n",
            "Epoch 4/10\n",
            "847/847 [==============================] - 6s 7ms/step - loss: 0.0123 - accuracy: 0.9895\n",
            "Epoch 5/10\n",
            "847/847 [==============================] - 6s 7ms/step - loss: 0.0109 - accuracy: 0.9902\n",
            "Epoch 6/10\n",
            "847/847 [==============================] - 6s 7ms/step - loss: 0.0100 - accuracy: 0.9906\n",
            "Epoch 7/10\n",
            "847/847 [==============================] - 6s 7ms/step - loss: 0.0090 - accuracy: 0.9915\n",
            "Epoch 8/10\n",
            "847/847 [==============================] - 6s 7ms/step - loss: 0.0079 - accuracy: 0.9923\n",
            "Epoch 9/10\n",
            "847/847 [==============================] - 6s 7ms/step - loss: 0.0074 - accuracy: 0.9930\n",
            "Epoch 10/10\n",
            "847/847 [==============================] - 6s 7ms/step - loss: 0.0070 - accuracy: 0.9932\n"
          ],
          "name": "stdout"
        }
      ]
    },
    {
      "cell_type": "code",
      "metadata": {
        "id": "pBNbzA27cG_C",
        "colab": {
          "base_uri": "https://localhost:8080/"
        },
        "outputId": "76be9162-5a43-402a-b37d-371b5df54f73"
      },
      "source": [
        "\n",
        "print(f\"Test Accuracy:{(compute_accuracy(test_y, model_adam2.predict(input_for_test)))}\")"
      ],
      "execution_count": null,
      "outputs": [
        {
          "output_type": "stream",
          "text": [
            "Test Accuracy:0.9912457912457913\n"
          ],
          "name": "stdout"
        }
      ]
    },
    {
      "cell_type": "markdown",
      "metadata": {
        "id": "cYstT5vp8bpz"
      },
      "source": [
        "# Pros and Cons\n",
        "\n",
        "- More Robust to class Imbalance problems\n",
        "- Make use of relationships, using more data\n",
        "- Siamese focuses on learning embeddings (in the deeper layer) that place the same classes/concepts close together. Hence, can learn semantic similarity.\n",
        " \n",
        "### Disadvantages:\n",
        "- As it operates on pairs of training samples per class, requires more training time.\n",
        "- It provides output in the form of distance from each class, not the probability of a test sample to belong to a class."
      ]
    }
  ]
}